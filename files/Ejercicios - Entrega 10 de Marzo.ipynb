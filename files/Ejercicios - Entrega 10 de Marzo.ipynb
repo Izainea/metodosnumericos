{
 "cells": [
  {
   "cell_type": "markdown",
   "id": "impressive-regular",
   "metadata": {},
   "source": [
    "## Primer Taller\n",
    "\n",
    "Resuelva los siguientes retos utilizando el paquete `ipywidgets`y los materiales de la clase. La entrega de la solución a cada reto debe hcerse por medio de un cuaderno creado en jupyter donde explicaran los diferentes detalles de su respuesta. Se tendrá en cuenta la similaridad de su solución con las de sus compañeros, si se  puede comprobar copia los dos trabajos serán eliminados. Así mismo toda solución tomada de internet será invalidada. Mucha suerte:\n"
   ]
  },
  {
   "cell_type": "markdown",
   "id": "advanced-passport",
   "metadata": {},
   "source": [
    "## 1.Clase de Mascotas\n",
    "\n",
    "En una estética de mascotas entender la dinámica de nuestros clientes es fundamental para nuestro negocio, por eso, requerimos un software que registre todas las actividades de nuestros peluditos. De hecho, cada uno debe ser la instancia de una clase que llamamos `mascotas` y en esa instancia necesitamos registrar información acerca de su especie (gato,perro), raza, edad, enfermedades, fecha de baños, fecha estimada de nacimiento y comida preferida. Adicionalmente, cada vez que uno de esos peluditos pase por aquí y se tome un baño hay que ejecutar una función que actualice la información. \n",
    "\n",
    "El objetivo de este primer reto es crear una clase lo suficientemente buena para tratar con esta información, si usa una herramienta interactiva para aplicar los métodos de esta clase tendrá puntos extra."
   ]
  },
  {
   "cell_type": "markdown",
   "id": "worst-joseph",
   "metadata": {},
   "source": [
    "## 2. Juego de la vida\n",
    "\n",
    "El matemático británico John Conway fue uno de esos brillantes genios que se llevo el COVID-19. En homenaje a su legado crearemos una animación que simule su famoso juego de la vida, ese juego es uno de los primeros ejemplos de autómatas celulares que se concibieron en el planeta y consiste en lo siguiente:\n",
    "\n",
    "Consideramos una malla que contenga celulas vivas o muertas, algo así:\n",
    "\n",
    "\n",
    "![jv](https://upload.wikimedia.org/wikipedia/commons/2/25/Game_of_life_infinite1.png)\n",
    "\n",
    "\n",
    "En esa malla un espacio vació se puede representar como una celula muerta y el espacio relleno como una célula viva. Usted puede simplificar esta representación como una matriz de 0's (para las células muertas) y 1's (para las células vivas). Cada vez que transcurre una unidad de tiempo el entramado de células vivas cambia segun las siguientes condiciones:\n",
    "\n",
    "1. Si una célula muerta tiene exactamente 3 de sus 8 vecinas vivas, la célula revive.\n",
    "2. Si una célula viva tiene exactamente 2 o 3 celulas vecinas vivas la célula seguira viviendo, de lo contrario morira por superpoblación (si tiene cuatro o más células vecinas vivas) o por soledad (si tiene 0 o 1 vecina viva).\n",
    "\n",
    "Usando el widget [play de `ipywidgets`](https://ipywidgets.readthedocs.io/en/latest/examples/Widget%20List.html#Play-(Animation)-widget) cree una animación del juego de la vida para una grilla de $8 \\times 8$ con estados (matrices) iniciales aleatorias."
   ]
  },
  {
   "cell_type": "markdown",
   "id": "muslim-publisher",
   "metadata": {},
   "source": [
    "## 3. Claves Seguras\n",
    "\n",
    "Usando el widget de [texto de ipywidgets](https://ipywidgets.readthedocs.io/en/latest/examples/Widget%20List.html#Text) cree una miniaplicación que guarde un usuario, una contraseña y una frase secreta  y que sea capaz de decidir si su  clave es lo suficientemente segura. Cree otro modulo interactivo que permita entrar con ese usuario y contraseña, si la persona erra varias veces incluya un mensaje que indique que puede recuperar su contraseña recordando la frase secreta."
   ]
  }
 ],
 "metadata": {
  "kernelspec": {
   "display_name": "Python 3",
   "language": "python",
   "name": "python3"
  },
  "language_info": {
   "codemirror_mode": {
    "name": "ipython",
    "version": 3
   },
   "file_extension": ".py",
   "mimetype": "text/x-python",
   "name": "python",
   "nbconvert_exporter": "python",
   "pygments_lexer": "ipython3",
   "version": "3.8.5"
  }
 },
 "nbformat": 4,
 "nbformat_minor": 5
}

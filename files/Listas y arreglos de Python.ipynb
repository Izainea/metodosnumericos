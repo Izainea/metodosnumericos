{
 "cells": [
  {
   "cell_type": "markdown",
   "metadata": {},
   "source": [
    "# Listas en Python\n",
    "\n",
    "*Carlos Isaac Zainea Maya*\n",
    "\n",
    "Una lista es una estructura de datos en Python conformada como una secuencia de elementos ordenada y modificable. Cada elemento o valor que está dentro de una lista se llama elemento. Así como las cadenas se definen como caracteres entre comillas, las listas se definen teniendo sus elementos entre corchetes `[ ... ]` y separandolos con comas  `,`.\n",
    "\n",
    "\n",
    "\n"
   ]
  },
  {
   "cell_type": "markdown",
   "metadata": {},
   "source": [
    "**Ejemplo 1** *(días de la semana)* Una lista que contengan los días de la semana."
   ]
  },
  {
   "cell_type": "code",
   "execution_count": 1,
   "metadata": {},
   "outputs": [],
   "source": [
    "Dias=[\"Lunes\",\"Martes\",\"Miércoles\",\"Jueves\",\"Viernes\",\"Sábado\",\"Domingo\"]"
   ]
  },
  {
   "cell_type": "code",
   "execution_count": 2,
   "metadata": {},
   "outputs": [
    {
     "data": {
      "text/plain": [
       "['Lunes', 'Martes', 'Miércoles', 'Jueves', 'Viernes', 'Sábado', 'Domingo']"
      ]
     },
     "execution_count": 2,
     "metadata": {},
     "output_type": "execute_result"
    }
   ],
   "source": [
    "Dias"
   ]
  },
  {
   "cell_type": "markdown",
   "metadata": {},
   "source": [
    "**Ejemplo 2** *(frutas y verduras)* Haga una lista de frutas y verduras:"
   ]
  },
  {
   "cell_type": "code",
   "execution_count": 22,
   "metadata": {},
   "outputs": [],
   "source": [
    "FV=[\"Fresas\",\"Papaya\",\"Limón\",\"Brocoli\",\"Acelgas\",\"Espinacas\"]"
   ]
  },
  {
   "cell_type": "code",
   "execution_count": 4,
   "metadata": {},
   "outputs": [
    {
     "data": {
      "text/plain": [
       "['Fresas', 'Papaya', 'Limón', 'Brocoli', 'Acelgas', 'Espinacas']"
      ]
     },
     "execution_count": 4,
     "metadata": {},
     "output_type": "execute_result"
    }
   ],
   "source": [
    "FV"
   ]
  },
  {
   "cell_type": "code",
   "execution_count": 5,
   "metadata": {},
   "outputs": [
    {
     "data": {
      "text/plain": [
       "list"
      ]
     },
     "execution_count": 5,
     "metadata": {},
     "output_type": "execute_result"
    }
   ],
   "source": [
    "type(FV)"
   ]
  },
  {
   "cell_type": "code",
   "execution_count": 6,
   "metadata": {},
   "outputs": [
    {
     "name": "stdout",
     "output_type": "stream",
     "text": [
      "['Fresas', 'Papaya', 'Limón', 'Brocoli', 'Acelgas', 'Espinacas']\n"
     ]
    }
   ],
   "source": [
    "print(FV)"
   ]
  },
  {
   "cell_type": "markdown",
   "metadata": {},
   "source": [
    "## Explorar listas\n",
    "\n",
    "Usamos paréntesis cuadrados para indicar el índice del elemento de la lista que queremos llamar, el conteo siempre inicia en 0. Por ejemplo, el primer, el tercer y el cuarto elemento de la lista `FV` se designan:"
   ]
  },
  {
   "cell_type": "code",
   "execution_count": 7,
   "metadata": {},
   "outputs": [
    {
     "name": "stdout",
     "output_type": "stream",
     "text": [
      "Primer elemento:  Fresas\n",
      "Tercer elemento:  Limón\n",
      "Cuarto elemento:  Brocoli\n"
     ]
    }
   ],
   "source": [
    "print(\"Primer elemento: \",FV[0])\n",
    "print(\"Tercer elemento: \",FV[2])\n",
    "print(\"Cuarto elemento: \",FV[3])"
   ]
  },
  {
   "cell_type": "markdown",
   "metadata": {},
   "source": [
    "**Índices Negativos**\n",
    "\n",
    "Los índices negativos permiten explorar la lista desde el último elemento, así `Lista[-1]` es el último elemento de la lista, `Lista[-2]` es el penúltimo y así sucesivamente."
   ]
  },
  {
   "cell_type": "code",
   "execution_count": 8,
   "metadata": {},
   "outputs": [
    {
     "data": {
      "text/plain": [
       "'Domingo'"
      ]
     },
     "execution_count": 8,
     "metadata": {},
     "output_type": "execute_result"
    }
   ],
   "source": [
    "Dias[-1]"
   ]
  },
  {
   "cell_type": "code",
   "execution_count": 9,
   "metadata": {},
   "outputs": [
    {
     "data": {
      "text/plain": [
       "'Sábado'"
      ]
     },
     "execution_count": 9,
     "metadata": {},
     "output_type": "execute_result"
    }
   ],
   "source": [
    "Dias[-2]"
   ]
  },
  {
   "cell_type": "code",
   "execution_count": 10,
   "metadata": {},
   "outputs": [
    {
     "data": {
      "text/plain": [
       "'Viernes'"
      ]
     },
     "execution_count": 10,
     "metadata": {},
     "output_type": "execute_result"
    }
   ],
   "source": [
    "Dias[-3]"
   ]
  },
  {
   "cell_type": "markdown",
   "metadata": {},
   "source": [
    "**Rango de índices** \n",
    "\n",
    "También podemos extraer de la lista una sublista con un rango específico de indices, escribimos `Lista[i:j]`donde i representa el índice inicial del rango y j el índice final más 1. Por ejemplo, si quiero extraer de la lista `Dias` los tres días de la semana después del martes, inicio con el índice de martes (1) y termino con el índice de viernes (4):"
   ]
  },
  {
   "cell_type": "code",
   "execution_count": 11,
   "metadata": {},
   "outputs": [
    {
     "data": {
      "text/plain": [
       "['Martes', 'Miércoles', 'Jueves']"
      ]
     },
     "execution_count": 11,
     "metadata": {},
     "output_type": "execute_result"
    }
   ],
   "source": [
    "Dias[1:4]"
   ]
  },
  {
   "cell_type": "markdown",
   "metadata": {},
   "source": [
    "Si quiero extraer una lista que inicia con un índice i y termina en el final escribo `Lista[i:]`, por ejemplo: "
   ]
  },
  {
   "cell_type": "code",
   "execution_count": 12,
   "metadata": {},
   "outputs": [
    {
     "data": {
      "text/plain": [
       "['Martes', 'Jueves', 'Sábado']"
      ]
     },
     "execution_count": 12,
     "metadata": {},
     "output_type": "execute_result"
    }
   ],
   "source": [
    "Dias[1:6:2]"
   ]
  },
  {
   "cell_type": "code",
   "execution_count": 13,
   "metadata": {},
   "outputs": [],
   "source": [
    "lista0a20=range(20)"
   ]
  },
  {
   "cell_type": "code",
   "execution_count": 14,
   "metadata": {},
   "outputs": [
    {
     "data": {
      "text/plain": [
       "0"
      ]
     },
     "execution_count": 14,
     "metadata": {},
     "output_type": "execute_result"
    }
   ],
   "source": [
    "lista0a20[0]"
   ]
  },
  {
   "cell_type": "code",
   "execution_count": 15,
   "metadata": {},
   "outputs": [
    {
     "data": {
      "text/plain": [
       "1"
      ]
     },
     "execution_count": 15,
     "metadata": {},
     "output_type": "execute_result"
    }
   ],
   "source": [
    "lista0a20[1]"
   ]
  },
  {
   "cell_type": "code",
   "execution_count": 16,
   "metadata": {},
   "outputs": [
    {
     "data": {
      "text/plain": [
       "19"
      ]
     },
     "execution_count": 16,
     "metadata": {},
     "output_type": "execute_result"
    }
   ],
   "source": [
    "lista0a20[19]"
   ]
  },
  {
   "cell_type": "code",
   "execution_count": 17,
   "metadata": {},
   "outputs": [
    {
     "name": "stdout",
     "output_type": "stream",
     "text": [
      "3\n",
      "6\n",
      "9\n",
      "12\n",
      "15\n"
     ]
    }
   ],
   "source": [
    "for i in lista0a20[3:17:3]:\n",
    "    print(i)"
   ]
  },
  {
   "cell_type": "code",
   "execution_count": 18,
   "metadata": {},
   "outputs": [
    {
     "name": "stdout",
     "output_type": "stream",
     "text": [
      "El Lunes es un gran día\n",
      "El Martes es un gran día\n",
      "El Miércoles es un gran día\n",
      "El Jueves es un gran día\n",
      "El Viernes es un gran día\n",
      "El Sábado es un gran día\n",
      "El Domingo es un gran día\n"
     ]
    }
   ],
   "source": [
    "\n",
    "texto=\" es un gran día\"\n",
    "for i in Dias:\n",
    "    print(\"El \"+i+texto)"
   ]
  },
  {
   "cell_type": "code",
   "execution_count": 19,
   "metadata": {},
   "outputs": [
    {
     "data": {
      "text/plain": [
       "['Viernes', 'Sábado', 'Domingo']"
      ]
     },
     "execution_count": 19,
     "metadata": {},
     "output_type": "execute_result"
    }
   ],
   "source": [
    "Dias[-3:]"
   ]
  },
  {
   "cell_type": "markdown",
   "metadata": {},
   "source": [
    "Si por el contrario busco extraer una lista que inicia desde el principio de la lista y termina con el elemento j escribimos `Lista[:j]`"
   ]
  },
  {
   "cell_type": "code",
   "execution_count": 20,
   "metadata": {},
   "outputs": [
    {
     "data": {
      "text/plain": [
       "['Lunes', 'Martes', 'Miércoles', 'Jueves']"
      ]
     },
     "execution_count": 20,
     "metadata": {},
     "output_type": "execute_result"
    }
   ],
   "source": [
    "Dias[:4]"
   ]
  },
  {
   "cell_type": "code",
   "execution_count": 21,
   "metadata": {},
   "outputs": [
    {
     "data": {
      "text/plain": [
       "'Viernes'"
      ]
     },
     "execution_count": 21,
     "metadata": {},
     "output_type": "execute_result"
    }
   ],
   "source": [
    "Dias[4]"
   ]
  },
  {
   "cell_type": "markdown",
   "metadata": {},
   "source": [
    "## Cambio de valores\n",
    "\n",
    "Podemos cambiar los elementos de una lista haciendo una reasignación, de la lista frutas y verduras `FV` cambiaremos el Brocoli por la Calabaza:"
   ]
  },
  {
   "cell_type": "code",
   "execution_count": 22,
   "metadata": {},
   "outputs": [
    {
     "data": {
      "text/plain": [
       "['Fresas', 'Papaya', 'Limón', 'Brocoli', 'Acelgas', 'Espinacas']"
      ]
     },
     "execution_count": 22,
     "metadata": {},
     "output_type": "execute_result"
    }
   ],
   "source": [
    "FV #Veamos la lista para identificar donde está el Brocoli"
   ]
  },
  {
   "cell_type": "code",
   "execution_count": 23,
   "metadata": {},
   "outputs": [],
   "source": [
    "FV[3]='Calabaza'"
   ]
  },
  {
   "cell_type": "code",
   "execution_count": 24,
   "metadata": {},
   "outputs": [
    {
     "data": {
      "text/plain": [
       "['Fresas', 'Papaya', 'Limón', 'Calabaza', 'Acelgas', 'Espinacas']"
      ]
     },
     "execution_count": 24,
     "metadata": {},
     "output_type": "execute_result"
    }
   ],
   "source": [
    "FV"
   ]
  },
  {
   "cell_type": "markdown",
   "metadata": {},
   "source": [
    "## Operaciones elementales de las listas\n",
    "\n",
    "Entre listas y para cada una de ellas tenemos diversas operaciones. \n",
    "\n",
    "**Suma (Concatenación)**\n",
    "\n",
    "Dada la lista $L=[L_1,L_2,L_3,\\cdots,L_n]$ y la lista $M=[M_1,M_2,\\cdots, M_k]$ tenemos que:\n",
    "\n",
    "$$L+M=[L_1,L_2,L_3,\\cdots,L_n,M_1,M_2,\\cdots, M_k]$$\n",
    "\n",
    "Por ejemplo:"
   ]
  },
  {
   "cell_type": "code",
   "execution_count": 25,
   "metadata": {},
   "outputs": [
    {
     "data": {
      "text/plain": [
       "['Lunes',\n",
       " 'Martes',\n",
       " 'Miércoles',\n",
       " 'Jueves',\n",
       " 'Viernes',\n",
       " 'Sábado',\n",
       " 'Domingo',\n",
       " 'Fresas',\n",
       " 'Papaya',\n",
       " 'Limón',\n",
       " 'Calabaza',\n",
       " 'Acelgas',\n",
       " 'Espinacas']"
      ]
     },
     "execution_count": 25,
     "metadata": {},
     "output_type": "execute_result"
    }
   ],
   "source": [
    "Dias+FV"
   ]
  },
  {
   "cell_type": "code",
   "execution_count": 26,
   "metadata": {},
   "outputs": [
    {
     "data": {
      "text/plain": [
       "['Lunes', 'Martes', 'Miércoles', 'Jueves', 'Viernes', 'Sábado', 'Domingo']"
      ]
     },
     "execution_count": 26,
     "metadata": {},
     "output_type": "execute_result"
    }
   ],
   "source": [
    "Dias"
   ]
  },
  {
   "cell_type": "code",
   "execution_count": 27,
   "metadata": {},
   "outputs": [
    {
     "data": {
      "text/plain": [
       "['Fresas', 'Papaya', 'Limón', 'Calabaza', 'Acelgas', 'Espinacas']"
      ]
     },
     "execution_count": 27,
     "metadata": {},
     "output_type": "execute_result"
    }
   ],
   "source": [
    "FV"
   ]
  },
  {
   "cell_type": "code",
   "execution_count": 28,
   "metadata": {},
   "outputs": [
    {
     "data": {
      "text/plain": [
       "[1, 2, 3, 4, 2, 4, 5, 6]"
      ]
     },
     "execution_count": 28,
     "metadata": {},
     "output_type": "execute_result"
    }
   ],
   "source": [
    "[1,2,3,4]+[2,4,5,6]"
   ]
  },
  {
   "cell_type": "markdown",
   "metadata": {},
   "source": [
    "**Extender una lista**\n",
    "\n",
    "Podemos extender una lista con otra usando el comando `L1.extend(L2)`, en este caso el valor de L1 se actualizará con L1+L2.\n",
    "\n",
    "Ejemplo:\n"
   ]
  },
  {
   "cell_type": "code",
   "execution_count": 29,
   "metadata": {},
   "outputs": [
    {
     "name": "stdout",
     "output_type": "stream",
     "text": [
      "L1=  [2, 4, 6, 8]\n",
      "L2=  [1, 2, 3]\n",
      "L1.extend(L2)=  [2, 4, 6, 8, 1, 2, 3]\n",
      "L2.extend(L2)=  [1, 2, 3, 1, 2, 3]\n"
     ]
    }
   ],
   "source": [
    "L1=[2,4,6,8]\n",
    "L2=[1,2,3]\n",
    "print(\"L1= \",L1)\n",
    "print(\"L2= \",L2)\n",
    "L1.extend(L2)\n",
    "print(\"L1.extend(L2)= \",L1)\n",
    "L2.extend(L2)\n",
    "print(\"L2.extend(L2)= \",L2)"
   ]
  },
  {
   "cell_type": "code",
   "execution_count": 30,
   "metadata": {},
   "outputs": [
    {
     "data": {
      "text/plain": [
       "[2, 4, 6, 8, 1, 2, 3]"
      ]
     },
     "execution_count": 30,
     "metadata": {},
     "output_type": "execute_result"
    }
   ],
   "source": [
    "L1"
   ]
  },
  {
   "cell_type": "code",
   "execution_count": 31,
   "metadata": {},
   "outputs": [
    {
     "data": {
      "text/plain": [
       "[1, 2, 3, 1, 2, 3]"
      ]
     },
     "execution_count": 31,
     "metadata": {},
     "output_type": "execute_result"
    }
   ],
   "source": [
    "L2"
   ]
  },
  {
   "cell_type": "code",
   "execution_count": 32,
   "metadata": {},
   "outputs": [
    {
     "data": {
      "text/plain": [
       "['Fresas',\n",
       " 'Papaya',\n",
       " 'Limón',\n",
       " 'Calabaza',\n",
       " 'Acelgas',\n",
       " 'Espinacas',\n",
       " 'Papaya',\n",
       " 'Pera',\n",
       " 'Mora',\n",
       " 'Rabano',\n",
       " 'Limón']"
      ]
     },
     "execution_count": 32,
     "metadata": {},
     "output_type": "execute_result"
    }
   ],
   "source": [
    "FV.extend([\"Papaya\",\"Pera\",\"Mora\",\"Rabano\",\"Limón\"])\n",
    "FV"
   ]
  },
  {
   "cell_type": "markdown",
   "metadata": {},
   "source": [
    "**Incluir elementos al final de la lista**\n",
    "\n",
    "El comando `L.append(v)` incluirá al valor `v` al final de la lista `L`."
   ]
  },
  {
   "cell_type": "code",
   "execution_count": 33,
   "metadata": {},
   "outputs": [],
   "source": [
    "Dias.append(\"Lunes\")"
   ]
  },
  {
   "cell_type": "code",
   "execution_count": 34,
   "metadata": {},
   "outputs": [
    {
     "data": {
      "text/plain": [
       "['Lunes',\n",
       " 'Martes',\n",
       " 'Miércoles',\n",
       " 'Jueves',\n",
       " 'Viernes',\n",
       " 'Sábado',\n",
       " 'Domingo',\n",
       " 'Lunes']"
      ]
     },
     "execution_count": 34,
     "metadata": {},
     "output_type": "execute_result"
    }
   ],
   "source": [
    "Dias"
   ]
  },
  {
   "cell_type": "code",
   "execution_count": 35,
   "metadata": {},
   "outputs": [],
   "source": [
    "FV.append(\"Papaya\")\n",
    "FV.append(\"Pera\")\n",
    "FV.append(\"Mango\")\n",
    "FV.append(\"Papa\")\n",
    "FV.append(\"Limón\")"
   ]
  },
  {
   "cell_type": "code",
   "execution_count": 36,
   "metadata": {},
   "outputs": [
    {
     "data": {
      "text/plain": [
       "['Fresas',\n",
       " 'Papaya',\n",
       " 'Limón',\n",
       " 'Calabaza',\n",
       " 'Acelgas',\n",
       " 'Espinacas',\n",
       " 'Papaya',\n",
       " 'Pera',\n",
       " 'Mora',\n",
       " 'Rabano',\n",
       " 'Limón',\n",
       " 'Papaya',\n",
       " 'Pera',\n",
       " 'Mango',\n",
       " 'Papa',\n",
       " 'Limón']"
      ]
     },
     "execution_count": 36,
     "metadata": {},
     "output_type": "execute_result"
    }
   ],
   "source": [
    "FV"
   ]
  },
  {
   "cell_type": "code",
   "execution_count": 37,
   "metadata": {},
   "outputs": [
    {
     "data": {
      "text/plain": [
       "[0, 1, 0]"
      ]
     },
     "execution_count": 37,
     "metadata": {},
     "output_type": "execute_result"
    }
   ],
   "source": [
    "L=[0,1]\n",
    "L.append(0)\n",
    "L"
   ]
  },
  {
   "cell_type": "markdown",
   "metadata": {},
   "source": [
    "**Contar elementos de una lista**\n",
    "\n",
    "El comando `L.count(v)` contará la cantidad de `v` que hay en la lista:"
   ]
  },
  {
   "cell_type": "code",
   "execution_count": 38,
   "metadata": {},
   "outputs": [
    {
     "data": {
      "text/plain": [
       "2"
      ]
     },
     "execution_count": 38,
     "metadata": {},
     "output_type": "execute_result"
    }
   ],
   "source": [
    "Dias.count(\"Lunes\")"
   ]
  },
  {
   "cell_type": "code",
   "execution_count": 39,
   "metadata": {},
   "outputs": [
    {
     "data": {
      "text/plain": [
       "1"
      ]
     },
     "execution_count": 39,
     "metadata": {},
     "output_type": "execute_result"
    }
   ],
   "source": [
    "Dias.count(\"Martes\")"
   ]
  },
  {
   "cell_type": "code",
   "execution_count": 40,
   "metadata": {},
   "outputs": [
    {
     "data": {
      "text/plain": [
       "0"
      ]
     },
     "execution_count": 40,
     "metadata": {},
     "output_type": "execute_result"
    }
   ],
   "source": [
    "Dias.count(\"otra cosa\")"
   ]
  },
  {
   "cell_type": "code",
   "execution_count": 41,
   "metadata": {},
   "outputs": [
    {
     "data": {
      "text/plain": [
       "3"
      ]
     },
     "execution_count": 41,
     "metadata": {},
     "output_type": "execute_result"
    }
   ],
   "source": [
    "FV.count(\"Papaya\")"
   ]
  },
  {
   "cell_type": "code",
   "execution_count": 42,
   "metadata": {},
   "outputs": [
    {
     "data": {
      "text/plain": [
       "'PAPAYA'"
      ]
     },
     "execution_count": 42,
     "metadata": {},
     "output_type": "execute_result"
    }
   ],
   "source": [
    "\"Papaya\".upper()"
   ]
  },
  {
   "cell_type": "code",
   "execution_count": 43,
   "metadata": {},
   "outputs": [
    {
     "data": {
      "text/plain": [
       "'papaya'"
      ]
     },
     "execution_count": 43,
     "metadata": {},
     "output_type": "execute_result"
    }
   ],
   "source": [
    "\"Papaya\".lower()"
   ]
  },
  {
   "cell_type": "code",
   "execution_count": 44,
   "metadata": {},
   "outputs": [
    {
     "data": {
      "text/plain": [
       "'Papaya'"
      ]
     },
     "execution_count": 44,
     "metadata": {},
     "output_type": "execute_result"
    }
   ],
   "source": [
    "'papaya'.capitalize()"
   ]
  },
  {
   "cell_type": "markdown",
   "metadata": {},
   "source": [
    "**Insertar elementos en una lista**\n",
    "\n",
    "El comando `L.insert(n,v)` incluirá un elemento nuevo en la lista:"
   ]
  },
  {
   "cell_type": "code",
   "execution_count": 45,
   "metadata": {},
   "outputs": [],
   "source": [
    "Dias.insert(4,\"Juernes\")"
   ]
  },
  {
   "cell_type": "code",
   "execution_count": 46,
   "metadata": {},
   "outputs": [
    {
     "data": {
      "text/plain": [
       "['Lunes',\n",
       " 'Martes',\n",
       " 'Miércoles',\n",
       " 'Jueves',\n",
       " 'Juernes',\n",
       " 'Viernes',\n",
       " 'Sábado',\n",
       " 'Domingo',\n",
       " 'Lunes']"
      ]
     },
     "execution_count": 46,
     "metadata": {},
     "output_type": "execute_result"
    }
   ],
   "source": [
    "Dias"
   ]
  },
  {
   "cell_type": "markdown",
   "metadata": {},
   "source": [
    "**Medir una lista**\n",
    "\n",
    "Con `len(L)` puedo medir una lista:"
   ]
  },
  {
   "cell_type": "code",
   "execution_count": 47,
   "metadata": {},
   "outputs": [
    {
     "data": {
      "text/plain": [
       "9"
      ]
     },
     "execution_count": 47,
     "metadata": {},
     "output_type": "execute_result"
    }
   ],
   "source": [
    "len(Dias)"
   ]
  },
  {
   "cell_type": "code",
   "execution_count": 48,
   "metadata": {},
   "outputs": [
    {
     "data": {
      "text/plain": [
       "16"
      ]
     },
     "execution_count": 48,
     "metadata": {},
     "output_type": "execute_result"
    }
   ],
   "source": [
    "len(FV)"
   ]
  },
  {
   "cell_type": "markdown",
   "metadata": {},
   "source": [
    "**Remover elementos de una lista**\n",
    "\n",
    "Para eso tenemos dos posibles procesos, usando `L.remove(v)`:"
   ]
  },
  {
   "cell_type": "code",
   "execution_count": 49,
   "metadata": {},
   "outputs": [],
   "source": [
    "Dias.remove(\"Juernes\")"
   ]
  },
  {
   "cell_type": "code",
   "execution_count": 50,
   "metadata": {},
   "outputs": [
    {
     "data": {
      "text/plain": [
       "['Lunes',\n",
       " 'Martes',\n",
       " 'Miércoles',\n",
       " 'Jueves',\n",
       " 'Viernes',\n",
       " 'Sábado',\n",
       " 'Domingo',\n",
       " 'Lunes']"
      ]
     },
     "execution_count": 50,
     "metadata": {},
     "output_type": "execute_result"
    }
   ],
   "source": [
    "Dias"
   ]
  },
  {
   "cell_type": "code",
   "execution_count": 51,
   "metadata": {},
   "outputs": [
    {
     "data": {
      "text/plain": [
       "['Martes', 'Miércoles', 'Jueves', 'Viernes', 'Sábado', 'Domingo', 'Lunes']"
      ]
     },
     "execution_count": 51,
     "metadata": {},
     "output_type": "execute_result"
    }
   ],
   "source": [
    "Dias.remove(\"Lunes\")\n",
    "Dias"
   ]
  },
  {
   "cell_type": "markdown",
   "metadata": {},
   "source": [
    "o usando el comando `L.pop(ind)`"
   ]
  },
  {
   "cell_type": "code",
   "execution_count": 52,
   "metadata": {},
   "outputs": [
    {
     "data": {
      "text/plain": [
       "['Martes', 'Miércoles', 'Jueves', 'Viernes', 'Sábado', 'Domingo', 'Lunes']"
      ]
     },
     "execution_count": 52,
     "metadata": {},
     "output_type": "execute_result"
    }
   ],
   "source": [
    "Dias"
   ]
  },
  {
   "cell_type": "code",
   "execution_count": 53,
   "metadata": {},
   "outputs": [
    {
     "data": {
      "text/plain": [
       "'Lunes'"
      ]
     },
     "execution_count": 53,
     "metadata": {},
     "output_type": "execute_result"
    }
   ],
   "source": [
    "Dias.pop(-1)"
   ]
  },
  {
   "cell_type": "code",
   "execution_count": 54,
   "metadata": {},
   "outputs": [
    {
     "data": {
      "text/plain": [
       "['Martes', 'Miércoles', 'Jueves', 'Viernes', 'Sábado', 'Domingo']"
      ]
     },
     "execution_count": 54,
     "metadata": {},
     "output_type": "execute_result"
    }
   ],
   "source": [
    "Dias"
   ]
  },
  {
   "cell_type": "code",
   "execution_count": 55,
   "metadata": {},
   "outputs": [
    {
     "data": {
      "text/plain": [
       "3"
      ]
     },
     "execution_count": 55,
     "metadata": {},
     "output_type": "execute_result"
    }
   ],
   "source": [
    "Dias.index(\"Viernes\")"
   ]
  },
  {
   "cell_type": "code",
   "execution_count": 56,
   "metadata": {},
   "outputs": [
    {
     "data": {
      "text/plain": [
       "1"
      ]
     },
     "execution_count": 56,
     "metadata": {},
     "output_type": "execute_result"
    }
   ],
   "source": [
    "FV.index(\"Papaya\")"
   ]
  },
  {
   "cell_type": "markdown",
   "metadata": {},
   "source": [
    "**Reversar una lista**\n",
    "\n",
    "El comando `L.reverse()` nos permitirá reversar la lista:"
   ]
  },
  {
   "cell_type": "code",
   "execution_count": 57,
   "metadata": {},
   "outputs": [],
   "source": [
    "Dias.reverse()"
   ]
  },
  {
   "cell_type": "code",
   "execution_count": 58,
   "metadata": {},
   "outputs": [
    {
     "data": {
      "text/plain": [
       "['Domingo', 'Sábado', 'Viernes', 'Jueves', 'Miércoles', 'Martes']"
      ]
     },
     "execution_count": 58,
     "metadata": {},
     "output_type": "execute_result"
    }
   ],
   "source": [
    "Dias"
   ]
  },
  {
   "cell_type": "markdown",
   "metadata": {},
   "source": [
    "**Limpiar una lista**\n",
    "\n",
    "Usamos el comando `L.clear()` para limpiar la lista:"
   ]
  },
  {
   "cell_type": "code",
   "execution_count": 59,
   "metadata": {},
   "outputs": [],
   "source": [
    "Dias.clear()"
   ]
  },
  {
   "cell_type": "code",
   "execution_count": 60,
   "metadata": {},
   "outputs": [
    {
     "data": {
      "text/plain": [
       "[]"
      ]
     },
     "execution_count": 60,
     "metadata": {},
     "output_type": "execute_result"
    }
   ],
   "source": [
    "Dias"
   ]
  },
  {
   "cell_type": "markdown",
   "metadata": {},
   "source": [
    "## Bucles para recorrer listas\n",
    "\n",
    "La estructura de control `for` en Python resulta ser muy útil para recorrer y definir listas, la sintaxis de Python permite acceder a los elementos de la lista a partir del `for` sin necesidad de utilizar índices."
   ]
  },
  {
   "cell_type": "code",
   "execution_count": 64,
   "metadata": {},
   "outputs": [
    {
     "data": {
      "text/plain": [
       "16"
      ]
     },
     "execution_count": 64,
     "metadata": {},
     "output_type": "execute_result"
    }
   ],
   "source": [
    "len(FV)"
   ]
  },
  {
   "cell_type": "code",
   "execution_count": 67,
   "metadata": {},
   "outputs": [
    {
     "name": "stdout",
     "output_type": "stream",
     "text": [
      "Fresas\n",
      "Papaya\n",
      "Limón\n",
      "Calabaza\n",
      "Acelgas\n",
      "Espinacas\n",
      "Papaya\n",
      "Pera\n",
      "Mora\n",
      "Rabano\n",
      "Limón\n",
      "Papaya\n",
      "Pera\n",
      "Mango\n",
      "Papa\n",
      "Limón\n"
     ]
    }
   ],
   "source": [
    "for frut_o_verd in FV:\n",
    "    print(frut_o_verd)"
   ]
  },
  {
   "cell_type": "code",
   "execution_count": 69,
   "metadata": {},
   "outputs": [
    {
     "data": {
      "text/plain": [
       "5"
      ]
     },
     "execution_count": 69,
     "metadata": {},
     "output_type": "execute_result"
    }
   ],
   "source": [
    "len(\"Isaac\")"
   ]
  },
  {
   "cell_type": "code",
   "execution_count": 70,
   "metadata": {},
   "outputs": [
    {
     "name": "stdout",
     "output_type": "stream",
     "text": [
      "6\n",
      "6\n",
      "5\n",
      "8\n",
      "7\n",
      "9\n",
      "6\n",
      "4\n",
      "4\n",
      "6\n",
      "5\n",
      "6\n",
      "4\n",
      "5\n",
      "4\n",
      "5\n"
     ]
    }
   ],
   "source": [
    "for fov in FV:\n",
    "    print(len(fov))"
   ]
  },
  {
   "cell_type": "code",
   "execution_count": 75,
   "metadata": {},
   "outputs": [
    {
     "name": "stdout",
     "output_type": "stream",
     "text": [
      "[6, 6, 5, 8, 7, 9, 6, 4, 4, 6, 5, 6, 4, 5, 4, 5]\n"
     ]
    }
   ],
   "source": [
    "cant_letras=[]\n",
    "for frut_o_verd in FV:\n",
    "    lon=len(frut_o_verd)\n",
    "    cant_letras.append(lon)\n",
    "    #print(\"En la lista cant_letras se adjunto \",lon,\" \\n\"+ \n",
    "     #     \"pues es la cantidad de letras de\"+\n",
    "      #    \" \", frut_o_verd,\"\\n******************************\" )\n",
    "    \n",
    "print(cant_letras)"
   ]
  },
  {
   "cell_type": "code",
   "execution_count": 76,
   "metadata": {},
   "outputs": [
    {
     "data": {
      "text/plain": [
       "[6, 6, 5, 8, 7, 9, 6, 4, 4, 6, 5, 6, 4, 5, 4, 5]"
      ]
     },
     "execution_count": 76,
     "metadata": {},
     "output_type": "execute_result"
    }
   ],
   "source": [
    "cant_letras"
   ]
  },
  {
   "cell_type": "code",
   "execution_count": 77,
   "metadata": {},
   "outputs": [
    {
     "name": "stdout",
     "output_type": "stream",
     "text": [
      "La posicion de papaya es ->  1\n",
      "La posicion de papaya es ->  6\n",
      "La posicion de papaya es ->  11\n"
     ]
    }
   ],
   "source": [
    "Papaya_list=[]\n",
    "FV2=FV.copy()\n",
    "for frut_o_verd in FV2: \n",
    "    if frut_o_verd==\"Papaya\":        \n",
    "        Papaya_list.append(FV2.index(frut_o_verd))\n",
    "        print(\"La posicion de papaya es -> \",FV2.index(frut_o_verd))\n",
    "        FV2[FV2.index(frut_o_verd)]=\"Papaya contada\""
   ]
  },
  {
   "cell_type": "code",
   "execution_count": 78,
   "metadata": {},
   "outputs": [
    {
     "data": {
      "text/plain": [
       "[1, 6, 11]"
      ]
     },
     "execution_count": 78,
     "metadata": {},
     "output_type": "execute_result"
    }
   ],
   "source": [
    "Papaya_list"
   ]
  },
  {
   "cell_type": "code",
   "execution_count": 79,
   "metadata": {},
   "outputs": [
    {
     "name": "stdout",
     "output_type": "stream",
     "text": [
      "La copia:  ['Fresas', 'Papaya contada', 'Limón', 'Calabaza', 'Acelgas', 'Espinacas', 'Papaya contada', 'Pera', 'Mora', 'Rabano', 'Limón', 'Papaya contada', 'Pera', 'Mango', 'Papa', 'Limón'] \n",
      "\n",
      "La original:  ['Fresas', 'Papaya', 'Limón', 'Calabaza', 'Acelgas', 'Espinacas', 'Papaya', 'Pera', 'Mora', 'Rabano', 'Limón', 'Papaya', 'Pera', 'Mango', 'Papa', 'Limón']\n"
     ]
    }
   ],
   "source": [
    "print(\"La copia: \",FV2,\"\\n\")\n",
    "print(\"La original: \",FV)"
   ]
  },
  {
   "cell_type": "markdown",
   "metadata": {},
   "source": [
    "Al momento de definir listas usamos parentesis cuadrados, la condición que debe satisfacer el valor de la lista y el ciclo:\n",
    "\n",
    "***\n",
    "`[f(v) for v in L]`\n",
    "***\n"
   ]
  },
  {
   "cell_type": "code",
   "execution_count": 81,
   "metadata": {},
   "outputs": [],
   "source": [
    "cant_letras2=[len(fv) for fv in FV]"
   ]
  },
  {
   "cell_type": "code",
   "execution_count": 83,
   "metadata": {},
   "outputs": [
    {
     "data": {
      "text/plain": [
       "True"
      ]
     },
     "execution_count": 83,
     "metadata": {},
     "output_type": "execute_result"
    }
   ],
   "source": [
    "cant_letras2==cant_letras"
   ]
  },
  {
   "cell_type": "code",
   "execution_count": 84,
   "metadata": {},
   "outputs": [
    {
     "data": {
      "text/plain": [
       "['Calabaza', 'Acelgas', 'Papaya', 'Pera']"
      ]
     },
     "execution_count": 84,
     "metadata": {},
     "output_type": "execute_result"
    }
   ],
   "source": [
    "SL=[3,4,6,7] #Extraigo una sublista a partir de los índices\n",
    "FV2=[FV[i] for i in SL]\n",
    "FV2"
   ]
  },
  {
   "cell_type": "code",
   "execution_count": 86,
   "metadata": {},
   "outputs": [
    {
     "data": {
      "text/plain": [
       "['Fresas', 'Papaya', 'Papaya', 'Rabano', 'Papaya']"
      ]
     },
     "execution_count": 86,
     "metadata": {},
     "output_type": "execute_result"
    }
   ],
   "source": [
    "[fov for fov in FV if len(fov)==6 ]"
   ]
  },
  {
   "cell_type": "code",
   "execution_count": 87,
   "metadata": {},
   "outputs": [
    {
     "data": {
      "text/plain": [
       "['Calabaza']"
      ]
     },
     "execution_count": 87,
     "metadata": {},
     "output_type": "execute_result"
    }
   ],
   "source": [
    "[fov for fov in FV if len(fov)==8 ]"
   ]
  },
  {
   "cell_type": "code",
   "execution_count": 96,
   "metadata": {},
   "outputs": [
    {
     "data": {
      "text/plain": [
       "['Fresos',\n",
       " 'Popoyo',\n",
       " 'Limón',\n",
       " 'Colobozo',\n",
       " 'Acelgos',\n",
       " 'Espinocos',\n",
       " 'Popoyo',\n",
       " 'Pero',\n",
       " 'Muro',\n",
       " 'Robonu',\n",
       " 'Limón',\n",
       " 'Popoyo',\n",
       " 'Pero',\n",
       " 'Mongu',\n",
       " 'Popo',\n",
       " 'Limón']"
      ]
     },
     "execution_count": 96,
     "metadata": {},
     "output_type": "execute_result"
    }
   ],
   "source": [
    "[ fov.replace('o','u').replace('a','o') for fov in FV]"
   ]
  },
  {
   "cell_type": "markdown",
   "metadata": {},
   "source": [
    "## Rangos \n",
    "\n",
    "El tipo `range` es una lista inmodificable de números enteros escritos como una sucesión aritmética.\n",
    "\n",
    "En Python 3 este argumento se reconoce como un tipo de datos y usa uno, dos o tres argumentos numéricos, como si fuera una función."
   ]
  },
  {
   "cell_type": "code",
   "execution_count": 104,
   "metadata": {},
   "outputs": [
    {
     "data": {
      "text/plain": [
       "range(0, 10)"
      ]
     },
     "execution_count": 104,
     "metadata": {},
     "output_type": "execute_result"
    }
   ],
   "source": [
    "range(10)"
   ]
  },
  {
   "cell_type": "code",
   "execution_count": 105,
   "metadata": {},
   "outputs": [
    {
     "name": "stdout",
     "output_type": "stream",
     "text": [
      "0\n",
      "1\n",
      "2\n",
      "3\n",
      "4\n",
      "5\n",
      "6\n",
      "7\n",
      "8\n",
      "9\n"
     ]
    }
   ],
   "source": [
    "for i in range(10):\n",
    "    print(i)"
   ]
  },
  {
   "cell_type": "code",
   "execution_count": 106,
   "metadata": {},
   "outputs": [
    {
     "data": {
      "text/plain": [
       "[4, 5, 6, 7, 8, 9]"
      ]
     },
     "execution_count": 106,
     "metadata": {},
     "output_type": "execute_result"
    }
   ],
   "source": [
    "[i for i in range(4,10)]"
   ]
  },
  {
   "cell_type": "code",
   "execution_count": 107,
   "metadata": {},
   "outputs": [
    {
     "name": "stdout",
     "output_type": "stream",
     "text": [
      "4\n",
      "5\n",
      "6\n",
      "7\n",
      "8\n",
      "9\n"
     ]
    }
   ],
   "source": [
    "for i in range(4,10):\n",
    "    print(i)"
   ]
  },
  {
   "cell_type": "code",
   "execution_count": 108,
   "metadata": {},
   "outputs": [
    {
     "name": "stdout",
     "output_type": "stream",
     "text": [
      "4\n",
      "7\n"
     ]
    }
   ],
   "source": [
    "for i in range(4,10,3):\n",
    "    print(i)"
   ]
  },
  {
   "cell_type": "code",
   "execution_count": 109,
   "metadata": {},
   "outputs": [
    {
     "name": "stdout",
     "output_type": "stream",
     "text": [
      "3\n",
      "6\n",
      "9\n"
     ]
    }
   ],
   "source": [
    "for i in range(3,10,3):\n",
    "    print(i)"
   ]
  },
  {
   "cell_type": "code",
   "execution_count": 110,
   "metadata": {},
   "outputs": [],
   "source": [
    "Dias=[\"Lunes\",\"Martes\",\"Miércoles\",\"Jueves\",\"Viernes\",\"Sábado\",\"Domingo\"]"
   ]
  },
  {
   "cell_type": "code",
   "execution_count": 111,
   "metadata": {},
   "outputs": [
    {
     "data": {
      "text/plain": [
       "True"
      ]
     },
     "execution_count": 111,
     "metadata": {},
     "output_type": "execute_result"
    }
   ],
   "source": [
    "\"Lunes\" in Dias"
   ]
  },
  {
   "cell_type": "markdown",
   "metadata": {},
   "source": [
    " ¿437 es primo?\n",
    " \n",
    " - Tome [2,...,436] y verifique si hay divisores de 437 o no\n",
    " - Para cada  $i \\in [2,\\cdots,436]$ calcule 437%i, si existe algún i talque 437%i=0 entoces 437 no es primo. En otro caso sí lo es.\n",
    " "
   ]
  },
  {
   "cell_type": "markdown",
   "metadata": {},
   "source": [
    "Sea $j$ divisor de $n$, entonces $\\frac{n}{j}\\in \\mathbb{Z}$ y además, también es divisor de $n$."
   ]
  },
  {
   "cell_type": "code",
   "execution_count": 120,
   "metadata": {},
   "outputs": [
    {
     "name": "stdout",
     "output_type": "stream",
     "text": [
      "589 no es primo\n"
     ]
    }
   ],
   "source": [
    "n=589\n",
    "residuosmenores=[]\n",
    "for i in range(2,round(n**(1/2)+1)):\n",
    "    residuosmenores.append(n%i)\n",
    "\n",
    "m=min(residuosmenores)\n",
    "if m!=0:\n",
    "    print(n,\"es primo\")\n",
    "else:\n",
    "    print(n,\"no es primo\")\n",
    "\n",
    "    "
   ]
  },
  {
   "cell_type": "code",
   "execution_count": 121,
   "metadata": {},
   "outputs": [
    {
     "data": {
      "text/plain": [
       "24.269322199023193"
      ]
     },
     "execution_count": 121,
     "metadata": {},
     "output_type": "execute_result"
    }
   ],
   "source": [
    "589**(1/2)"
   ]
  },
  {
   "cell_type": "code",
   "execution_count": 125,
   "metadata": {},
   "outputs": [],
   "source": [
    "Primos=[]\n",
    "for n in range(3,100):\n",
    "    residuosmenores=[n%i for i in range(2,round(n**(1/2))+1)]\n",
    "    m=min(residuosmenores)\n",
    "    if m!=0:\n",
    "        Primos.append(n)\n",
    "    \n"
   ]
  },
  {
   "cell_type": "code",
   "execution_count": 126,
   "metadata": {},
   "outputs": [
    {
     "data": {
      "text/plain": [
       "[3,\n",
       " 5,\n",
       " 7,\n",
       " 11,\n",
       " 13,\n",
       " 17,\n",
       " 19,\n",
       " 23,\n",
       " 29,\n",
       " 31,\n",
       " 37,\n",
       " 41,\n",
       " 43,\n",
       " 47,\n",
       " 53,\n",
       " 59,\n",
       " 61,\n",
       " 67,\n",
       " 71,\n",
       " 73,\n",
       " 79,\n",
       " 83,\n",
       " 89,\n",
       " 97]"
      ]
     },
     "execution_count": 126,
     "metadata": {},
     "output_type": "execute_result"
    }
   ],
   "source": [
    "Primos"
   ]
  },
  {
   "cell_type": "code",
   "execution_count": 134,
   "metadata": {},
   "outputs": [
    {
     "data": {
      "text/plain": [
       "[2,\n",
       " 3,\n",
       " 5,\n",
       " 7,\n",
       " 11,\n",
       " 13,\n",
       " 17,\n",
       " 19,\n",
       " 23,\n",
       " 29,\n",
       " 31,\n",
       " 37,\n",
       " 41,\n",
       " 43,\n",
       " 47,\n",
       " 53,\n",
       " 59,\n",
       " 61,\n",
       " 67,\n",
       " 71,\n",
       " 73,\n",
       " 79,\n",
       " 83,\n",
       " 89,\n",
       " 97]"
      ]
     },
     "execution_count": 134,
     "metadata": {},
     "output_type": "execute_result"
    }
   ],
   "source": [
    "Primos"
   ]
  },
  {
   "cell_type": "code",
   "execution_count": 143,
   "metadata": {},
   "outputs": [
    {
     "data": {
      "text/plain": [
       "[2, 3, 5, 7, 11, 13, 17, 19]"
      ]
     },
     "execution_count": 143,
     "metadata": {},
     "output_type": "execute_result"
    }
   ],
   "source": [
    "residuosmenores=[438%i for i in range(2,round(438**(1/2))+1)]\n",
    "residuosmenores\n",
    "list(set(range(2,round(438**(1/2))+1))&set(Primos))"
   ]
  },
  {
   "cell_type": "code",
   "execution_count": 137,
   "metadata": {},
   "outputs": [
    {
     "data": {
      "text/plain": [
       "20.904544960366874"
      ]
     },
     "execution_count": 137,
     "metadata": {},
     "output_type": "execute_result"
    }
   ],
   "source": [
    "437**(1/2)"
   ]
  },
  {
   "cell_type": "code",
   "execution_count": 169,
   "metadata": {},
   "outputs": [
    {
     "name": "stdout",
     "output_type": "stream",
     "text": [
      "664579\n"
     ]
    }
   ],
   "source": [
    "Primos=[2]\n",
    "for n in range(3,10000000,2):   \n",
    "    for i,j in enumerate(Primos):\n",
    "        if j>n**(1/2):\n",
    "            break\n",
    "    residuosmenores=[n%k for k in Primos[:i+1]]\n",
    "    m=min(residuosmenores)\n",
    "    if m!=0:\n",
    "        Primos.append(n)        \n",
    "print(len(Primos))"
   ]
  },
  {
   "cell_type": "code",
   "execution_count": 170,
   "metadata": {},
   "outputs": [
    {
     "data": {
      "text/plain": [
       "9999991"
      ]
     },
     "execution_count": 170,
     "metadata": {},
     "output_type": "execute_result"
    }
   ],
   "source": [
    "Primos[-1]"
   ]
  },
  {
   "cell_type": "code",
   "execution_count": 173,
   "metadata": {},
   "outputs": [],
   "source": [
    "import pandas as pd\n",
    "P=pd.DataFrame({\"Primos\":Primos})\n",
    "P.to_csv('Primos.csv')"
   ]
  },
  {
   "cell_type": "markdown",
   "metadata": {},
   "source": [
    "## Enumerar listas\n",
    "\n",
    "Aunque una ventaja indiscutible del `for` de Python es que tenemos la posibilidad de recorrer la lista y no los índices, en ocasiones hace falta el índice del elemento de la lista, tenemos dos posibilidades:"
   ]
  },
  {
   "cell_type": "code",
   "execution_count": 1,
   "metadata": {},
   "outputs": [],
   "source": [
    "Dias=[\"Lunes\",\"Martes\",\"Miércoles\",\"Jueves\",\"Viernes\",\"Sábado\",\"Domingo\"]"
   ]
  },
  {
   "cell_type": "code",
   "execution_count": 4,
   "metadata": {},
   "outputs": [
    {
     "data": {
      "text/plain": [
       "range(0, 7)"
      ]
     },
     "execution_count": 4,
     "metadata": {},
     "output_type": "execute_result"
    }
   ],
   "source": [
    "range(len(Dias))"
   ]
  },
  {
   "cell_type": "code",
   "execution_count": 7,
   "metadata": {},
   "outputs": [
    {
     "name": "stdout",
     "output_type": "stream",
     "text": [
      "Lunes es el 1 de la semana\n",
      "Martes es el 2 de la semana\n",
      "Miércoles es el 3 de la semana\n",
      "Jueves es el 4 de la semana\n",
      "Viernes es el 5 de la semana\n",
      "Sábado es el 6 de la semana\n",
      "Domingo es el 7 de la semana\n"
     ]
    }
   ],
   "source": [
    "for ind in range(len(Dias)):\n",
    "    print(Dias[ind], \"es el\", ind+1,\"de la semana\")"
   ]
  },
  {
   "cell_type": "code",
   "execution_count": 8,
   "metadata": {},
   "outputs": [],
   "source": [
    "Let=['A','B','C','D']"
   ]
  },
  {
   "cell_type": "code",
   "execution_count": 11,
   "metadata": {},
   "outputs": [
    {
     "name": "stdout",
     "output_type": "stream",
     "text": [
      "(0, 'A')\n",
      "(1, 'B')\n",
      "(2, 'C')\n",
      "(3, 'D')\n"
     ]
    }
   ],
   "source": [
    "for i in range(4):\n",
    "    print((i,Let[i]))"
   ]
  },
  {
   "cell_type": "code",
   "execution_count": 12,
   "metadata": {},
   "outputs": [
    {
     "name": "stdout",
     "output_type": "stream",
     "text": [
      "(0, 'A')\n",
      "(1, 'B')\n",
      "(2, 'C')\n",
      "(3, 'D')\n"
     ]
    }
   ],
   "source": [
    "for i in enumerate(Let):\n",
    "    print(i)"
   ]
  },
  {
   "cell_type": "code",
   "execution_count": 15,
   "metadata": {},
   "outputs": [
    {
     "name": "stdout",
     "output_type": "stream",
     "text": [
      "El índice es: 0 ; El elemento es A\n",
      "El índice es: 1 ; El elemento es B\n",
      "El índice es: 2 ; El elemento es C\n",
      "El índice es: 3 ; El elemento es D\n"
     ]
    }
   ],
   "source": [
    "for ind,i in enumerate(Let):\n",
    "    print('El índice es:', ind,'; El elemento es',i )"
   ]
  },
  {
   "cell_type": "code",
   "execution_count": 16,
   "metadata": {},
   "outputs": [
    {
     "name": "stdout",
     "output_type": "stream",
     "text": [
      "Lunes es el 1 día de la semana\n",
      "Martes es el 2 día de la semana\n",
      "Miércoles es el 3 día de la semana\n",
      "Jueves es el 4 día de la semana\n",
      "Viernes es el 5 día de la semana\n",
      "Sábado es el 6 día de la semana\n",
      "Domingo es el 7 día de la semana\n"
     ]
    }
   ],
   "source": [
    "for ind,i in enumerate(Dias):\n",
    "    print(i, \"es el\", ind+1,\"día de la semana\")"
   ]
  },
  {
   "cell_type": "code",
   "execution_count": 17,
   "metadata": {},
   "outputs": [
    {
     "data": {
      "text/plain": [
       "['Lunes', 'Martes', 'Miércoles', 'Jueves', 'Viernes', 'Sábado', 'Domingo']"
      ]
     },
     "execution_count": 17,
     "metadata": {},
     "output_type": "execute_result"
    }
   ],
   "source": [
    "Dias"
   ]
  },
  {
   "cell_type": "code",
   "execution_count": 18,
   "metadata": {},
   "outputs": [
    {
     "name": "stdout",
     "output_type": "stream",
     "text": [
      "(0, 'Lunes')\n",
      "(1, 'Martes')\n",
      "(2, 'Miércoles')\n",
      "(3, 'Jueves')\n",
      "(4, 'Viernes')\n",
      "(5, 'Sábado')\n",
      "(6, 'Domingo')\n"
     ]
    }
   ],
   "source": [
    "for i in enumerate(Dias):\n",
    "    print(i)"
   ]
  },
  {
   "cell_type": "code",
   "execution_count": 19,
   "metadata": {},
   "outputs": [
    {
     "data": {
      "text/plain": [
       "enumerate"
      ]
     },
     "execution_count": 19,
     "metadata": {},
     "output_type": "execute_result"
    }
   ],
   "source": [
    "type(enumerate(Dias))"
   ]
  },
  {
   "cell_type": "markdown",
   "metadata": {},
   "source": [
    "## Pertenencia en una lista\n",
    "\n",
    "Podemos establecer si un calor está o no está en una lista con el comando `in`:"
   ]
  },
  {
   "cell_type": "code",
   "execution_count": 20,
   "metadata": {},
   "outputs": [
    {
     "data": {
      "text/plain": [
       "True"
      ]
     },
     "execution_count": 20,
     "metadata": {},
     "output_type": "execute_result"
    }
   ],
   "source": [
    "\"Lunes\" in Dias"
   ]
  },
  {
   "cell_type": "code",
   "execution_count": 23,
   "metadata": {},
   "outputs": [
    {
     "data": {
      "text/plain": [
       "False"
      ]
     },
     "execution_count": 23,
     "metadata": {},
     "output_type": "execute_result"
    }
   ],
   "source": [
    "\"Lunes\" in FV"
   ]
  },
  {
   "cell_type": "code",
   "execution_count": 30,
   "metadata": {},
   "outputs": [],
   "source": [
    "FV=['Fresas', 'Papaya', 'Limón', 'Calabaza', 'Acelgas', 'Espinacas', 'Papaya', 'Pera', 'Mora', 'Rabano', 'Limón', 'Papaya', 'Pera', 'Mango', 'Papa', 'Limón'] "
   ]
  },
  {
   "cell_type": "code",
   "execution_count": 31,
   "metadata": {},
   "outputs": [
    {
     "data": {
      "text/plain": [
       "['Fresas',\n",
       " 'Papaya',\n",
       " 'Limón',\n",
       " 'Calabaza',\n",
       " 'Acelgas',\n",
       " 'Espinacas',\n",
       " 'Papaya',\n",
       " 'Pera',\n",
       " 'Mora',\n",
       " 'Rabano',\n",
       " 'Limón',\n",
       " 'Papaya',\n",
       " 'Pera',\n",
       " 'Mango',\n",
       " 'Papa',\n",
       " 'Limón']"
      ]
     },
     "execution_count": 31,
     "metadata": {},
     "output_type": "execute_result"
    }
   ],
   "source": [
    "FV"
   ]
  },
  {
   "cell_type": "code",
   "execution_count": 32,
   "metadata": {},
   "outputs": [],
   "source": [
    "V=['Brocoli', 'Acelgas', 'Espinacas']"
   ]
  },
  {
   "cell_type": "code",
   "execution_count": 33,
   "metadata": {},
   "outputs": [
    {
     "name": "stdout",
     "output_type": "stream",
     "text": [
      "Fresas  es fruta.\n",
      "Papaya  es fruta.\n",
      "Limón  es fruta.\n",
      "Calabaza  es fruta.\n",
      "Acelgas  es verdura.\n",
      "Espinacas  es verdura.\n",
      "Papaya  es fruta.\n",
      "Pera  es fruta.\n",
      "Mora  es fruta.\n",
      "Rabano  es fruta.\n",
      "Limón  es fruta.\n",
      "Papaya  es fruta.\n",
      "Pera  es fruta.\n",
      "Mango  es fruta.\n",
      "Papa  es fruta.\n",
      "Limón  es fruta.\n"
     ]
    }
   ],
   "source": [
    "F=[]\n",
    "for v in FV:\n",
    "    if v in V:\n",
    "        print(v,\" es verdura.\")\n",
    "    else:\n",
    "        print(v,\" es fruta.\")\n",
    "        F.append(v)"
   ]
  },
  {
   "cell_type": "code",
   "execution_count": 27,
   "metadata": {},
   "outputs": [
    {
     "data": {
      "text/plain": [
       "['Fresas', 'Papaya', 'Limón']"
      ]
     },
     "execution_count": 27,
     "metadata": {},
     "output_type": "execute_result"
    }
   ],
   "source": [
    "F"
   ]
  },
  {
   "cell_type": "markdown",
   "metadata": {
    "solution2": "hidden",
    "solution2_first": true
   },
   "source": [
    "**Ejercicio** Lo hace muy mal, permitamos que nos pregunte y recreamos la lista de Frutas y Verduras:"
   ]
  },
  {
   "cell_type": "code",
   "execution_count": 34,
   "metadata": {
    "solution2": "hidden"
   },
   "outputs": [
    {
     "name": "stdout",
     "output_type": "stream",
     "text": [
      "Fresas\n"
     ]
    },
    {
     "name": "stdin",
     "output_type": "stream",
     "text": [
      " es fruta (marque F) o Verdura (marque V) f\n"
     ]
    },
    {
     "name": "stdout",
     "output_type": "stream",
     "text": [
      "Papaya\n"
     ]
    },
    {
     "name": "stdin",
     "output_type": "stream",
     "text": [
      " es fruta (marque F) o Verdura (marque V) f\n"
     ]
    },
    {
     "name": "stdout",
     "output_type": "stream",
     "text": [
      "Limón\n"
     ]
    },
    {
     "name": "stdin",
     "output_type": "stream",
     "text": [
      " es fruta (marque F) o Verdura (marque V) f\n"
     ]
    },
    {
     "name": "stdout",
     "output_type": "stream",
     "text": [
      "Calabaza\n"
     ]
    },
    {
     "name": "stdin",
     "output_type": "stream",
     "text": [
      " es fruta (marque F) o Verdura (marque V) v\n"
     ]
    },
    {
     "name": "stdout",
     "output_type": "stream",
     "text": [
      "Acelgas\n"
     ]
    },
    {
     "name": "stdin",
     "output_type": "stream",
     "text": [
      " es fruta (marque F) o Verdura (marque V) v\n"
     ]
    },
    {
     "name": "stdout",
     "output_type": "stream",
     "text": [
      "Espinacas\n"
     ]
    },
    {
     "name": "stdin",
     "output_type": "stream",
     "text": [
      " es fruta (marque F) o Verdura (marque V) f\n"
     ]
    },
    {
     "name": "stdout",
     "output_type": "stream",
     "text": [
      "Papaya\n"
     ]
    },
    {
     "name": "stdin",
     "output_type": "stream",
     "text": [
      " es fruta (marque F) o Verdura (marque V) nose\n"
     ]
    },
    {
     "name": "stdout",
     "output_type": "stream",
     "text": [
      "Esa respuesta no fue correcta\n",
      "Pera\n"
     ]
    },
    {
     "name": "stdin",
     "output_type": "stream",
     "text": [
      " es fruta (marque F) o Verdura (marque V) f\n"
     ]
    },
    {
     "name": "stdout",
     "output_type": "stream",
     "text": [
      "Mora\n"
     ]
    },
    {
     "name": "stdin",
     "output_type": "stream",
     "text": [
      " es fruta (marque F) o Verdura (marque V) f\n"
     ]
    },
    {
     "name": "stdout",
     "output_type": "stream",
     "text": [
      "Rabano\n"
     ]
    },
    {
     "name": "stdin",
     "output_type": "stream",
     "text": [
      " es fruta (marque F) o Verdura (marque V) v\n"
     ]
    },
    {
     "name": "stdout",
     "output_type": "stream",
     "text": [
      "Limón\n"
     ]
    },
    {
     "name": "stdin",
     "output_type": "stream",
     "text": [
      " es fruta (marque F) o Verdura (marque V) f\n"
     ]
    },
    {
     "name": "stdout",
     "output_type": "stream",
     "text": [
      "Papaya\n"
     ]
    },
    {
     "name": "stdin",
     "output_type": "stream",
     "text": [
      " es fruta (marque F) o Verdura (marque V) f\n"
     ]
    },
    {
     "name": "stdout",
     "output_type": "stream",
     "text": [
      "Pera\n"
     ]
    },
    {
     "name": "stdin",
     "output_type": "stream",
     "text": [
      " es fruta (marque F) o Verdura (marque V) f\n"
     ]
    },
    {
     "name": "stdout",
     "output_type": "stream",
     "text": [
      "Mango\n"
     ]
    },
    {
     "name": "stdin",
     "output_type": "stream",
     "text": [
      " es fruta (marque F) o Verdura (marque V) f\n"
     ]
    },
    {
     "name": "stdout",
     "output_type": "stream",
     "text": [
      "Papa\n"
     ]
    },
    {
     "name": "stdin",
     "output_type": "stream",
     "text": [
      " es fruta (marque F) o Verdura (marque V) v\n"
     ]
    },
    {
     "name": "stdout",
     "output_type": "stream",
     "text": [
      "Limón\n"
     ]
    },
    {
     "name": "stdin",
     "output_type": "stream",
     "text": [
      " es fruta (marque F) o Verdura (marque V) f\n"
     ]
    },
    {
     "name": "stdout",
     "output_type": "stream",
     "text": [
      "Frutas:  ['Fresas', 'Papaya', 'Limón', 'Espinacas', 'Pera', 'Mora', 'Limón', 'Papaya', 'Pera', 'Mango', 'Limón']\n",
      "Verduras:  ['Calabaza', 'Acelgas', 'Rabano', 'Papa']\n",
      "Sin clasificar:  ['Papaya']\n"
     ]
    }
   ],
   "source": [
    "F=[]\n",
    "V=[]\n",
    "SC=FV.copy()\n",
    "\n",
    "for fv in FV:\n",
    "    print(fv)\n",
    "    L=input(\" es fruta (marque F) o Verdura (marque V)\")\n",
    "    if L.capitalize()==\"F\":        \n",
    "        SC.remove(fv)\n",
    "        F.append(fv)\n",
    "    elif L.capitalize()==\"V\":\n",
    "        SC.remove(fv)\n",
    "        V.append(fv)\n",
    "    else:\n",
    "        print(\"Esa respuesta no fue correcta\")\n",
    "print(\"Frutas: \",F)\n",
    "print(\"Verduras: \",V)\n",
    "print(\"Sin clasificar: \",SC)"
   ]
  },
  {
   "cell_type": "markdown",
   "metadata": {},
   "source": [
    "Si quisiera clasificar todas las frutas y verduras utilizaría otro bucle: `while`"
   ]
  },
  {
   "cell_type": "code",
   "execution_count": 35,
   "metadata": {
    "scrolled": true
   },
   "outputs": [
    {
     "name": "stdout",
     "output_type": "stream",
     "text": [
      "Fresas\n"
     ]
    },
    {
     "name": "stdin",
     "output_type": "stream",
     "text": [
      " es fruta (marque F) o Verdura (marque V) f\n"
     ]
    },
    {
     "name": "stdout",
     "output_type": "stream",
     "text": [
      "Papaya\n"
     ]
    },
    {
     "name": "stdin",
     "output_type": "stream",
     "text": [
      " es fruta (marque F) o Verdura (marque V) f\n"
     ]
    },
    {
     "name": "stdout",
     "output_type": "stream",
     "text": [
      "Limón\n"
     ]
    },
    {
     "name": "stdin",
     "output_type": "stream",
     "text": [
      " es fruta (marque F) o Verdura (marque V) f\n"
     ]
    },
    {
     "name": "stdout",
     "output_type": "stream",
     "text": [
      "Calabaza\n"
     ]
    },
    {
     "name": "stdin",
     "output_type": "stream",
     "text": [
      " es fruta (marque F) o Verdura (marque V) v\n"
     ]
    },
    {
     "name": "stdout",
     "output_type": "stream",
     "text": [
      "Acelgas\n"
     ]
    },
    {
     "name": "stdin",
     "output_type": "stream",
     "text": [
      " es fruta (marque F) o Verdura (marque V) v\n"
     ]
    },
    {
     "name": "stdout",
     "output_type": "stream",
     "text": [
      "Espinacas\n"
     ]
    },
    {
     "name": "stdin",
     "output_type": "stream",
     "text": [
      " es fruta (marque F) o Verdura (marque V) v\n"
     ]
    },
    {
     "name": "stdout",
     "output_type": "stream",
     "text": [
      "Papaya\n"
     ]
    },
    {
     "name": "stdin",
     "output_type": "stream",
     "text": [
      " es fruta (marque F) o Verdura (marque V) f\n"
     ]
    },
    {
     "name": "stdout",
     "output_type": "stream",
     "text": [
      "Pera\n"
     ]
    },
    {
     "name": "stdin",
     "output_type": "stream",
     "text": [
      " es fruta (marque F) o Verdura (marque V) f\n"
     ]
    },
    {
     "name": "stdout",
     "output_type": "stream",
     "text": [
      "Mora\n"
     ]
    },
    {
     "name": "stdin",
     "output_type": "stream",
     "text": [
      " es fruta (marque F) o Verdura (marque V) f\n"
     ]
    },
    {
     "name": "stdout",
     "output_type": "stream",
     "text": [
      "Rabano\n"
     ]
    },
    {
     "name": "stdin",
     "output_type": "stream",
     "text": [
      " es fruta (marque F) o Verdura (marque V) klñjklñ\n"
     ]
    },
    {
     "name": "stdout",
     "output_type": "stream",
     "text": [
      "Esa respuesta no fue correcta\n",
      "Limón\n"
     ]
    },
    {
     "name": "stdin",
     "output_type": "stream",
     "text": [
      " es fruta (marque F) o Verdura (marque V) f\n"
     ]
    },
    {
     "name": "stdout",
     "output_type": "stream",
     "text": [
      "Papaya\n"
     ]
    },
    {
     "name": "stdin",
     "output_type": "stream",
     "text": [
      " es fruta (marque F) o Verdura (marque V) f\n"
     ]
    },
    {
     "name": "stdout",
     "output_type": "stream",
     "text": [
      "Pera\n"
     ]
    },
    {
     "name": "stdin",
     "output_type": "stream",
     "text": [
      " es fruta (marque F) o Verdura (marque V) f\n"
     ]
    },
    {
     "name": "stdout",
     "output_type": "stream",
     "text": [
      "Mango\n"
     ]
    },
    {
     "name": "stdin",
     "output_type": "stream",
     "text": [
      " es fruta (marque F) o Verdura (marque V) f\n"
     ]
    },
    {
     "name": "stdout",
     "output_type": "stream",
     "text": [
      "Papa\n"
     ]
    },
    {
     "name": "stdin",
     "output_type": "stream",
     "text": [
      " es fruta (marque F) o Verdura (marque V) v\n"
     ]
    },
    {
     "name": "stdout",
     "output_type": "stream",
     "text": [
      "Limón\n"
     ]
    },
    {
     "name": "stdin",
     "output_type": "stream",
     "text": [
      " es fruta (marque F) o Verdura (marque V) f\n"
     ]
    },
    {
     "name": "stdout",
     "output_type": "stream",
     "text": [
      "Frutas:  ['Fresas', 'Papaya', 'Limón', 'Papaya', 'Pera', 'Mora', 'Limón', 'Papaya', 'Pera', 'Mango', 'Limón']\n",
      "Verduras:  ['Calabaza', 'Acelgas', 'Espinacas', 'Papa']\n",
      "Sin clasificar:  ['Rabano']\n",
      "Rabano\n"
     ]
    },
    {
     "name": "stdin",
     "output_type": "stream",
     "text": [
      " es fruta (marque F) o Verdura (marque V) g\n"
     ]
    },
    {
     "name": "stdout",
     "output_type": "stream",
     "text": [
      "Esa respuesta no fue correcta\n",
      "Frutas:  ['Fresas', 'Papaya', 'Limón', 'Papaya', 'Pera', 'Mora', 'Limón', 'Papaya', 'Pera', 'Mango', 'Limón']\n",
      "Verduras:  ['Calabaza', 'Acelgas', 'Espinacas', 'Papa']\n",
      "Sin clasificar:  ['Rabano']\n",
      "Rabano\n"
     ]
    },
    {
     "name": "stdin",
     "output_type": "stream",
     "text": [
      " es fruta (marque F) o Verdura (marque V) g\n"
     ]
    },
    {
     "name": "stdout",
     "output_type": "stream",
     "text": [
      "Esa respuesta no fue correcta\n",
      "Frutas:  ['Fresas', 'Papaya', 'Limón', 'Papaya', 'Pera', 'Mora', 'Limón', 'Papaya', 'Pera', 'Mango', 'Limón']\n",
      "Verduras:  ['Calabaza', 'Acelgas', 'Espinacas', 'Papa']\n",
      "Sin clasificar:  ['Rabano']\n",
      "Rabano\n"
     ]
    },
    {
     "name": "stdin",
     "output_type": "stream",
     "text": [
      " es fruta (marque F) o Verdura (marque V) g\n"
     ]
    },
    {
     "name": "stdout",
     "output_type": "stream",
     "text": [
      "Esa respuesta no fue correcta\n",
      "Frutas:  ['Fresas', 'Papaya', 'Limón', 'Papaya', 'Pera', 'Mora', 'Limón', 'Papaya', 'Pera', 'Mango', 'Limón']\n",
      "Verduras:  ['Calabaza', 'Acelgas', 'Espinacas', 'Papa']\n",
      "Sin clasificar:  ['Rabano']\n",
      "Rabano\n"
     ]
    },
    {
     "name": "stdin",
     "output_type": "stream",
     "text": [
      " es fruta (marque F) o Verdura (marque V) v\n"
     ]
    },
    {
     "name": "stdout",
     "output_type": "stream",
     "text": [
      "Frutas:  ['Fresas', 'Papaya', 'Limón', 'Papaya', 'Pera', 'Mora', 'Limón', 'Papaya', 'Pera', 'Mango', 'Limón']\n",
      "Verduras:  ['Calabaza', 'Acelgas', 'Espinacas', 'Papa', 'Rabano']\n",
      "Sin clasificar:  []\n"
     ]
    }
   ],
   "source": [
    "F=[]\n",
    "V=[]\n",
    "SC=FV.copy()\n",
    "\n",
    "while len(SC)>0:\n",
    "    ol=SC.copy()\n",
    "    for fv in ol:\n",
    "        print(fv)\n",
    "        L=input(\" es fruta (marque F) o Verdura (marque V)\")\n",
    "        if L.upper()==\"F\":        \n",
    "            SC.remove(fv)\n",
    "            F.append(fv)\n",
    "        elif L.upper()==\"V\":\n",
    "            SC.remove(fv)\n",
    "            V.append(fv)\n",
    "        else:\n",
    "            print(\"Esa respuesta no fue correcta\")\n",
    "    print(\"Frutas: \",F)\n",
    "    print(\"Verduras: \",V)\n",
    "    print(\"Sin clasificar: \",SC)"
   ]
  },
  {
   "cell_type": "code",
   "execution_count": 36,
   "metadata": {},
   "outputs": [
    {
     "data": {
      "text/plain": [
       "['Fresas',\n",
       " 'Papaya',\n",
       " 'Limón',\n",
       " 'Papaya',\n",
       " 'Pera',\n",
       " 'Mora',\n",
       " 'Limón',\n",
       " 'Papaya',\n",
       " 'Pera',\n",
       " 'Mango',\n",
       " 'Limón']"
      ]
     },
     "execution_count": 36,
     "metadata": {},
     "output_type": "execute_result"
    }
   ],
   "source": [
    "F"
   ]
  },
  {
   "cell_type": "code",
   "execution_count": 37,
   "metadata": {},
   "outputs": [
    {
     "data": {
      "text/plain": [
       "['Calabaza', 'Acelgas', 'Espinacas', 'Papa', 'Rabano']"
      ]
     },
     "execution_count": 37,
     "metadata": {},
     "output_type": "execute_result"
    }
   ],
   "source": [
    "V"
   ]
  },
  {
   "cell_type": "markdown",
   "metadata": {},
   "source": [
    "# Tuplas\n",
    "\n",
    "Las tuplas son una estructura de datos similar a las listas pero inmodificables, se encierran con paréntesis redondos.\n"
   ]
  },
  {
   "cell_type": "code",
   "execution_count": 39,
   "metadata": {},
   "outputs": [],
   "source": [
    "Lista1=[\"eje_x\",\"eje_y\",\"eje_z\"]\n",
    "Tupla1=(\"eje_x\",\"eje_y\",\"eje_z\")"
   ]
  },
  {
   "cell_type": "code",
   "execution_count": 40,
   "metadata": {},
   "outputs": [
    {
     "data": {
      "text/plain": [
       "1"
      ]
     },
     "execution_count": 40,
     "metadata": {},
     "output_type": "execute_result"
    }
   ],
   "source": [
    "Tupla1.count(\"eje_x\")"
   ]
  },
  {
   "cell_type": "code",
   "execution_count": 41,
   "metadata": {},
   "outputs": [
    {
     "data": {
      "text/plain": [
       "2"
      ]
     },
     "execution_count": 41,
     "metadata": {},
     "output_type": "execute_result"
    }
   ],
   "source": [
    "Tupla1.index(\"eje_z\")"
   ]
  },
  {
   "cell_type": "markdown",
   "metadata": {},
   "source": [
    "La indexación es similar a la de las listas:"
   ]
  },
  {
   "cell_type": "code",
   "execution_count": 42,
   "metadata": {},
   "outputs": [
    {
     "data": {
      "text/plain": [
       "'eje_x'"
      ]
     },
     "execution_count": 42,
     "metadata": {},
     "output_type": "execute_result"
    }
   ],
   "source": [
    "Tupla1[0]"
   ]
  },
  {
   "cell_type": "code",
   "execution_count": 43,
   "metadata": {},
   "outputs": [
    {
     "data": {
      "text/plain": [
       "'eje_z'"
      ]
     },
     "execution_count": 43,
     "metadata": {},
     "output_type": "execute_result"
    }
   ],
   "source": [
    "Tupla1[-1]"
   ]
  },
  {
   "cell_type": "code",
   "execution_count": 44,
   "metadata": {},
   "outputs": [
    {
     "data": {
      "text/plain": [
       "('eje_y', 'eje_z')"
      ]
     },
     "execution_count": 44,
     "metadata": {},
     "output_type": "execute_result"
    }
   ],
   "source": [
    "Tupla1[1:]"
   ]
  },
  {
   "cell_type": "code",
   "execution_count": 45,
   "metadata": {},
   "outputs": [
    {
     "ename": "TypeError",
     "evalue": "'tuple' object does not support item assignment",
     "output_type": "error",
     "traceback": [
      "\u001b[0;31m---------------------------------------------------------------------------\u001b[0m",
      "\u001b[0;31mTypeError\u001b[0m                                 Traceback (most recent call last)",
      "\u001b[0;32m<ipython-input-45-a18936e3c827>\u001b[0m in \u001b[0;36m<module>\u001b[0;34m\u001b[0m\n\u001b[0;32m----> 1\u001b[0;31m \u001b[0mTupla1\u001b[0m\u001b[0;34m[\u001b[0m\u001b[0;36m0\u001b[0m\u001b[0;34m]\u001b[0m\u001b[0;34m=\u001b[0m\u001b[0;34m\"X\"\u001b[0m\u001b[0;34m\u001b[0m\u001b[0;34m\u001b[0m\u001b[0m\n\u001b[0m",
      "\u001b[0;31mTypeError\u001b[0m: 'tuple' object does not support item assignment"
     ]
    }
   ],
   "source": [
    "Tupla1[0]=\"X\""
   ]
  },
  {
   "cell_type": "code",
   "execution_count": 46,
   "metadata": {},
   "outputs": [
    {
     "ename": "AttributeError",
     "evalue": "'tuple' object has no attribute 'extend'",
     "output_type": "error",
     "traceback": [
      "\u001b[0;31m---------------------------------------------------------------------------\u001b[0m",
      "\u001b[0;31mAttributeError\u001b[0m                            Traceback (most recent call last)",
      "\u001b[0;32m<ipython-input-46-314743fb8bc6>\u001b[0m in \u001b[0;36m<module>\u001b[0;34m\u001b[0m\n\u001b[0;32m----> 1\u001b[0;31m \u001b[0mTupla1\u001b[0m\u001b[0;34m.\u001b[0m\u001b[0mextend\u001b[0m\u001b[0;34m(\u001b[0m\u001b[0;34m[\u001b[0m\u001b[0;34m\"eje w\"\u001b[0m\u001b[0;34m]\u001b[0m\u001b[0;34m)\u001b[0m\u001b[0;34m\u001b[0m\u001b[0;34m\u001b[0m\u001b[0m\n\u001b[0m",
      "\u001b[0;31mAttributeError\u001b[0m: 'tuple' object has no attribute 'extend'"
     ]
    }
   ],
   "source": [
    "Tupla1.extend([\"eje w\"])"
   ]
  },
  {
   "cell_type": "code",
   "execution_count": 47,
   "metadata": {},
   "outputs": [],
   "source": [
    "Lista1[0]='X'"
   ]
  },
  {
   "cell_type": "code",
   "execution_count": 48,
   "metadata": {},
   "outputs": [],
   "source": [
    "Lista1.extend([\"eje w\"])"
   ]
  },
  {
   "cell_type": "code",
   "execution_count": 49,
   "metadata": {},
   "outputs": [
    {
     "data": {
      "text/plain": [
       "['X', 'eje_y', 'eje_z', 'eje w']"
      ]
     },
     "execution_count": 49,
     "metadata": {},
     "output_type": "execute_result"
    }
   ],
   "source": [
    "Lista1"
   ]
  },
  {
   "cell_type": "code",
   "execution_count": 50,
   "metadata": {},
   "outputs": [
    {
     "data": {
      "text/plain": [
       "(1, 2, 3, 'Hola', 'Chao')"
      ]
     },
     "execution_count": 50,
     "metadata": {},
     "output_type": "execute_result"
    }
   ],
   "source": [
    "(1,2,3)+(\"Hola\",\"Chao\")"
   ]
  },
  {
   "cell_type": "code",
   "execution_count": 53,
   "metadata": {
    "scrolled": true
   },
   "outputs": [],
   "source": [
    "otratupla=(1,2,3)+(1,2,3)"
   ]
  },
  {
   "cell_type": "markdown",
   "metadata": {},
   "source": [
    "La creación de una tupla unitaria requiere una coma final:"
   ]
  },
  {
   "cell_type": "code",
   "execution_count": 54,
   "metadata": {},
   "outputs": [
    {
     "data": {
      "text/plain": [
       "6"
      ]
     },
     "execution_count": 54,
     "metadata": {},
     "output_type": "execute_result"
    }
   ],
   "source": [
    "len(otratupla)"
   ]
  },
  {
   "cell_type": "code",
   "execution_count": 55,
   "metadata": {},
   "outputs": [],
   "source": [
    "Tupla2=(\"solo\",)"
   ]
  },
  {
   "cell_type": "code",
   "execution_count": 56,
   "metadata": {},
   "outputs": [
    {
     "data": {
      "text/plain": [
       "('solo',)"
      ]
     },
     "execution_count": 56,
     "metadata": {},
     "output_type": "execute_result"
    }
   ],
   "source": [
    "Tupla2"
   ]
  },
  {
   "cell_type": "code",
   "execution_count": 58,
   "metadata": {},
   "outputs": [
    {
     "data": {
      "text/plain": [
       "'solo'"
      ]
     },
     "execution_count": 58,
     "metadata": {},
     "output_type": "execute_result"
    }
   ],
   "source": [
    "Tuplamala=(\"solo\")\n",
    "Tuplamala"
   ]
  },
  {
   "cell_type": "markdown",
   "metadata": {},
   "source": [
    "Tupla desde una lista u otra tupla:"
   ]
  },
  {
   "cell_type": "code",
   "execution_count": 62,
   "metadata": {},
   "outputs": [
    {
     "data": {
      "text/plain": [
       "('Lunes', 'Martes', 'Miércoles', 'Jueves', 'Viernes', 'Sábado', 'Domingo')"
      ]
     },
     "execution_count": 62,
     "metadata": {},
     "output_type": "execute_result"
    }
   ],
   "source": [
    "DiasT=tuple(Dias)\n",
    "DiasT"
   ]
  },
  {
   "cell_type": "code",
   "execution_count": 65,
   "metadata": {},
   "outputs": [
    {
     "data": {
      "text/plain": [
       "(1, 2, 3)"
      ]
     },
     "execution_count": 65,
     "metadata": {},
     "output_type": "execute_result"
    }
   ],
   "source": [
    "tuple(Tupla1.index(i)+1 for i in Tupla1)"
   ]
  },
  {
   "cell_type": "code",
   "execution_count": 66,
   "metadata": {},
   "outputs": [
    {
     "data": {
      "text/plain": [
       "(1, 2, 3)"
      ]
     },
     "execution_count": 66,
     "metadata": {},
     "output_type": "execute_result"
    }
   ],
   "source": [
    "tuple((Tupla1.index(i)+1 for i in Tupla1))"
   ]
  },
  {
   "cell_type": "code",
   "execution_count": 67,
   "metadata": {},
   "outputs": [
    {
     "data": {
      "text/plain": [
       "(1, 2, 2, 1)"
      ]
     },
     "execution_count": 67,
     "metadata": {},
     "output_type": "execute_result"
    }
   ],
   "source": [
    "(1,2)+(2,1)"
   ]
  },
  {
   "cell_type": "code",
   "execution_count": 68,
   "metadata": {},
   "outputs": [
    {
     "data": {
      "text/plain": [
       "([1, 2, 3], [1, 2, 1])"
      ]
     },
     "execution_count": 68,
     "metadata": {},
     "output_type": "execute_result"
    }
   ],
   "source": [
    "([1,2,3],[1,2,1])"
   ]
  },
  {
   "cell_type": "markdown",
   "metadata": {},
   "source": [
    "# Conjuntos\n",
    "\n",
    "Los conjuntos son colecciones de elementos sin indíces y sin orden, se definen entre corchetes `{ . . . }`"
   ]
  },
  {
   "cell_type": "code",
   "execution_count": 69,
   "metadata": {},
   "outputs": [],
   "source": [
    "Set1={\"Nairo\", \"Egan\",\"Rigo\",\"Rigo\"}"
   ]
  },
  {
   "cell_type": "code",
   "execution_count": 70,
   "metadata": {},
   "outputs": [
    {
     "data": {
      "text/plain": [
       "{'Egan', 'Nairo', 'Rigo'}"
      ]
     },
     "execution_count": 70,
     "metadata": {},
     "output_type": "execute_result"
    }
   ],
   "source": [
    "Set1"
   ]
  },
  {
   "cell_type": "code",
   "execution_count": 71,
   "metadata": {},
   "outputs": [
    {
     "ename": "TypeError",
     "evalue": "'set' object is not subscriptable",
     "output_type": "error",
     "traceback": [
      "\u001b[0;31m---------------------------------------------------------------------------\u001b[0m",
      "\u001b[0;31mTypeError\u001b[0m                                 Traceback (most recent call last)",
      "\u001b[0;32m<ipython-input-71-3dd142335144>\u001b[0m in \u001b[0;36m<module>\u001b[0;34m\u001b[0m\n\u001b[0;32m----> 1\u001b[0;31m \u001b[0mSet1\u001b[0m\u001b[0;34m[\u001b[0m\u001b[0;36m2\u001b[0m\u001b[0;34m]\u001b[0m\u001b[0;34m\u001b[0m\u001b[0;34m\u001b[0m\u001b[0m\n\u001b[0m",
      "\u001b[0;31mTypeError\u001b[0m: 'set' object is not subscriptable"
     ]
    }
   ],
   "source": [
    "Set1[2]"
   ]
  },
  {
   "cell_type": "code",
   "execution_count": 72,
   "metadata": {},
   "outputs": [
    {
     "data": {
      "text/plain": [
       "False"
      ]
     },
     "execution_count": 72,
     "metadata": {},
     "output_type": "execute_result"
    }
   ],
   "source": [
    "'Sosa' in Set1"
   ]
  },
  {
   "cell_type": "code",
   "execution_count": 73,
   "metadata": {},
   "outputs": [],
   "source": [
    "Set1.add('Sosa')"
   ]
  },
  {
   "cell_type": "code",
   "execution_count": 74,
   "metadata": {},
   "outputs": [
    {
     "data": {
      "text/plain": [
       "{'Egan', 'Nairo', 'Rigo', 'Sosa'}"
      ]
     },
     "execution_count": 74,
     "metadata": {},
     "output_type": "execute_result"
    }
   ],
   "source": [
    "Set1"
   ]
  },
  {
   "cell_type": "code",
   "execution_count": 75,
   "metadata": {},
   "outputs": [],
   "source": [
    "Set1.add('Lopez')"
   ]
  },
  {
   "cell_type": "code",
   "execution_count": 76,
   "metadata": {},
   "outputs": [
    {
     "data": {
      "text/plain": [
       "{'Egan', 'Lopez', 'Nairo', 'Rigo', 'Sosa'}"
      ]
     },
     "execution_count": 76,
     "metadata": {},
     "output_type": "execute_result"
    }
   ],
   "source": [
    "Set1"
   ]
  },
  {
   "cell_type": "markdown",
   "metadata": {},
   "source": [
    "Podemos convertir listas en conjuntos con el comando `set()`"
   ]
  },
  {
   "cell_type": "code",
   "execution_count": 77,
   "metadata": {},
   "outputs": [
    {
     "data": {
      "text/plain": [
       "['Fresas',\n",
       " 'Papaya',\n",
       " 'Limón',\n",
       " 'Calabaza',\n",
       " 'Acelgas',\n",
       " 'Espinacas',\n",
       " 'Papaya',\n",
       " 'Pera',\n",
       " 'Mora',\n",
       " 'Rabano',\n",
       " 'Limón',\n",
       " 'Papaya',\n",
       " 'Pera',\n",
       " 'Mango',\n",
       " 'Papa',\n",
       " 'Limón']"
      ]
     },
     "execution_count": 77,
     "metadata": {},
     "output_type": "execute_result"
    }
   ],
   "source": [
    "FV"
   ]
  },
  {
   "cell_type": "code",
   "execution_count": 78,
   "metadata": {},
   "outputs": [],
   "source": [
    "CtoFV=set(FV)"
   ]
  },
  {
   "cell_type": "code",
   "execution_count": 79,
   "metadata": {},
   "outputs": [
    {
     "data": {
      "text/plain": [
       "{'Acelgas',\n",
       " 'Calabaza',\n",
       " 'Espinacas',\n",
       " 'Fresas',\n",
       " 'Limón',\n",
       " 'Mango',\n",
       " 'Mora',\n",
       " 'Papa',\n",
       " 'Papaya',\n",
       " 'Pera',\n",
       " 'Rabano'}"
      ]
     },
     "execution_count": 79,
     "metadata": {},
     "output_type": "execute_result"
    }
   ],
   "source": [
    "CtoFV"
   ]
  },
  {
   "cell_type": "markdown",
   "metadata": {},
   "source": [
    "Varias de las operaciones entre listas y operaciones entre conjuntos podemos usar aquí:"
   ]
  },
  {
   "cell_type": "code",
   "execution_count": 80,
   "metadata": {},
   "outputs": [],
   "source": [
    "CtoFV.add(\"Naranja\") ## Agregar un elemento"
   ]
  },
  {
   "cell_type": "code",
   "execution_count": 81,
   "metadata": {},
   "outputs": [
    {
     "data": {
      "text/plain": [
       "{'Acelgas',\n",
       " 'Calabaza',\n",
       " 'Espinacas',\n",
       " 'Fresas',\n",
       " 'Limón',\n",
       " 'Mango',\n",
       " 'Mora',\n",
       " 'Naranja',\n",
       " 'Papa',\n",
       " 'Papaya',\n",
       " 'Pera',\n",
       " 'Rabano'}"
      ]
     },
     "execution_count": 81,
     "metadata": {},
     "output_type": "execute_result"
    }
   ],
   "source": [
    "CtoFV"
   ]
  },
  {
   "cell_type": "code",
   "execution_count": 82,
   "metadata": {},
   "outputs": [],
   "source": [
    "CtoF,CtoV=set(F),set(V)"
   ]
  },
  {
   "cell_type": "code",
   "execution_count": 83,
   "metadata": {},
   "outputs": [
    {
     "data": {
      "text/plain": [
       "{'Fresas', 'Limón', 'Mango', 'Mora', 'Papaya', 'Pera'}"
      ]
     },
     "execution_count": 83,
     "metadata": {},
     "output_type": "execute_result"
    }
   ],
   "source": [
    "CtoF"
   ]
  },
  {
   "cell_type": "code",
   "execution_count": 84,
   "metadata": {},
   "outputs": [
    {
     "data": {
      "text/plain": [
       "{'Acelgas', 'Calabaza', 'Espinacas', 'Papa', 'Rabano'}"
      ]
     },
     "execution_count": 84,
     "metadata": {},
     "output_type": "execute_result"
    }
   ],
   "source": [
    "CtoV"
   ]
  },
  {
   "cell_type": "code",
   "execution_count": 85,
   "metadata": {},
   "outputs": [],
   "source": [
    "\n",
    "Otro_Cto=CtoF.union(CtoV)## Unión de conjuntos"
   ]
  },
  {
   "cell_type": "code",
   "execution_count": 86,
   "metadata": {},
   "outputs": [
    {
     "data": {
      "text/plain": [
       "{'Acelgas',\n",
       " 'Calabaza',\n",
       " 'Espinacas',\n",
       " 'Fresas',\n",
       " 'Limón',\n",
       " 'Mango',\n",
       " 'Mora',\n",
       " 'Papa',\n",
       " 'Papaya',\n",
       " 'Pera',\n",
       " 'Rabano'}"
      ]
     },
     "execution_count": 86,
     "metadata": {},
     "output_type": "execute_result"
    }
   ],
   "source": [
    "Otro_Cto"
   ]
  },
  {
   "cell_type": "code",
   "execution_count": 87,
   "metadata": {},
   "outputs": [
    {
     "data": {
      "text/plain": [
       "{'Acelgas',\n",
       " 'Calabaza',\n",
       " 'Espinacas',\n",
       " 'Fresas',\n",
       " 'Limón',\n",
       " 'Mango',\n",
       " 'Mora',\n",
       " 'Papa',\n",
       " 'Papaya',\n",
       " 'Pera',\n",
       " 'Rabano'}"
      ]
     },
     "execution_count": 87,
     "metadata": {},
     "output_type": "execute_result"
    }
   ],
   "source": [
    "Otro_Cto.intersection(CtoFV) ##intersección"
   ]
  },
  {
   "cell_type": "code",
   "execution_count": 88,
   "metadata": {},
   "outputs": [
    {
     "data": {
      "text/plain": [
       "{'Naranja'}"
      ]
     },
     "execution_count": 88,
     "metadata": {},
     "output_type": "execute_result"
    }
   ],
   "source": [
    "CtoFV.difference(Otro_Cto)##Diferencia"
   ]
  },
  {
   "cell_type": "code",
   "execution_count": 89,
   "metadata": {},
   "outputs": [],
   "source": [
    "Set1.discard(\"Egan\")## Eliminar elementod"
   ]
  },
  {
   "cell_type": "code",
   "execution_count": 90,
   "metadata": {},
   "outputs": [
    {
     "data": {
      "text/plain": [
       "{'Lopez', 'Nairo', 'Rigo', 'Sosa'}"
      ]
     },
     "execution_count": 90,
     "metadata": {},
     "output_type": "execute_result"
    }
   ],
   "source": [
    "Set1"
   ]
  },
  {
   "cell_type": "code",
   "execution_count": 91,
   "metadata": {},
   "outputs": [
    {
     "data": {
      "text/plain": [
       "set"
      ]
     },
     "execution_count": 91,
     "metadata": {},
     "output_type": "execute_result"
    }
   ],
   "source": [
    "type(Set1)"
   ]
  },
  {
   "cell_type": "markdown",
   "metadata": {
    "solution2": "shown",
    "solution2_first": true
   },
   "source": [
    "**Ejercicio** Arreglando el problema de la clasificación de frutas y verduras:"
   ]
  },
  {
   "cell_type": "code",
   "execution_count": 92,
   "metadata": {
    "solution2": "shown"
   },
   "outputs": [
    {
     "name": "stdout",
     "output_type": "stream",
     "text": [
      "Rabano\n"
     ]
    },
    {
     "name": "stdin",
     "output_type": "stream",
     "text": [
      " es fruta (marque F) o Verdura (marque V) v\n"
     ]
    },
    {
     "name": "stdout",
     "output_type": "stream",
     "text": [
      "Fresas\n"
     ]
    },
    {
     "name": "stdin",
     "output_type": "stream",
     "text": [
      " es fruta (marque F) o Verdura (marque V) f\n"
     ]
    },
    {
     "name": "stdout",
     "output_type": "stream",
     "text": [
      "Naranja\n"
     ]
    },
    {
     "name": "stdin",
     "output_type": "stream",
     "text": [
      " es fruta (marque F) o Verdura (marque V) f\n"
     ]
    },
    {
     "name": "stdout",
     "output_type": "stream",
     "text": [
      "Papaya\n"
     ]
    },
    {
     "name": "stdin",
     "output_type": "stream",
     "text": [
      " es fruta (marque F) o Verdura (marque V) f\n"
     ]
    },
    {
     "name": "stdout",
     "output_type": "stream",
     "text": [
      "Papa\n"
     ]
    },
    {
     "name": "stdin",
     "output_type": "stream",
     "text": [
      " es fruta (marque F) o Verdura (marque V) v\n"
     ]
    },
    {
     "name": "stdout",
     "output_type": "stream",
     "text": [
      "Pera\n"
     ]
    },
    {
     "name": "stdin",
     "output_type": "stream",
     "text": [
      " es fruta (marque F) o Verdura (marque V) f\n"
     ]
    },
    {
     "name": "stdout",
     "output_type": "stream",
     "text": [
      "Mora\n"
     ]
    },
    {
     "name": "stdin",
     "output_type": "stream",
     "text": [
      " es fruta (marque F) o Verdura (marque V) f\n"
     ]
    },
    {
     "name": "stdout",
     "output_type": "stream",
     "text": [
      "Espinacas\n"
     ]
    },
    {
     "name": "stdin",
     "output_type": "stream",
     "text": [
      " es fruta (marque F) o Verdura (marque V) v\n"
     ]
    },
    {
     "name": "stdout",
     "output_type": "stream",
     "text": [
      "Limón\n"
     ]
    },
    {
     "name": "stdin",
     "output_type": "stream",
     "text": [
      " es fruta (marque F) o Verdura (marque V) f\n"
     ]
    },
    {
     "name": "stdout",
     "output_type": "stream",
     "text": [
      "Mango\n"
     ]
    },
    {
     "name": "stdin",
     "output_type": "stream",
     "text": [
      " es fruta (marque F) o Verdura (marque V) f\n"
     ]
    },
    {
     "name": "stdout",
     "output_type": "stream",
     "text": [
      "Acelgas\n"
     ]
    },
    {
     "name": "stdin",
     "output_type": "stream",
     "text": [
      " es fruta (marque F) o Verdura (marque V) v\n"
     ]
    },
    {
     "name": "stdout",
     "output_type": "stream",
     "text": [
      "Calabaza\n"
     ]
    },
    {
     "name": "stdin",
     "output_type": "stream",
     "text": [
      " es fruta (marque F) o Verdura (marque V) v\n"
     ]
    },
    {
     "name": "stdout",
     "output_type": "stream",
     "text": [
      "Frutas:  {'Fresas', 'Naranja', 'Papaya', 'Pera', 'Mora', 'Limón', 'Mango'}\n",
      "Verduras:  {'Rabano', 'Espinacas', 'Papa', 'Acelgas', 'Calabaza'}\n",
      "Sin clasificar:  set()\n"
     ]
    }
   ],
   "source": [
    "F=set()\n",
    "V=set()\n",
    "SC=CtoFV.copy()\n",
    "\n",
    "while len(SC)>0:\n",
    "    ol=SC.copy()\n",
    "    for fv in ol:\n",
    "        print(fv)\n",
    "        L=input(\" es fruta (marque F) o Verdura (marque V)\")\n",
    "        if L.upper()==\"F\":        \n",
    "            SC.remove(fv)\n",
    "            F.add(fv)\n",
    "        elif L.upper()==\"V\":\n",
    "            SC.remove(fv)\n",
    "            V.add(fv)\n",
    "        else:\n",
    "            print(\"Esa respuesta no fue correcta\")\n",
    "    print(\"Frutas: \",F)\n",
    "    print(\"Verduras: \",V)\n",
    "    print(\"Sin clasificar: \",SC)"
   ]
  },
  {
   "cell_type": "code",
   "execution_count": 93,
   "metadata": {},
   "outputs": [
    {
     "data": {
      "text/plain": [
       "7"
      ]
     },
     "execution_count": 93,
     "metadata": {},
     "output_type": "execute_result"
    }
   ],
   "source": [
    "len(F)"
   ]
  },
  {
   "cell_type": "code",
   "execution_count": 94,
   "metadata": {},
   "outputs": [
    {
     "data": {
      "text/plain": [
       "['Fresas', 'Naranja', 'Papaya', 'Pera', 'Mora', 'Limón', 'Mango']"
      ]
     },
     "execution_count": 94,
     "metadata": {},
     "output_type": "execute_result"
    }
   ],
   "source": [
    "list(F)"
   ]
  },
  {
   "cell_type": "markdown",
   "metadata": {},
   "source": [
    "# Diccionarios\n",
    "Un diccionario es una colección de elementos indexable, sin orden y modificable. Se escriben entre corchetes y los elementos cuentan con un identificador que llamamos clave o \"key\". \n"
   ]
  },
  {
   "cell_type": "code",
   "execution_count": 95,
   "metadata": {},
   "outputs": [],
   "source": [
    "UC={\"Nombre\": \"Universidad Central\", \"Año de fundación\":1966,\n",
    "              \"Fundador\":set(\"Raúl Vásquez Vélez, Rubén Amaya Reyes, Carlos Medellín, Alberto Gómez Moreno, Eduardo Mendoza Varela, Elberto Téllez Camacho, Jorge Enrique Molina, Darío Samper\".split(\", \")) ,\"Sitio web\":\"www.ucentral.edu.co\",\n",
    "              \"Facultades\":[\"Facultad de Ciencias Sociales Humanidades y Artes\",\"Facultad de Ciencias Administrativas, Económicas y Contables\",\"Facultad de Ingeniería\"]}"
   ]
  },
  {
   "cell_type": "code",
   "execution_count": 96,
   "metadata": {},
   "outputs": [
    {
     "data": {
      "text/plain": [
       "{'Nombre': 'Universidad Central',\n",
       " 'Año de fundación': 1966,\n",
       " 'Fundador': {'Alberto Gómez Moreno',\n",
       "  'Carlos Medellín',\n",
       "  'Darío Samper',\n",
       "  'Eduardo Mendoza Varela',\n",
       "  'Elberto Téllez Camacho',\n",
       "  'Jorge Enrique Molina',\n",
       "  'Raúl Vásquez Vélez',\n",
       "  'Rubén Amaya Reyes'},\n",
       " 'Sitio web': 'www.ucentral.edu.co',\n",
       " 'Facultades': ['Facultad de Ciencias Sociales Humanidades y Artes',\n",
       "  'Facultad de Ciencias Administrativas, Económicas y Contables',\n",
       "  'Facultad de Ingeniería']}"
      ]
     },
     "execution_count": 96,
     "metadata": {},
     "output_type": "execute_result"
    }
   ],
   "source": [
    "UC"
   ]
  },
  {
   "cell_type": "code",
   "execution_count": 97,
   "metadata": {},
   "outputs": [
    {
     "data": {
      "text/plain": [
       "'Universidad Central'"
      ]
     },
     "execution_count": 97,
     "metadata": {},
     "output_type": "execute_result"
    }
   ],
   "source": [
    "UC[\"Nombre\"]"
   ]
  },
  {
   "cell_type": "code",
   "execution_count": 98,
   "metadata": {},
   "outputs": [
    {
     "data": {
      "text/plain": [
       "1966"
      ]
     },
     "execution_count": 98,
     "metadata": {},
     "output_type": "execute_result"
    }
   ],
   "source": [
    "UC[\"Año de fundación\"]"
   ]
  },
  {
   "cell_type": "code",
   "execution_count": 99,
   "metadata": {},
   "outputs": [
    {
     "data": {
      "text/plain": [
       "list"
      ]
     },
     "execution_count": 99,
     "metadata": {},
     "output_type": "execute_result"
    }
   ],
   "source": [
    "type(UC[\"Facultades\"])"
   ]
  },
  {
   "cell_type": "code",
   "execution_count": 100,
   "metadata": {},
   "outputs": [
    {
     "data": {
      "text/plain": [
       "['Facultad de Ciencias Sociales Humanidades y Artes',\n",
       " 'Facultad de Ciencias Administrativas, Económicas y Contables',\n",
       " 'Facultad de Ingeniería']"
      ]
     },
     "execution_count": 100,
     "metadata": {},
     "output_type": "execute_result"
    }
   ],
   "source": [
    "UC[\"Facultades\"]"
   ]
  },
  {
   "cell_type": "code",
   "execution_count": 101,
   "metadata": {},
   "outputs": [
    {
     "ename": "KeyError",
     "evalue": "1",
     "output_type": "error",
     "traceback": [
      "\u001b[0;31m---------------------------------------------------------------------------\u001b[0m",
      "\u001b[0;31mKeyError\u001b[0m                                  Traceback (most recent call last)",
      "\u001b[0;32m<ipython-input-101-56cb015f60c4>\u001b[0m in \u001b[0;36m<module>\u001b[0;34m\u001b[0m\n\u001b[0;32m----> 1\u001b[0;31m \u001b[0mUC\u001b[0m\u001b[0;34m[\u001b[0m\u001b[0;36m1\u001b[0m\u001b[0;34m]\u001b[0m\u001b[0;34m\u001b[0m\u001b[0;34m\u001b[0m\u001b[0m\n\u001b[0m",
      "\u001b[0;31mKeyError\u001b[0m: 1"
     ]
    }
   ],
   "source": [
    "UC[1]"
   ]
  },
  {
   "cell_type": "code",
   "execution_count": 102,
   "metadata": {},
   "outputs": [],
   "source": [
    "UC[\"Departamentos\"]=[\"Departamento de Matemáticas\",\"Departamento de Lenguas\"]"
   ]
  },
  {
   "cell_type": "code",
   "execution_count": 103,
   "metadata": {},
   "outputs": [
    {
     "data": {
      "text/plain": [
       "{'Nombre': 'Universidad Central',\n",
       " 'Año de fundación': 1966,\n",
       " 'Fundador': {'Alberto Gómez Moreno',\n",
       "  'Carlos Medellín',\n",
       "  'Darío Samper',\n",
       "  'Eduardo Mendoza Varela',\n",
       "  'Elberto Téllez Camacho',\n",
       "  'Jorge Enrique Molina',\n",
       "  'Raúl Vásquez Vélez',\n",
       "  'Rubén Amaya Reyes'},\n",
       " 'Sitio web': 'www.ucentral.edu.co',\n",
       " 'Facultades': ['Facultad de Ciencias Sociales Humanidades y Artes',\n",
       "  'Facultad de Ciencias Administrativas, Económicas y Contables',\n",
       "  'Facultad de Ingeniería'],\n",
       " 'Departamentos': ['Departamento de Matemáticas', 'Departamento de Lenguas']}"
      ]
     },
     "execution_count": 103,
     "metadata": {},
     "output_type": "execute_result"
    }
   ],
   "source": [
    "UC"
   ]
  },
  {
   "cell_type": "code",
   "execution_count": 104,
   "metadata": {},
   "outputs": [
    {
     "data": {
      "text/plain": [
       "'Departamento de Matemáticas'"
      ]
     },
     "execution_count": 104,
     "metadata": {},
     "output_type": "execute_result"
    }
   ],
   "source": [
    "UC[\"Departamentos\"][0]"
   ]
  },
  {
   "cell_type": "code",
   "execution_count": 105,
   "metadata": {},
   "outputs": [
    {
     "data": {
      "text/plain": [
       "['Facultad de Ciencias Sociales Humanidades y Artes',\n",
       " 'Facultad de Ciencias Administrativas, Económicas y Contables',\n",
       " 'Facultad de Ingeniería']"
      ]
     },
     "execution_count": 105,
     "metadata": {},
     "output_type": "execute_result"
    }
   ],
   "source": [
    "list(UC[\"Facultades\"])"
   ]
  },
  {
   "cell_type": "code",
   "execution_count": 106,
   "metadata": {},
   "outputs": [
    {
     "data": {
      "text/plain": [
       "'Facultad de Ciencias Sociales Humanidades y Artes'"
      ]
     },
     "execution_count": 106,
     "metadata": {},
     "output_type": "execute_result"
    }
   ],
   "source": [
    "list(UC[\"Facultades\"])[0]"
   ]
  },
  {
   "cell_type": "code",
   "execution_count": 108,
   "metadata": {},
   "outputs": [
    {
     "data": {
      "text/plain": [
       "dict_keys(['Nombre', 'Año de fundación', 'Fundador', 'Sitio web', 'Facultades', 'Departamentos'])"
      ]
     },
     "execution_count": 108,
     "metadata": {},
     "output_type": "execute_result"
    }
   ],
   "source": [
    "UC.keys()"
   ]
  },
  {
   "cell_type": "code",
   "execution_count": 109,
   "metadata": {},
   "outputs": [
    {
     "data": {
      "text/plain": [
       "dict_values(['Universidad Central', 1966, {'Raúl Vásquez Vélez', 'Jorge Enrique Molina', 'Rubén Amaya Reyes', 'Eduardo Mendoza Varela', 'Darío Samper', 'Alberto Gómez Moreno', 'Elberto Téllez Camacho', 'Carlos Medellín'}, 'www.ucentral.edu.co', ['Facultad de Ciencias Sociales Humanidades y Artes', 'Facultad de Ciencias Administrativas, Económicas y Contables', 'Facultad de Ingeniería'], ['Departamento de Matemáticas', 'Departamento de Lenguas']])"
      ]
     },
     "execution_count": 109,
     "metadata": {},
     "output_type": "execute_result"
    }
   ],
   "source": [
    "UC.values()"
   ]
  },
  {
   "cell_type": "code",
   "execution_count": 110,
   "metadata": {},
   "outputs": [],
   "source": [
    "UC['Diccionario']={'A':1,'B':2,'C':3}"
   ]
  },
  {
   "cell_type": "code",
   "execution_count": 111,
   "metadata": {},
   "outputs": [
    {
     "data": {
      "text/plain": [
       "{'Nombre': 'Universidad Central',\n",
       " 'Año de fundación': 1966,\n",
       " 'Fundador': {'Alberto Gómez Moreno',\n",
       "  'Carlos Medellín',\n",
       "  'Darío Samper',\n",
       "  'Eduardo Mendoza Varela',\n",
       "  'Elberto Téllez Camacho',\n",
       "  'Jorge Enrique Molina',\n",
       "  'Raúl Vásquez Vélez',\n",
       "  'Rubén Amaya Reyes'},\n",
       " 'Sitio web': 'www.ucentral.edu.co',\n",
       " 'Facultades': ['Facultad de Ciencias Sociales Humanidades y Artes',\n",
       "  'Facultad de Ciencias Administrativas, Económicas y Contables',\n",
       "  'Facultad de Ingeniería'],\n",
       " 'Departamentos': ['Departamento de Matemáticas', 'Departamento de Lenguas'],\n",
       " 'Diccionario': {'A': 1, 'B': 2, 'C': 3}}"
      ]
     },
     "execution_count": 111,
     "metadata": {},
     "output_type": "execute_result"
    }
   ],
   "source": [
    "UC"
   ]
  },
  {
   "cell_type": "code",
   "execution_count": 114,
   "metadata": {},
   "outputs": [
    {
     "data": {
      "text/plain": [
       "dict_keys(['A', 'B', 'C'])"
      ]
     },
     "execution_count": 114,
     "metadata": {},
     "output_type": "execute_result"
    }
   ],
   "source": [
    "UC['Diccionario'].keys()"
   ]
  },
  {
   "cell_type": "code",
   "execution_count": 116,
   "metadata": {},
   "outputs": [
    {
     "data": {
      "text/plain": [
       "dict_items([('Nombre', 'Universidad Central'), ('Año de fundación', 1966), ('Fundador', {'Raúl Vásquez Vélez', 'Jorge Enrique Molina', 'Rubén Amaya Reyes', 'Eduardo Mendoza Varela', 'Darío Samper', 'Alberto Gómez Moreno', 'Elberto Téllez Camacho', 'Carlos Medellín'}), ('Sitio web', 'www.ucentral.edu.co'), ('Facultades', ['Facultad de Ciencias Sociales Humanidades y Artes', 'Facultad de Ciencias Administrativas, Económicas y Contables', 'Facultad de Ingeniería']), ('Departamentos', ['Departamento de Matemáticas', 'Departamento de Lenguas']), ('Diccionario', {'A': 1, 'B': 2, 'C': 3})])"
      ]
     },
     "execution_count": 116,
     "metadata": {},
     "output_type": "execute_result"
    }
   ],
   "source": [
    "UC.items()"
   ]
  },
  {
   "cell_type": "code",
   "execution_count": 130,
   "metadata": {},
   "outputs": [],
   "source": [
    "UC['Nombre']=UC.fromkeys(('Nombre','Fundador'),('UC','Bogotá'))"
   ]
  },
  {
   "cell_type": "code",
   "execution_count": 131,
   "metadata": {},
   "outputs": [
    {
     "data": {
      "text/plain": [
       "{'Nombre': {'Nombre': ('UC', 'Bogotá'), 'Fundador': ('UC', 'Bogotá')},\n",
       " 'Año de fundación': 1966,\n",
       " 'Fundador': {'Alberto Gómez Moreno',\n",
       "  'Carlos Medellín',\n",
       "  'Darío Samper',\n",
       "  'Eduardo Mendoza Varela',\n",
       "  'Elberto Téllez Camacho',\n",
       "  'Jorge Enrique Molina',\n",
       "  'Raúl Vásquez Vélez',\n",
       "  'Rubén Amaya Reyes'},\n",
       " 'Sitio web': 'www.ucentral.edu.co',\n",
       " 'Facultades': ['Facultad de Ciencias Sociales Humanidades y Artes',\n",
       "  'Facultad de Ciencias Administrativas, Económicas y Contables',\n",
       "  'Facultad de Ingeniería'],\n",
       " 'Departamentos': ['Departamento de Matemáticas', 'Departamento de Lenguas'],\n",
       " 'Diccionario': {'A': 1, 'B': 2, 'C': 3}}"
      ]
     },
     "execution_count": 131,
     "metadata": {},
     "output_type": "execute_result"
    }
   ],
   "source": [
    "UC"
   ]
  }
 ],
 "metadata": {
  "kernelspec": {
   "display_name": "Python 3",
   "language": "python",
   "name": "python3"
  },
  "language_info": {
   "codemirror_mode": {
    "name": "ipython",
    "version": 3
   },
   "file_extension": ".py",
   "mimetype": "text/x-python",
   "name": "python",
   "nbconvert_exporter": "python",
   "pygments_lexer": "ipython3",
   "version": "3.8.5"
  },
  "toc": {
   "base_numbering": 1,
   "nav_menu": {},
   "number_sections": false,
   "sideBar": true,
   "skip_h1_title": false,
   "title_cell": "Table of Contents",
   "title_sidebar": "Contents",
   "toc_cell": false,
   "toc_position": {
    "height": "calc(100% - 180px)",
    "left": "10px",
    "top": "150px",
    "width": "217.933px"
   },
   "toc_section_display": true,
   "toc_window_display": false
  }
 },
 "nbformat": 4,
 "nbformat_minor": 4
}

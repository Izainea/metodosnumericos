{
 "cells": [
  {
   "cell_type": "markdown",
   "id": "impossible-birmingham",
   "metadata": {},
   "source": [
    "# Creador interactivo de cartas\n",
    "\n",
    "\n",
    "**Carlos Isaac Zainea**   \n",
    "*Codificación: Nivel Avanzado*   \n",
    "*Universidad Externado de Colombia*   \n",
    "2021-1"
   ]
  },
  {
   "cell_type": "markdown",
   "id": "tracked-lexington",
   "metadata": {},
   "source": [
    "El siguiente cuaderno tiene algunas instrucciones que le permitiran crear un módulo interactivo para escribir cartas, el objetivo es repasar lo leido en los cuadernos [*listas y arreglos*](https://izainea.github.io/codificacionabogados/#photos) y [*funciones, módulos y paquetes*](https://izainea.github.io/codificacionabogados/#photos). No se preocupe si no termina de realizar la actividad, verá que durante la clase responderemos todas las preguntas que surjan después de realizar este módulo. No olvide que tiene disponible el canal de telegram para que fijemos tutorías o sesiones adicionales.\n",
    "\n",
    "Recomiendo ver los siguientes tutoriales hermosos de python para resolver preguntas rápidas:\n",
    "\n",
    "1. [w3Schools](https://www.w3schools.com/python/)\n",
    "2. [Learn Python](https://www.learnpython.org/es/)\n",
    "\n"
   ]
  },
  {
   "cell_type": "markdown",
   "id": "unsigned-cisco",
   "metadata": {},
   "source": [
    "## Empezar a crear una carta - la función\n",
    "\n",
    "* Iniciamos con identificar la estructura de una carta, el siguiente dibujo puede ayudar:   \n",
    "    \n",
    "    <p><img src=\"https://raw.githubusercontent.com/Izainea/codificacionabogados/master/img/carta.jpg\" style=\"width:350px\"></p>\n",
    "    \n",
    "* El diagrama anterior nos permite tener una idea de la estructura de nuestra función, sobre los diferentes argumentos posibles, que son todos los mencionados en el dibujo,  permitiremos que el usuario tenga la posibilidad de escoger de una lista los siguientes:   \n",
    "        \n",
    "        > * Lugar (Solo permitiremos Bogotá D.C. o Medellín, Antioquia) \n",
    "        > * Tratamiento  \n",
    "        > * Saludo\n",
    "        > * Despedida\n",
    "        > * Firma (Asumimos que hay dos socios, el Ingeniero Pepito Perez y el Abogado Carlos Rodriguez)         \n",
    "  Aquí para cada argumento debemos crear una lista o un diccionario con las diferentes opciones que el creador de la carta podrá escoger, las siguientes variables le pueden servir:"
   ]
  },
  {
   "cell_type": "code",
   "execution_count": 18,
   "id": "broadband-healing",
   "metadata": {},
   "outputs": [],
   "source": [
    "Lugar= [\"Bogotá D.C.\",\"Medellín, Antioquia\"]\n",
    "Tratamiento={\"Señor\":\"Sr.\",\"Señora\":\"Sra.\",\"Doctora\":\"Dra.\",\"Doctor\":\"Dr.\"}\n",
    "Saludo=[\"Distinguida Señora\", \"Estimado Señor\", \"Cordial Saludo\",\"Estimados Señores\" ]\n",
    "Despedida=[\"Atentamente,\", \"Cordialmente,\",\"Respetuosamente,\"]\n",
    "Firma={\"Ingeniero\":\"Pepito Perez \\nIngeniero\",\"Doctor\":\"Carlos Rodriguez \\nDoctor en Medicina\"}"
   ]
  },
  {
   "cell_type": "markdown",
   "id": "outdoor-arctic",
   "metadata": {},
   "source": [
    "* Los demas textos serán proporcionados por el usuario, por lo tanto no los definiremos aún, en la siguiente celda definimos la función que crea la carta:"
   ]
  },
  {
   "cell_type": "code",
   "execution_count": 19,
   "id": "studied-white",
   "metadata": {},
   "outputs": [],
   "source": [
    "def carta(lugar, fecha, tratamiento, destinatario, cargo, empresa, saludo, cuerpo, despedida, firma):\n",
    "    fecha=str(fecha)#cambiamos el tipo de dato de la fecha porque la necesitamos como cadena de texto.\n",
    "    print(\"\\n\\n\\n\")\n",
    "    print(lugar +\", \"+fecha)\n",
    "    print(\"\\n\\n\\n\")\n",
    "    print(tratamiento, destinatario)\n",
    "    print(cargo)\n",
    "    print(empresa)\n",
    "    print(\"\\n\\n\")\n",
    "    print(saludo)\n",
    "    print(\"\\n\")\n",
    "    print(cuerpo)\n",
    "    print(\"\\n\")\n",
    "    print(despedida)\n",
    "    print(\"\\n\\n\\n\")\n",
    "    print(firma)\n",
    "    return"
   ]
  },
  {
   "cell_type": "markdown",
   "id": "soviet-toolbox",
   "metadata": {},
   "source": [
    "Probemos la función:"
   ]
  },
  {
   "cell_type": "code",
   "execution_count": 4,
   "id": "alpine-purse",
   "metadata": {},
   "outputs": [
    {
     "name": "stdout",
     "output_type": "stream",
     "text": [
      "\n",
      "\n",
      "\n",
      "\n",
      "Bogotá D.C., 2 de Julio de 2020\n",
      "\n",
      "\n",
      "\n",
      "\n",
      "Sr. Juan Perez\n",
      "Docente\n",
      "Universidad Externado de Colombia\n",
      "\n",
      "\n",
      "\n",
      "Distinguida Señora\n",
      "\n",
      "\n",
      "Le envío una carta corta\n",
      "\n",
      "\n",
      "Atentamente,\n",
      "\n",
      "\n",
      "\n",
      "\n",
      "Pepito Perez \n",
      "Ingeniero\n"
     ]
    }
   ],
   "source": [
    "carta(Lugar[0],\"2 de Julio de 2020\",Tratamiento[\"Señor\"],\"Juan Perez\", \"Docente\",\"Universidad Externado de Colombia\",\n",
    "      Saludo[0],\"Le envío una carta corta\", Despedida[0],Firma[\"Ingeniero\"])"
   ]
  },
  {
   "cell_type": "markdown",
   "id": "final-baking",
   "metadata": {},
   "source": [
    "***Ejercicio.*** Responda:\n",
    "\n",
    "* ¿Que problemas tiene esta carta?\n",
    "* Describa que significa `Lugar[0]`, `Saludo[0]` y `Despedida[0]` ¿Puede arreglar la carta?¿Cómo?\n",
    "* El que debe firmar es el Abogado ¿Como arregla la línea anterior?\n",
    "* Cuál es el error en la siguiente línea:\n",
    "\n",
    "```Python\n",
    "carta(Lugar[0],\"2 de Julio de 2020\",Tratamiento[\"Señor\"],\"Juan Perez\", \"Docente\",\"Universidad Externado de Colombia\",Saludo[0],\"Le envío una carta corta\", Despedida[0])\n",
    "```"
   ]
  },
  {
   "cell_type": "markdown",
   "id": "aerial-publisher",
   "metadata": {},
   "source": [
    "El anterior ejercicio, aunque imprime una carta aceptable, hace que los argumentos sean difíciles de ingresar, usaremos el paquete [`ipywidgets`](https://ipywidgets.readthedocs.io/en/latest/index.html) para crear módulos interactivos. En este caso usaremos cuatro tipos de widgets:\n",
    "\n",
    "1. [`widgets.Dropdown`](https://ipywidgets.readthedocs.io/en/latest/examples/Widget%20List.html#Dropdown),\n",
    "2. [`widgets.Textarea`](https://ipywidgets.readthedocs.io/en/latest/examples/Widget%20List.html#Textarea),\n",
    "3. [`widgets.Text`](https://ipywidgets.readthedocs.io/en/latest/examples/Widget%20List.html#Text) y\n",
    "4. [`ẁidgets.DatePicker`](https://ipywidgets.readthedocs.io/en/latest/examples/Widget%20List.html#Date-picker)\n",
    "\n",
    "El siguiente código cargará las funciones necesarias para trabajar con estos widgets:"
   ]
  },
  {
   "cell_type": "code",
   "execution_count": 6,
   "id": "marked-business",
   "metadata": {},
   "outputs": [],
   "source": [
    "import ipywidgets as widgets\n",
    "from ipywidgets import interact, Layout"
   ]
  },
  {
   "cell_type": "markdown",
   "id": "removable-performance",
   "metadata": {},
   "source": [
    "***Ejercicio.*** Trate de explicar el código de la celda anterior."
   ]
  },
  {
   "cell_type": "markdown",
   "id": "bacterial-tiffany",
   "metadata": {},
   "source": [
    "Con los paquetes cargados usaremos cada tipo de widget para hacer un módulo interactivo, iniciamos con el widget *Dropdown*.\n",
    "\n",
    "### widgets.Dropdown\n",
    "\n",
    "Se usa para crear listas desplegables, la sintáxis de esta función es:\n",
    "\n",
    "```Python\n",
    "widgets.Dropdown(\n",
    "    options=['1', '2', '3'], #Lista de opciones, puede ser un diccionario\n",
    "    value='2',# Valor escogido por defecto\n",
    "    description='Number:', #Texto que aparece al lado de la lista\n",
    ")\n",
    "```\n",
    "A continuación, por cada lista o diccionario armamos un widget:"
   ]
  },
  {
   "cell_type": "code",
   "execution_count": 7,
   "id": "hybrid-kenya",
   "metadata": {},
   "outputs": [
    {
     "data": {
      "application/vnd.jupyter.widget-view+json": {
       "model_id": "d5e374dbdd20439aaf6b19619e8682a1",
       "version_major": 2,
       "version_minor": 0
      },
      "text/plain": [
       "Dropdown(description='Lugar:', options=('Bogotá D.C.', 'Medellín, Antioquia'), value='Bogotá D.C.')"
      ]
     },
     "metadata": {},
     "output_type": "display_data"
    }
   ],
   "source": [
    "## Lugar \n",
    "lugar=widgets.Dropdown(\n",
    "    options=Lugar, #Lista de opciones, puede ser un diccionario\n",
    "    description='Lugar:', #Texto que aparece al lado de la lista\n",
    ")\n",
    "lugar"
   ]
  },
  {
   "cell_type": "markdown",
   "id": "graphic-friday",
   "metadata": {},
   "source": [
    "**Observación.** La línea 6 de la anterior celda hace referencia al llamado del widget que acabamos de crear, si no lo ponemos creamos el widget pero no lo podemos ver."
   ]
  },
  {
   "cell_type": "code",
   "execution_count": 8,
   "id": "plain-train",
   "metadata": {},
   "outputs": [
    {
     "data": {
      "application/vnd.jupyter.widget-view+json": {
       "model_id": "12a1a1f070f146a381edf474805fce54",
       "version_major": 2,
       "version_minor": 0
      },
      "text/plain": [
       "Dropdown(description='Tratamiento:', options={'Señor': 'Sr.', 'Señora': 'Sra.', 'Doctora': 'Dra.', 'Doctor': '…"
      ]
     },
     "metadata": {},
     "output_type": "display_data"
    }
   ],
   "source": [
    "## Tratamiento \n",
    "tratamiento=widgets.Dropdown(\n",
    "    options=Tratamiento, #Lista de opciones, puede ser un diccionario\n",
    "    description='Tratamiento:', #Texto que aparece al lado de la lista\n",
    ")\n",
    "tratamiento"
   ]
  },
  {
   "cell_type": "code",
   "execution_count": 9,
   "id": "wrong-personality",
   "metadata": {},
   "outputs": [
    {
     "data": {
      "application/vnd.jupyter.widget-view+json": {
       "model_id": "cfb7fec8ad554b0c91baeac179c81dad",
       "version_major": 2,
       "version_minor": 0
      },
      "text/plain": [
       "Dropdown(description='Saludo:', options=('Distinguida Señora', 'Estimado Señor', 'Cordial Saludo', 'Estimados …"
      ]
     },
     "metadata": {},
     "output_type": "display_data"
    }
   ],
   "source": [
    "## Saludo \n",
    "saludo=widgets.Dropdown(\n",
    "    options=Saludo, #Lista de opciones, puede ser un diccionario\n",
    "    description='Saludo:', #Texto que aparece al lado de la lista\n",
    ")\n",
    "saludo"
   ]
  },
  {
   "cell_type": "code",
   "execution_count": 10,
   "id": "forty-chocolate",
   "metadata": {},
   "outputs": [
    {
     "data": {
      "application/vnd.jupyter.widget-view+json": {
       "model_id": "28a8ab59f62f468dbc29205fe2020d70",
       "version_major": 2,
       "version_minor": 0
      },
      "text/plain": [
       "Dropdown(description='Despedida:', options=('Atentamente,', 'Cordialmente,', 'Respetuosamente,'), value='Atent…"
      ]
     },
     "metadata": {},
     "output_type": "display_data"
    }
   ],
   "source": [
    "## Despedida \n",
    "despedida=widgets.Dropdown(\n",
    "    options=Despedida, #Lista de opciones, puede ser un diccionario\n",
    "    description='Despedida:', #Texto que aparece al lado de la lista\n",
    ")\n",
    "despedida"
   ]
  },
  {
   "cell_type": "code",
   "execution_count": 11,
   "id": "constitutional-tribune",
   "metadata": {},
   "outputs": [
    {
     "data": {
      "application/vnd.jupyter.widget-view+json": {
       "model_id": "e6c8c5713f94472d9a5389103265a710",
       "version_major": 2,
       "version_minor": 0
      },
      "text/plain": [
       "Dropdown(description='Firma:', options={'Ingeniero': 'Pepito Perez \\nIngeniero', 'Doctor': 'Carlos Rodriguez \\…"
      ]
     },
     "metadata": {},
     "output_type": "display_data"
    }
   ],
   "source": [
    "## Firma \n",
    "firma=widgets.Dropdown(\n",
    "    options=Firma, #Lista de opciones, puede ser un diccionario\n",
    "    description='Firma:', #Texto que aparece al lado de la lista\n",
    ")\n",
    "firma"
   ]
  },
  {
   "cell_type": "markdown",
   "id": "comparable-tyler",
   "metadata": {},
   "source": [
    "**Ejercicio.** ¿Qué muestra el widget cuando las opciones son un diccionario?"
   ]
  },
  {
   "cell_type": "markdown",
   "id": "defensive-secondary",
   "metadata": {},
   "source": [
    "### widgets.Text\n",
    "\n",
    "Lo utilizaremos para hacer referencia a textos cortos, la sintáxis es la siguiente:\n",
    "```Python\n",
    "widgets.Text(\n",
    "    value='Hello World',#Valor por defecto\n",
    "    placeholder='Type something',#Valor si no hay nada escrito\n",
    "    description='String:', #Texto que nomra al widget\n",
    ")\n",
    "```\n",
    "Utilizaremos este widget para los textos cortos:\n",
    "\n",
    "* destinatario\n",
    "* cargo\n",
    "* empresa"
   ]
  },
  {
   "cell_type": "code",
   "execution_count": 12,
   "id": "common-defeat",
   "metadata": {},
   "outputs": [
    {
     "data": {
      "application/vnd.jupyter.widget-view+json": {
       "model_id": "b131ed09e4a94790b4aa219ffe346541",
       "version_major": 2,
       "version_minor": 0
      },
      "text/plain": [
       "Text(value='', description='Dirigida a:', placeholder='Destinatario')"
      ]
     },
     "metadata": {},
     "output_type": "display_data"
    }
   ],
   "source": [
    "destinatario= widgets.Text(\n",
    "    value='',#Valor por defecto\n",
    "    placeholder='Destinatario',#Valor si no hay nada escrito\n",
    "    description='Dirigida a:', #Texto que nomra al widget\n",
    ")\n",
    "destinatario"
   ]
  },
  {
   "cell_type": "code",
   "execution_count": 13,
   "id": "prescription-characteristic",
   "metadata": {},
   "outputs": [
    {
     "data": {
      "application/vnd.jupyter.widget-view+json": {
       "model_id": "8c7e5b96f79e40c6980334cdcab22bad",
       "version_major": 2,
       "version_minor": 0
      },
      "text/plain": [
       "Text(value='', description='Cargo:', placeholder='Escriba el cargo del destinatario')"
      ]
     },
     "metadata": {},
     "output_type": "display_data"
    }
   ],
   "source": [
    "cargo= widgets.Text(\n",
    "    value='',#Valor por defecto\n",
    "    placeholder='Escriba el cargo del destinatario',#Valor si no hay nada escrito\n",
    "    description='Cargo:', #Texto que nomra al widget\n",
    ")\n",
    "cargo"
   ]
  },
  {
   "cell_type": "code",
   "execution_count": 14,
   "id": "baking-antarctica",
   "metadata": {},
   "outputs": [
    {
     "data": {
      "application/vnd.jupyter.widget-view+json": {
       "model_id": "f154d327d86f46fa8e52fd1274621314",
       "version_major": 2,
       "version_minor": 0
      },
      "text/plain": [
       "Text(value='', description='Empresa:', placeholder='Escriba la empresa del destinatario')"
      ]
     },
     "metadata": {},
     "output_type": "display_data"
    }
   ],
   "source": [
    "empresa= widgets.Text(\n",
    "    value='',#Valor por defecto\n",
    "    placeholder='Escriba la empresa del destinatario',#Valor si no hay nada escrito\n",
    "    description='Empresa:', #Texto que nomra al widget\n",
    ")\n",
    "empresa"
   ]
  },
  {
   "cell_type": "markdown",
   "id": "later-flush",
   "metadata": {},
   "source": [
    "### widgets.TextArea\n",
    "\n",
    "Se utiliza para crear texto Ancho, podemos modificar el ancho y largo del área para escribir, su sintáxis es:\n",
    "\n",
    "```Python\n",
    "widgets.Textarea(\n",
    "    value='Hello World',#Valor por defecto\n",
    "    placeholder='Type something',#Valor si no hay nada escrito\n",
    "    description='String:', #Texto que nomra al widget\n",
    "    layout=Layout(width='300px',height='100px')#Alto y ancho,\n",
    ")\n",
    "```\n",
    "\n",
    "Lo usaremos para el cuerpo."
   ]
  },
  {
   "cell_type": "code",
   "execution_count": 15,
   "id": "private-island",
   "metadata": {},
   "outputs": [
    {
     "data": {
      "application/vnd.jupyter.widget-view+json": {
       "model_id": "d501519b1ecb49d38a95856cea62bcb5",
       "version_major": 2,
       "version_minor": 0
      },
      "text/plain": [
       "Textarea(value='', description='Cuerpo:', layout=Layout(height='300px', width='500px'), placeholder='Cuerpo de…"
      ]
     },
     "metadata": {},
     "output_type": "display_data"
    }
   ],
   "source": [
    "## Cuerpo\n",
    "cuerpo=widgets.Textarea(\n",
    "    value='',#Valor por defecto\n",
    "    placeholder='Cuerpo del mensaje',#Valor si no hay nada escrito\n",
    "    description='Cuerpo:', #Texto que nomra al widget\n",
    "    layout=Layout(width='500px',height='300px')#Alto y ancho,\n",
    ")\n",
    "cuerpo"
   ]
  },
  {
   "cell_type": "markdown",
   "id": "human-improvement",
   "metadata": {},
   "source": [
    "### widgets.DatePicker\n",
    "\n",
    "Lo usaremos para seleccionar la fecha del mensaje.\n",
    "\n",
    "```Python\n",
    "widgets.DatePicker(\n",
    "    description='Pick a Date',#Texto al lado del widget\n",
    "    disabled=False\n",
    ")\n",
    "```"
   ]
  },
  {
   "cell_type": "code",
   "execution_count": 16,
   "id": "personalized-bobby",
   "metadata": {},
   "outputs": [
    {
     "data": {
      "application/vnd.jupyter.widget-view+json": {
       "model_id": "6f6c1189cae8448e9c6bab65abd9aeb9",
       "version_major": 2,
       "version_minor": 0
      },
      "text/plain": [
       "DatePicker(value=None, description='Fecha:')"
      ]
     },
     "metadata": {},
     "output_type": "display_data"
    }
   ],
   "source": [
    "fecha=widgets.DatePicker(\n",
    "    description='Fecha:',\n",
    "    disabled=False\n",
    ")\n",
    "fecha"
   ]
  },
  {
   "cell_type": "markdown",
   "id": "smoking-texas",
   "metadata": {},
   "source": [
    "## Módulo final\n",
    "\n",
    "Con cada widget creado, uso la función `interact` para crear mi módulo interactivo que crea cartas: "
   ]
  },
  {
   "cell_type": "code",
   "execution_count": 20,
   "id": "wicked-outside",
   "metadata": {},
   "outputs": [
    {
     "data": {
      "application/vnd.jupyter.widget-view+json": {
       "model_id": "db7541b3ee134fdeaf8dea794a783bf3",
       "version_major": 2,
       "version_minor": 0
      },
      "text/plain": [
       "interactive(children=(Dropdown(description='Lugar:', options=('Bogotá D.C.', 'Medellín, Antioquia'), value='Bo…"
      ]
     },
     "metadata": {},
     "output_type": "display_data"
    },
    {
     "data": {
      "text/plain": [
       "<function __main__.carta(lugar, fecha, tratamiento, destinatario, cargo, empresa, saludo, cuerpo, despedida, firma)>"
      ]
     },
     "execution_count": 20,
     "metadata": {},
     "output_type": "execute_result"
    }
   ],
   "source": [
    "interact(carta,lugar=lugar, fecha=fecha, tratamiento=tratamiento, destinatario=destinatario, cargo=cargo, \n",
    "         empresa=empresa, saludo=saludo, cuerpo=cuerpo, despedida=despedida, firma=firma)"
   ]
  },
  {
   "cell_type": "markdown",
   "id": "micro-survivor",
   "metadata": {},
   "source": [
    "Corrija este módulo interactivo y adaptelo a sus necesidades. Aproveche la fuerza de Python para hacer su vida más sencilla."
   ]
  }
 ],
 "metadata": {
  "kernelspec": {
   "display_name": "Python 3",
   "language": "python",
   "name": "python3"
  },
  "language_info": {
   "codemirror_mode": {
    "name": "ipython",
    "version": 3
   },
   "file_extension": ".py",
   "mimetype": "text/x-python",
   "name": "python",
   "nbconvert_exporter": "python",
   "pygments_lexer": "ipython3",
   "version": "3.8.5"
  }
 },
 "nbformat": 4,
 "nbformat_minor": 5
}

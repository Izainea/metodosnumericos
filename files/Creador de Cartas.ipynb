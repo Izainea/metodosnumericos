{
 "cells": [
  {
   "cell_type": "markdown",
   "id": "grand-mortgage",
   "metadata": {},
   "source": [
    "# Creador interactivo de cartas\n",
    "\n",
    "\n",
    "**Carlos Isaac Zainea**   \n",
    "  \n",
    "2021-1"
   ]
  },
  {
   "cell_type": "markdown",
   "id": "weekly-disclaimer",
   "metadata": {},
   "source": [
    "El siguiente cuaderno tiene algunas instrucciones que le permitiran crear un módulo interactivo para escribir cartas, el objetivo es repasar lo leido en los cuadernos [*listas y arreglos*](https://izainea.github.io/codificacionabogados/#photos) y [*funciones, módulos y paquetes*](https://izainea.github.io/codificacionabogados/#photos). No se preocupe si no termina de realizar la actividad, verá que durante la clase responderemos todas las preguntas que surjan después de realizar este módulo. No olvide que tiene disponible el canal de telegram para que fijemos tutorías o sesiones adicionales.\n",
    "\n",
    "Recomiendo ver los siguientes tutoriales hermosos de python para resolver preguntas rápidas:\n",
    "\n",
    "1. [w3Schools](https://www.w3schools.com/python/)\n",
    "2. [Learn Python](https://www.learnpython.org/es/)\n",
    "\n"
   ]
  },
  {
   "cell_type": "markdown",
   "id": "designing-credits",
   "metadata": {},
   "source": [
    "## Empezar a crear una carta - la función\n",
    "\n",
    "* Iniciamos con identificar la estructura de una carta, el siguiente dibujo puede ayudar:   \n",
    "    \n",
    "    <p><img src=\"https://raw.githubusercontent.com/Izainea/codificacionabogados/master/img/carta.jpg\" style=\"width:350px\"></p>\n",
    "    \n",
    "* El diagrama anterior nos permite tener una idea de la estructura de nuestra función, sobre los diferentes argumentos posibles, que son todos los mencionados en el dibujo,  permitiremos que el usuario tenga la posibilidad de escoger de una lista los siguientes:   \n",
    "        \n",
    "        > * Lugar (Solo permitiremos Bogotá D.C. o Medellín, Antioquia) \n",
    "        > * Tratamiento  \n",
    "        > * Saludo\n",
    "        > * Despedida\n",
    "        > * Firma (Asumimos que hay dos socios, el Ingeniero Pepito Perez y el Abogado Carlos Rodriguez)         \n",
    "  Aquí para cada argumento debemos crear una lista o un diccionario con las diferentes opciones que el creador de la carta podrá escoger, las siguientes variables le pueden servir:"
   ]
  },
  {
   "cell_type": "code",
   "execution_count": null,
   "id": "unique-wellington",
   "metadata": {},
   "outputs": [],
   "source": [
    "Lugar= [\"Bogotá D.C.\",\"Medellín, Antioquia\"]\n",
    "Tratamiento={\"Señor\":\"Sr.\",\"Señora\":\"Sra.\",\"Doctora\":\"Dra.\",\"Doctor\":\"Dr.\"}\n",
    "Saludo=[\"Distinguida Señora\", \"Estimado Señor\", \"Cordial Saludo\",\"Estimados Señores\" ]\n",
    "Despedida=[\"Atentamente,\", \"Cordialmente,\",\"Respetuosamente,\"]\n",
    "Firma={\"Ingeniero\":\"Pepito Perez \\nIngeniero\",\"Doctor\":\"Carlos Rodriguez \\nDoctor en Medicina\"}"
   ]
  },
  {
   "cell_type": "markdown",
   "id": "ranging-meeting",
   "metadata": {},
   "source": [
    "* Los demas textos serán proporcionados por el usuario, por lo tanto no los definiremos aún, en la siguiente celda definimos la función que crea la carta:"
   ]
  },
  {
   "cell_type": "code",
   "execution_count": null,
   "id": "recorded-execution",
   "metadata": {},
   "outputs": [],
   "source": [
    "def carta(lugar, fecha, tratamiento, destinatario, cargo, empresa, saludo, cuerpo, despedida, firma):\n",
    "    fecha=str(fecha)#cambiamos el tipo de dato de la fecha porque la necesitamos como cadena de texto.\n",
    "    print(\"\\n\\n\\n\")\n",
    "    print(lugar +\", \"+fecha)\n",
    "    print(\"\\n\\n\\n\")\n",
    "    print(tratamiento, destinatario)\n",
    "    print(cargo)\n",
    "    print(empresa)\n",
    "    print(\"\\n\\n\")\n",
    "    print(saludo)\n",
    "    print(\"\\n\")\n",
    "    print(cuerpo)\n",
    "    print(\"\\n\")\n",
    "    print(despedida)\n",
    "    print(\"\\n\\n\\n\")\n",
    "    print(firma)\n",
    "    return"
   ]
  },
  {
   "cell_type": "markdown",
   "id": "seven-fashion",
   "metadata": {},
   "source": [
    "Probemos la función:"
   ]
  },
  {
   "cell_type": "code",
   "execution_count": null,
   "id": "understanding-sleeping",
   "metadata": {},
   "outputs": [],
   "source": [
    "carta(Lugar[0],\"2 de Julio de 2020\",Tratamiento[\"Señor\"],\"Juan Perez\", \"Docente\",\"Universidad\",\n",
    "      Saludo[0],\"Le envío una carta corta\", Despedida[0],Firma[\"Ingeniero\"])"
   ]
  },
  {
   "cell_type": "markdown",
   "id": "coupled-interim",
   "metadata": {},
   "source": [
    "***Ejercicio.*** Responda:\n",
    "\n",
    "* ¿Que problemas tiene esta carta?\n",
    "* Describa que significa `Lugar[0]`, `Saludo[0]` y `Despedida[0]` ¿Puede arreglar la carta?¿Cómo?\n",
    "* El que debe firmar es el Abogado ¿Como arregla la línea anterior?\n",
    "* Cuál es el error en la siguiente línea:\n",
    "\n",
    "```Python\n",
    "carta(Lugar[0],\"2 de Julio de 2020\",Tratamiento[\"Señor\"],\"Juan Perez\", \"Docente\",\"Universidad\",Saludo[0],\"Le envío una carta corta\", Despedida[0])\n",
    "```"
   ]
  },
  {
   "cell_type": "markdown",
   "id": "fluid-session",
   "metadata": {},
   "source": [
    "El anterior ejercicio, aunque imprime una carta aceptable, hace que los argumentos sean difíciles de ingresar, usaremos el paquete [`ipywidgets`](https://ipywidgets.readthedocs.io/en/latest/index.html) para crear módulos interactivos. En este caso usaremos cuatro tipos de widgets:\n",
    "\n",
    "1. [`widgets.Dropdown`](https://ipywidgets.readthedocs.io/en/latest/examples/Widget%20List.html#Dropdown),\n",
    "2. [`widgets.Textarea`](https://ipywidgets.readthedocs.io/en/latest/examples/Widget%20List.html#Textarea),\n",
    "3. [`widgets.Text`](https://ipywidgets.readthedocs.io/en/latest/examples/Widget%20List.html#Text) y\n",
    "4. [`ẁidgets.DatePicker`](https://ipywidgets.readthedocs.io/en/latest/examples/Widget%20List.html#Date-picker)\n",
    "\n",
    "El siguiente código cargará las funciones necesarias para trabajar con estos widgets:"
   ]
  },
  {
   "cell_type": "code",
   "execution_count": null,
   "id": "sophisticated-hammer",
   "metadata": {},
   "outputs": [],
   "source": [
    "import ipywidgets as widgets\n",
    "from ipywidgets import interact, Layout"
   ]
  },
  {
   "cell_type": "markdown",
   "id": "underlying-romania",
   "metadata": {},
   "source": [
    "***Ejercicio.*** Trate de explicar el código de la celda anterior."
   ]
  },
  {
   "cell_type": "markdown",
   "id": "corporate-filling",
   "metadata": {},
   "source": [
    "Con los paquetes cargados usaremos cada tipo de widget para hacer un módulo interactivo, iniciamos con el widget *Dropdown*.\n",
    "\n",
    "### widgets.Dropdown\n",
    "\n",
    "Se usa para crear listas desplegables, la sintáxis de esta función es:\n",
    "\n",
    "```Python\n",
    "widgets.Dropdown(\n",
    "    options=['1', '2', '3'], #Lista de opciones, puede ser un diccionario\n",
    "    value='2',# Valor escogido por defecto\n",
    "    description='Number:', #Texto que aparece al lado de la lista\n",
    ")\n",
    "```\n",
    "A continuación, por cada lista o diccionario armamos un widget:"
   ]
  },
  {
   "cell_type": "code",
   "execution_count": null,
   "id": "electronic-reducing",
   "metadata": {},
   "outputs": [],
   "source": [
    "## Lugar \n",
    "lugar=widgets.Dropdown(\n",
    "    options=Lugar, #Lista de opciones, puede ser un diccionario\n",
    "    description='Lugar:', #Texto que aparece al lado de la lista\n",
    ")\n",
    "lugar\n",
    "\n",
    "## Como funciona en la función\n",
    "def sololugar(x):\n",
    "    return print('mi lugar es '+x)\n",
    "\n",
    "interact(sololugar,x=lugar)\n",
    "\n",
    "print('')"
   ]
  },
  {
   "cell_type": "markdown",
   "id": "subjective-petite",
   "metadata": {},
   "source": [
    "**Observación.** La línea 6 de la anterior celda hace referencia al llamado del widget que acabamos de crear, si no lo ponemos creamos el widget pero no lo podemos ver."
   ]
  },
  {
   "cell_type": "code",
   "execution_count": null,
   "id": "radical-semester",
   "metadata": {},
   "outputs": [],
   "source": [
    "## Tratamiento \n",
    "tratamiento=widgets.Dropdown(\n",
    "    options=Tratamiento, #Lista de opciones, puede ser un diccionario\n",
    "    description='Tratamiento:', #Texto que aparece al lado de la lista\n",
    ")\n",
    "tratamiento\n",
    "def paltratamiento(x):\n",
    "    return print(x+' Alberto Perez')\n",
    "\n",
    "interact(paltratamiento,x=tratamiento)\n",
    "\n",
    "print('')"
   ]
  },
  {
   "cell_type": "code",
   "execution_count": null,
   "id": "interracial-radiation",
   "metadata": {},
   "outputs": [],
   "source": [
    "## Saludo \n",
    "saludo=widgets.Dropdown(\n",
    "    options=Saludo, #Lista de opciones, puede ser un diccionario\n",
    "    description='Saludo:', #Texto que aparece al lado de la lista\n",
    ")\n",
    "saludo"
   ]
  },
  {
   "cell_type": "code",
   "execution_count": null,
   "id": "specific-damage",
   "metadata": {},
   "outputs": [],
   "source": [
    "## Despedida \n",
    "despedida=widgets.Dropdown(\n",
    "    options=Despedida, #Lista de opciones, puede ser un diccionario\n",
    "    description='Despedida:', #Texto que aparece al lado de la lista\n",
    ")\n",
    "despedida"
   ]
  },
  {
   "cell_type": "code",
   "execution_count": null,
   "id": "welsh-cheat",
   "metadata": {},
   "outputs": [],
   "source": [
    "## Firma \n",
    "firma=widgets.Dropdown(\n",
    "    options=Firma, #Lista de opciones, puede ser un diccionario\n",
    "    description='Firma:', #Texto que aparece al lado de la lista\n",
    ")\n",
    "firma"
   ]
  },
  {
   "cell_type": "markdown",
   "id": "minus-disposition",
   "metadata": {},
   "source": [
    "**Ejercicio.** ¿Qué muestra el widget cuando las opciones son un diccionario?"
   ]
  },
  {
   "cell_type": "markdown",
   "id": "willing-limit",
   "metadata": {},
   "source": [
    "### widgets.Text\n",
    "\n",
    "Lo utilizaremos para hacer referencia a textos cortos, la sintáxis es la siguiente:\n",
    "```Python\n",
    "widgets.Text(\n",
    "    value='Hello World',#Valor por defecto\n",
    "    placeholder='Type something',#Valor si no hay nada escrito\n",
    "    description='String:', #Texto que nomra al widget\n",
    ")\n",
    "```\n",
    "Utilizaremos este widget para los textos cortos:\n",
    "\n",
    "* destinatario\n",
    "* cargo\n",
    "* empresa"
   ]
  },
  {
   "cell_type": "code",
   "execution_count": null,
   "id": "greatest-romantic",
   "metadata": {},
   "outputs": [],
   "source": [
    "destinatario= widgets.Text(\n",
    "    value='',#Valor por defecto\n",
    "    placeholder='Destinatario',#Valor si no hay nada escrito\n",
    "    description='Dirigida a:', #Texto que nomra al widget\n",
    ")\n",
    "destinatario"
   ]
  },
  {
   "cell_type": "code",
   "execution_count": null,
   "id": "essential-event",
   "metadata": {},
   "outputs": [],
   "source": [
    "cargo= widgets.Text(\n",
    "    value='',#Valor por defecto\n",
    "    placeholder='Escriba el cargo del destinatario',#Valor si no hay nada escrito\n",
    "    description='Cargo:', #Texto que nomra al widget\n",
    ")\n",
    "cargo"
   ]
  },
  {
   "cell_type": "code",
   "execution_count": null,
   "id": "sticky-picnic",
   "metadata": {},
   "outputs": [],
   "source": [
    "empresa= widgets.Text(\n",
    "    value='',#Valor por defecto\n",
    "    placeholder='Escriba la empresa del destinatario',#Valor si no hay nada escrito\n",
    "    description='Empresa:', #Texto que nomra al widget\n",
    ")\n",
    "empresa"
   ]
  },
  {
   "cell_type": "markdown",
   "id": "documentary-production",
   "metadata": {},
   "source": [
    "### widgets.TextArea\n",
    "\n",
    "Se utiliza para crear texto Ancho, podemos modificar el ancho y largo del área para escribir, su sintáxis es:\n",
    "\n",
    "```Python\n",
    "widgets.Textarea(\n",
    "    value='Hello World',#Valor por defecto\n",
    "    placeholder='Type something',#Valor si no hay nada escrito\n",
    "    description='String:', #Texto que nomra al widget\n",
    "    layout=Layout(width='300px',height='100px')#Alto y ancho,\n",
    ")\n",
    "```\n",
    "\n",
    "Lo usaremos para el cuerpo."
   ]
  },
  {
   "cell_type": "code",
   "execution_count": null,
   "id": "attended-bridges",
   "metadata": {},
   "outputs": [],
   "source": [
    "## Cuerpo\n",
    "cuerpo=widgets.Textarea(\n",
    "    value='',#Valor por defecto\n",
    "    placeholder='Cuerpo del mensaje',#Valor si no hay nada escrito\n",
    "    description='Cuerpo:', #Texto que nomra al widget\n",
    "    layout=Layout(width='500px',height='300px')#Alto y ancho,\n",
    ")\n",
    "cuerpo"
   ]
  },
  {
   "cell_type": "markdown",
   "id": "cathedral-walker",
   "metadata": {},
   "source": [
    "### widgets.DatePicker\n",
    "\n",
    "Lo usaremos para seleccionar la fecha del mensaje.\n",
    "\n",
    "```Python\n",
    "widgets.DatePicker(\n",
    "    description='Pick a Date',#Texto al lado del widget\n",
    "    disabled=False\n",
    ")\n",
    "```"
   ]
  },
  {
   "cell_type": "code",
   "execution_count": null,
   "id": "anonymous-biology",
   "metadata": {},
   "outputs": [],
   "source": [
    "fecha=widgets.DatePicker(\n",
    "    description='Fecha:',\n",
    "    disabled=False\n",
    ")\n",
    "fecha"
   ]
  },
  {
   "cell_type": "markdown",
   "id": "exclusive-spice",
   "metadata": {},
   "source": [
    "## Módulo final\n",
    "\n",
    "Con cada widget creado, uso la función `interact` para crear mi módulo interactivo que crea cartas: "
   ]
  },
  {
   "cell_type": "code",
   "execution_count": null,
   "id": "systematic-produce",
   "metadata": {},
   "outputs": [],
   "source": [
    "interact(carta,lugar=lugar, fecha=fecha, tratamiento=tratamiento, destinatario=destinatario, cargo=cargo, \n",
    "         empresa=empresa, saludo=saludo, cuerpo=cuerpo, despedida=despedida, firma=firma)\n",
    "print('')"
   ]
  },
  {
   "cell_type": "markdown",
   "id": "advisory-times",
   "metadata": {},
   "source": [
    "Corrija este módulo interactivo y adaptelo a sus necesidades. Aproveche la fuerza de Python para hacer su vida más sencilla."
   ]
  }
 ],
 "metadata": {
  "kernelspec": {
   "display_name": "Python 3",
   "language": "python",
   "name": "python3"
  },
  "language_info": {
   "codemirror_mode": {
    "name": "ipython",
    "version": 3
   },
   "file_extension": ".py",
   "mimetype": "text/x-python",
   "name": "python",
   "nbconvert_exporter": "python",
   "pygments_lexer": "ipython3",
   "version": "3.8.5"
  }
 },
 "nbformat": 4,
 "nbformat_minor": 5
}

{
 "cells": [
  {
   "cell_type": "markdown",
   "metadata": {},
   "source": [
    "<div style=\"background-color:black;color: white;padding:5%\">\n",
    "  <h1>Mi primer cuaderno</h1>\n",
    "  <p><i>Carlos Isaac Zainea Maya</i>\n",
    "      <br>\n",
    "  <strong>Universidad Central</strong>\n",
    "      <br>\n",
    "  <b><i>Métodos Numéricos y Modelado</i></b></p>\n",
    "</div>"
   ]
  },
  {
   "cell_type": "markdown",
   "metadata": {},
   "source": [
    "## Primer Capítulo - Un acercamiento al texto enriquecido\n",
    "\n",
    "Empezaremos con mi primer parrafo en *Markdown* y expresando un **cita** sencilla:\n",
    "\n",
    ">\"*Markdown hace fácil escribir en Jupyter.*\"\n",
    "\n",
    "Ahora montaremos una lista numeradas en *Markdown*:\n",
    "\n",
    "1. Primer Elemento\n",
    "1. Segundo Elemento\n",
    "    1. Primer elemento del segundo elemento\n",
    "    3. Segundo elemento del primer elemento\n",
    "1. Tercer elemento\n",
    "\n",
    "Ahora montaremos una lista no numerada en *Markdown*:\n",
    "\n",
    "* Primer Elemento\n",
    "* Segundo Elemento\n",
    "    * Primer elemento del segundo elemento\n",
    "    * Segundo elemento del primer elemento\n",
    "* Tercer elemento\n"
   ]
  },
  {
   "cell_type": "markdown",
   "metadata": {},
   "source": [
    "## Imágenes y enlaces\n",
    "### Enlaces\n",
    "\n",
    "En jupyter puedo crear enlaces a páginas web el código es así:\n",
    "\n",
    "```\n",
    "[Texto que aparece](https://paginawebdelenlace.com)\n",
    "```\n",
    "\n",
    "Obteniendo un enlace como el que sigue:\n",
    "\n",
    "[Texto que aparece](https://paginawebdelenlace.com)\n",
    "\n",
    "Por ejemplo, `[Universidad Central](https://www.ucentral.edu.co)` enlaza a la página de la U como sigue:\n",
    "\n",
    "[Universidad Central](https://www.ucentral.edu.co)"
   ]
  },
  {
   "cell_type": "markdown",
   "metadata": {},
   "source": [
    "### Imágenes\n",
    "\n",
    "Para referenciar una imagen, dicha imagen debe estar en la web o usted debe reconocer el sitio en el cual la imagen está alojada:\n",
    "\n",
    "**Desde la web**\n",
    "```\n",
    "![Nombre Imagen](link de la imagen)\n",
    "```\n",
    "\n",
    "![Logo Central](https://www.ucentral.edu.co/themes/ucentral/img/template/Universidad%20Central.png)\n",
    "\n",
    "**Desde una imagen local**\n",
    "\n",
    "La imagen debe estar guardada y se usará una sintaxis similar:\n",
    "\n",
    "\n",
    "![bienvenida central](img1.jpg)\n",
    "\n",
    "**Usando HTML**\n",
    "\n",
    "Si quiere mejorar la imagen puede utilizar código HTML, por ejemplo si guiere centrar el siguiente código le servirá:\n",
    "\n",
    "```HTML\n",
    "<center><img src='https://www.ucentral.edu.co/themes/ucentral/img/template/Universidad%20Central.png'></center>\n",
    "```\n",
    "<center><img src='https://www.ucentral.edu.co/themes/ucentral/img/template/Universidad%20Central.png'></center>"
   ]
  },
  {
   "cell_type": "markdown",
   "metadata": {},
   "source": [
    "## Ahora sí, un poema:\n",
    "\n",
    "Las rosas son rojas,  \n",
    "el cielo es azul,  \n",
    "la vida sigue,  \n",
    "y todavía no se hacer poemas...  \n",
    "\n",
    "Para poder armar en un parrafo un salto de línea agrego dos espacos al final de cada línea:\n",
    "\n",
    "```\n",
    "Las rosas son rojas, _ _  \n",
    "el cielo es azul,_ _  \n",
    "la vida sigue, _ _\n",
    "y todavía no se hacer poemas...  _ _\n",
    "\n",
    "*(_) hace alusión a un espacio\n",
    "```\n"
   ]
  },
  {
   "cell_type": "markdown",
   "metadata": {},
   "source": [
    "En listas este método resulta muy útil:\n",
    "\n",
    "1. Elemento inicial:  \n",
    "   Trabajo con un parrafo dentro de una lista.\n",
    "   \n",
    "2. Elemento secundario:  \n",
    "   Sigo trabajando...\n",
    "\n",
    "```\n",
    "1. Elemento inicial:_ _ \n",
    "   Trabajo con un parrafo dentro de una lista.\n",
    "   \n",
    "2. Elemento secundario:_ _\n",
    "   Sigo trabajando...\n",
    "```"
   ]
  },
  {
   "cell_type": "markdown",
   "metadata": {},
   "source": [
    "## Lineas verticales y ayuda de código en consola\n",
    "\n",
    "Si quiero dibujar una línea verttical utilizo más de tres `*`\n",
    "\n",
    "Así:\n",
    "***\n",
    "Una línea horizontal,\n",
    "\n",
    "o  tres guiones bajos `_`, así:\n",
    "\n",
    "___ \n",
    "---\n",
    "Hola"
   ]
  },
  {
   "cell_type": "markdown",
   "metadata": {},
   "source": [
    "## Salida tipo consola o código fuente\n",
    "\n",
    "Muestra como muestra el código:\n",
    "\n",
    "*cursiva* **negrilla**\n",
    "~~~markdown\n",
    "*cursiva* **negrilla**\n",
    "~~~\n",
    "\n"
   ]
  },
  {
   "cell_type": "markdown",
   "metadata": {},
   "source": [
    "## Insertar un video\n",
    "\n",
    "Necesito Python:"
   ]
  },
  {
   "cell_type": "code",
   "execution_count": 3,
   "metadata": {},
   "outputs": [
    {
     "data": {
      "text/html": [
       "<div style=\"width: 100%;\"><div style=\"position: relative; padding-bottom: 56.25%; padding-top: 0; height: 0;\"><iframe frameborder=\"0\" width=\"960\" height=\"540\" style=\"position: absolute; top: 0; left: 0; width: 100%; height: 100%;\" src=\"https://view.genial.ly/601985a25727d16022245c51\" type=\"text/html\" allowscriptaccess=\"always\" allowfullscreen=\"true\" scrolling=\"yes\" allownetworking=\"all\"></iframe> </div> </div>"
      ],
      "text/plain": [
       "<IPython.core.display.HTML object>"
      ]
     },
     "execution_count": 3,
     "metadata": {},
     "output_type": "execute_result"
    }
   ],
   "source": [
    "from IPython.display import HTML\n",
    "\n",
    "HTML('<div style=\"width: 100%;\"><div style=\"position: relative; padding-bottom: 56.25%; padding-top: 0; height: 0;\"><iframe frameborder=\"0\" width=\"960\" height=\"540\" style=\"position: absolute; top: 0; left: 0; width: 100%; height: 100%;\" src=\"https://view.genial.ly/601985a25727d16022245c51\" type=\"text/html\" allowscriptaccess=\"always\" allowfullscreen=\"true\" scrolling=\"yes\" allownetworking=\"all\"></iframe> </div> </div>')"
   ]
  },
  {
   "cell_type": "code",
   "execution_count": 5,
   "metadata": {},
   "outputs": [
    {
     "data": {
      "text/html": [
       "<iframe width=\"560\" height=\"315\" src=\"https://www.youtube.com/embed/1d8bNxbVV6o\" frameborder=\"0\" allow=\"accelerometer; autoplay; clipboard-write; encrypted-media; gyroscope; picture-in-picture\" allowfullscreen></iframe>"
      ],
      "text/plain": [
       "<IPython.core.display.HTML object>"
      ]
     },
     "execution_count": 5,
     "metadata": {},
     "output_type": "execute_result"
    }
   ],
   "source": [
    "from IPython.display import HTML\n",
    "HTML('<iframe width=\"560\" height=\"315\" src=\"https://www.youtube.com/embed/1d8bNxbVV6o\" frameborder=\"0\" allow=\"accelerometer; autoplay; clipboard-write; encrypted-media; gyroscope; picture-in-picture\" allowfullscreen></iframe>')"
   ]
  },
  {
   "cell_type": "markdown",
   "metadata": {},
   "source": [
    "## Consideraciones finales\n",
    "\n",
    "Similar al asterisco texto\n",
    "_subrayo_\n",
    "\n",
    "\n",
    "Tacha  \n",
    "~~tacho~~"
   ]
  },
  {
   "cell_type": "markdown",
   "metadata": {},
   "source": [
    "## Crear tablas\n",
    "\n",
    "|Colores|Valores|Código|\n",
    "|:--:|:--|--:|\n",
    "|Amarillo|1|ama|\n",
    "|Verde|2|ver|\n",
    "|Rojo|3|ojo|\n",
    "|Azul|4|luz|\n",
    "\n",
    "\n",
    "El código para generar la anterior tabla es:\n",
    "\n",
    "```markdown\n",
    "|Colores|Valores|Código|\n",
    "|:--:|:--|--:|\n",
    "|Amarillo|1|ama|\n",
    "|Verde|2|ver|\n",
    "|Rojo|3|ojo|\n",
    "|Azul|4|luz|\n",
    "```\n"
   ]
  },
  {
   "cell_type": "markdown",
   "metadata": {},
   "source": [
    "## Texto matemático\n",
    "\n",
    "Para hacer referencia al texto matemático se usa código $\\LaTeX{}$ con el compilador MathJax.\n",
    "\n",
    "Ejemplo, \n",
    "\n",
    "$$ \\sum\\limits_{i=1}^{n} i = \\cfrac{n(n+1)}{2}$$"
   ]
  }
 ],
 "metadata": {
  "kernelspec": {
   "display_name": "Python 3",
   "language": "python",
   "name": "python3"
  },
  "language_info": {
   "codemirror_mode": {
    "name": "ipython",
    "version": 3
   },
   "file_extension": ".py",
   "mimetype": "text/x-python",
   "name": "python",
   "nbconvert_exporter": "python",
   "pygments_lexer": "ipython3",
   "version": "3.8.5"
  }
 },
 "nbformat": 4,
 "nbformat_minor": 5
}

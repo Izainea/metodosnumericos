{
 "cells": [
  {
   "cell_type": "markdown",
   "metadata": {
    "colab_type": "text",
    "id": "-MlSHN16Bg8-"
   },
   "source": [
    "# Introducción al lenguaje Python\n",
    "\n",
    "*Universidad Central - Maestría en Analítica de Datos*\n",
    "\n",
    "*Carlos Isaac Zainea Maya*"
   ]
  },
  {
   "cell_type": "markdown",
   "metadata": {
    "colab_type": "text",
    "id": "scclT03UHVrm"
   },
   "source": [
    "## Hello World!"
   ]
  },
  {
   "cell_type": "markdown",
   "metadata": {
    "colab_type": "text",
    "id": "c3ntgbdgHbS-"
   },
   "source": [
    "El primer ejemplo clásico de programación es saludar, o sea, decirle al computador que muestre un saludo.\n",
    "\n",
    "Para esto, se usa la función de Python llamada **print**.\n",
    "\n",
    "Para colocar un saludo (o un **texto cualquiera**), se debe colocar entre **comillas (dobles o simples)** dentro del comando print.\n",
    "\n",
    "Entonces, para que el computador muestre un saludo, por ejemplo **Hello, World!**, debemos escribir en ambiente de código\n",
    "\n",
    "*print(\"Hello World!\");*"
   ]
  },
  {
   "cell_type": "code",
   "execution_count": 1,
   "metadata": {
    "colab": {
     "base_uri": "https://localhost:8080/",
     "height": 34
    },
    "colab_type": "code",
    "executionInfo": {
     "elapsed": 1364,
     "status": "ok",
     "timestamp": 1568681643919,
     "user": {
      "displayName": "Daniel Montenegro",
      "photoUrl": "",
      "userId": "07275166318289302366"
     },
     "user_tz": 300
    },
    "id": "8i6cS6oYA-Lv",
    "outputId": "4e5ed3b9-4c83-45c9-dbc1-5b7113f4418f"
   },
   "outputs": [
    {
     "name": "stdout",
     "output_type": "stream",
     "text": [
      "Hello World!\n"
     ]
    }
   ],
   "source": [
    "print(\"Hello World!\")"
   ]
  },
  {
   "cell_type": "markdown",
   "metadata": {
    "colab_type": "text",
    "id": "aM1gxggOCDGO"
   },
   "source": [
    "Note que el resultado se muestra sin las comillas dobles. Estas comillas dobles se usan para decirle al computador que vamos a ingresar texto.\n",
    "\n",
    "Si quisieramos escribir con un salto de linea escribimos \"\\n\" así al escribir `print(\"hola\\nmundo\")` tenemos:\n",
    "\n",
    "`hola\n",
    "mundo`"
   ]
  },
  {
   "cell_type": "code",
   "execution_count": 2,
   "metadata": {},
   "outputs": [
    {
     "name": "stdout",
     "output_type": "stream",
     "text": [
      "hola\n",
      "mundo\n"
     ]
    }
   ],
   "source": [
    "print(\"hola\\nmundo\")"
   ]
  },
  {
   "cell_type": "markdown",
   "metadata": {
    "colab_type": "text",
    "id": "gGbUqKOAJc_C"
   },
   "source": [
    "### Ejercicio 1\n",
    "\n",
    "Hacer un código que le diga al computador que devuelva el texto:\n",
    "*****\n",
    ">*Sólo sé ...*  \n",
    "*... que nada sé.*\n",
    " ***"
   ]
  },
  {
   "cell_type": "code",
   "execution_count": 3,
   "metadata": {
    "colab": {},
    "colab_type": "code",
    "id": "CVnwiYj8JZY-",
    "scrolled": true
   },
   "outputs": [
    {
     "name": "stdout",
     "output_type": "stream",
     "text": [
      "Sólo sé ... \n",
      "...que nada sé\n"
     ]
    }
   ],
   "source": [
    "print(\"Sólo sé ... \\n...que nada sé\")"
   ]
  },
  {
   "cell_type": "code",
   "execution_count": 6,
   "metadata": {},
   "outputs": [
    {
     "name": "stdout",
     "output_type": "stream",
     "text": [
      "Las rosas son rojas,\n",
      "El cielo es azul, \n",
      "y todavía no se hacer poemas.\n"
     ]
    }
   ],
   "source": [
    "print(\"Las rosas son rojas,\\nEl cielo es azul, \\ny todavía no se hacer poemas.\")"
   ]
  },
  {
   "cell_type": "markdown",
   "metadata": {
    "colab_type": "text",
    "id": "qAqnr4i70sLy"
   },
   "source": [
    "## Indentación en Python y un ejemplo básico de programación estructurada: *el condicional*"
   ]
  },
  {
   "cell_type": "markdown",
   "metadata": {
    "colab_type": "text",
    "id": "oMyFFHSjlj9J"
   },
   "source": [
    "En este pequeño módulo explicaremos el funcionamiento de un condicional `si *** entonces ***` y la importancia de la identación en **Python**.\n",
    "\n",
    "### Condicionales\n",
    "\n",
    "Un condicional es una sentencia lógica que retorna un valor deacuerdo al valor preliminar obtenido de una regla o condición. El ejemplo más sencillo corresponde a las expresiones de la forma `si *** entonces ***` que definen una regla que retornará su valor según la condición después del si, por ejemplo:\n",
    "\n",
    "**Si** *me saco más de 3.0* **entonces** *paso la materia*. \n",
    "\n",
    "> En este caso, si saco 2.5 pierdo; pero si saco 3.3 paso.\n",
    " El resultado según este condicional depende de la nota obtenida.\n",
    "\n",
    "Un diagrama que expresa el funcionamiento de esta regla lógica es: \n",
    "\n",
    "![diagramadeflujo-condicional](https://desarrolloweb.com/articulos/images/algoritmos/ordinograma_si_doble.gif)\n",
    "\n",
    "*Tomado de: [Desarrollo Web - Estructuras condicionales (https://desarrolloweb.com/articulos/2225.php)](https://desarrolloweb.com/articulos/2225.php)\n",
    "\n",
    "### Identación \n",
    "Indentar significa **mover un bloque de texto hacia la derecha**, dejando una serie de espacios o un tabulador para distinguirlo del texto alineado a la izquierda. **Indentar** es un anglicismo, realmente se debería decir **sangrado** o aplicar **sangría**.\n",
    "\n",
    "Por ejemplo:\n",
    "\n",
    "> Este texto está indentado (sangrado).\n",
    "\n",
    "En **Python**, la identación es muy importante, pues indica un **Bloque de código** bajo un operador lógico.\n",
    "\n"
   ]
  },
  {
   "cell_type": "markdown",
   "metadata": {
    "colab_type": "text",
    "id": "OqFH478Xza5l"
   },
   "source": [
    "### Ejemplo: Condicionales en Python\n",
    "\n",
    "Para escribir un condicional en Python usamos la siguiente estructura, debemos tener cuidado con los dos putnos y los espacios que usamos para indentar:\n",
    "\n",
    "```\n",
    "if **(la condición a validar)**:\n",
    "   (al menos un espacio) **El resultado si la condición es verdadera**  \n",
    "```\n",
    "Por ejemplo:"
   ]
  },
  {
   "cell_type": "code",
   "execution_count": 11,
   "metadata": {
    "colab": {
     "base_uri": "https://localhost:8080/",
     "height": 34
    },
    "colab_type": "code",
    "executionInfo": {
     "elapsed": 512,
     "status": "ok",
     "timestamp": 1566879211321,
     "user": {
      "displayName": "Daniel Montenegro",
      "photoUrl": "",
      "userId": "07275166318289302366"
     },
     "user_tz": 300
    },
    "id": "ie3nUgSszhve",
    "outputId": "6eaf1553-81bc-4f9d-c9ae-cb40fbce727d"
   },
   "outputs": [],
   "source": [
    "if 1>3:\n",
    "    print(\"Five is greater than Three\")"
   ]
  },
  {
   "cell_type": "markdown",
   "metadata": {
    "colab_type": "text",
    "id": "Xvt2xJKPzudT"
   },
   "source": [
    "**Sin la indentación**, el código produce un **error**:"
   ]
  },
  {
   "cell_type": "code",
   "execution_count": 14,
   "metadata": {
    "colab": {
     "base_uri": "https://localhost:8080/",
     "height": 150
    },
    "colab_type": "code",
    "executionInfo": {
     "elapsed": 534,
     "status": "error",
     "timestamp": 1566879215541,
     "user": {
      "displayName": "Daniel Montenegro",
      "photoUrl": "",
      "userId": "07275166318289302366"
     },
     "user_tz": 300
    },
    "id": "Q6UM2ujoztla",
    "outputId": "a783c474-6221-49e2-9c30-bf0143184a5e"
   },
   "outputs": [
    {
     "ename": "IndentationError",
     "evalue": "expected an indented block (<ipython-input-14-6f06bd29686c>, line 2)",
     "output_type": "error",
     "traceback": [
      "\u001b[0;36m  File \u001b[0;32m\"<ipython-input-14-6f06bd29686c>\"\u001b[0;36m, line \u001b[0;32m2\u001b[0m\n\u001b[0;31m    print(\"Five is greater than Three\");\u001b[0m\n\u001b[0m    ^\u001b[0m\n\u001b[0;31mIndentationError\u001b[0m\u001b[0;31m:\u001b[0m expected an indented block\n"
     ]
    }
   ],
   "source": [
    "if 5>3:\n",
    "print(\"Five is greater than Three\");\n"
   ]
  },
  {
   "cell_type": "markdown",
   "metadata": {
    "colab_type": "text",
    "id": "h_FUae2V1Dfu"
   },
   "source": [
    "No importa cuántos espacios en blanco se dejen, siempre y cuando sea **al menos uno**:"
   ]
  },
  {
   "cell_type": "code",
   "execution_count": 15,
   "metadata": {
    "colab": {
     "base_uri": "https://localhost:8080/",
     "height": 51
    },
    "colab_type": "code",
    "executionInfo": {
     "elapsed": 551,
     "status": "ok",
     "timestamp": 1566879221584,
     "user": {
      "displayName": "Daniel Montenegro",
      "photoUrl": "",
      "userId": "07275166318289302366"
     },
     "user_tz": 300
    },
    "id": "8shIg71S1KOI",
    "outputId": "69eea6a9-9579-4866-fb22-cd0c4e47e577"
   },
   "outputs": [
    {
     "name": "stdout",
     "output_type": "stream",
     "text": [
      "Five is greater than Three\n",
      "Five is greater than Three\n"
     ]
    }
   ],
   "source": [
    "if 5 > 3:\n",
    " print(\"Five is greater than Three\")  \n",
    "if 5 > 3:\n",
    "        print(\"Five is greater than Three\")"
   ]
  },
  {
   "cell_type": "markdown",
   "metadata": {},
   "source": [
    "Si la condición no se satisface entonces no se hace nada:"
   ]
  },
  {
   "cell_type": "code",
   "execution_count": 16,
   "metadata": {},
   "outputs": [],
   "source": [
    "if 2 > 3:\n",
    "        print(\"Two is greater than Three\")"
   ]
  },
  {
   "cell_type": "markdown",
   "metadata": {},
   "source": [
    "## Intermedio: Las expresiones booleanas\n",
    "\n",
    "En el anterior ejemplo, después del ` if `  escribimos una condición que podía ser falsa o verdadera, este tipo de expresiones en Python se conocen como expresiones booleanas y el resultado al ejeciutar este tipo de expresiones es **Falso** o **Verdadero**."
   ]
  },
  {
   "cell_type": "code",
   "execution_count": 18,
   "metadata": {},
   "outputs": [
    {
     "data": {
      "text/plain": [
       "True"
      ]
     },
     "execution_count": 18,
     "metadata": {},
     "output_type": "execute_result"
    }
   ],
   "source": [
    "True #Una expresión directa de un valor booleano"
   ]
  },
  {
   "cell_type": "code",
   "execution_count": 20,
   "metadata": {},
   "outputs": [
    {
     "data": {
      "text/plain": [
       "True"
      ]
     },
     "execution_count": 20,
     "metadata": {},
     "output_type": "execute_result"
    }
   ],
   "source": [
    "5>3 #Usando números"
   ]
  },
  {
   "cell_type": "code",
   "execution_count": 21,
   "metadata": {},
   "outputs": [
    {
     "data": {
      "text/plain": [
       "False"
      ]
     },
     "execution_count": 21,
     "metadata": {},
     "output_type": "execute_result"
    }
   ],
   "source": [
    "4<4"
   ]
  },
  {
   "cell_type": "code",
   "execution_count": 67,
   "metadata": {},
   "outputs": [
    {
     "data": {
      "text/plain": [
       "False"
      ]
     },
     "execution_count": 67,
     "metadata": {},
     "output_type": "execute_result"
    }
   ],
   "source": [
    "5!=5 ##  Pregunta si dos valores son distintos"
   ]
  },
  {
   "cell_type": "code",
   "execution_count": 68,
   "metadata": {},
   "outputs": [
    {
     "data": {
      "text/plain": [
       "True"
      ]
     },
     "execution_count": 68,
     "metadata": {},
     "output_type": "execute_result"
    }
   ],
   "source": [
    "4!=5"
   ]
  },
  {
   "cell_type": "code",
   "execution_count": 71,
   "metadata": {},
   "outputs": [
    {
     "data": {
      "text/plain": [
       "True"
      ]
     },
     "execution_count": 71,
     "metadata": {},
     "output_type": "execute_result"
    }
   ],
   "source": [
    "3==3 ##  Pregunta si dos valores son iguales"
   ]
  },
  {
   "cell_type": "code",
   "execution_count": 70,
   "metadata": {},
   "outputs": [
    {
     "data": {
      "text/plain": [
       "False"
      ]
     },
     "execution_count": 70,
     "metadata": {},
     "output_type": "execute_result"
    }
   ],
   "source": [
    "4==3"
   ]
  },
  {
   "cell_type": "markdown",
   "metadata": {},
   "source": [
    "## If - Else\n",
    "A no ser que definamos un resultado para cuando no se satisfaga la condición, usamos `else`, nuevamente observe el uso de los dos puntos y el nivel de identación de `if` y `else`:\n",
    "\n",
    "```\n",
    "if **(la condición a validar)**:\n",
    "   (al menos un espacio) **El resultado si la condición es verdadera**  \n",
    "else:\n",
    "    (al menos un espacio) **El resultado si la condición es falsa**  \n",
    "```\n",
    "\n",
    "**Ejemplo:**"
   ]
  },
  {
   "cell_type": "code",
   "execution_count": 22,
   "metadata": {},
   "outputs": [
    {
     "name": "stdout",
     "output_type": "stream",
     "text": [
      "Two is smaller than Three\n"
     ]
    }
   ],
   "source": [
    "if 2 > 3:\n",
    "    print(\"Two is greater than Three\")\n",
    "else:\n",
    "    print(\"Two is smaller than Three\")"
   ]
  },
  {
   "cell_type": "code",
   "execution_count": 26,
   "metadata": {},
   "outputs": [
    {
     "name": "stdin",
     "output_type": "stream",
     "text": [
      "Numero de cedula:  87654321\n"
     ]
    }
   ],
   "source": [
    "X=input(\"Numero de cedula: \") ## input permite que el usuario ingrese valores en la consola"
   ]
  },
  {
   "cell_type": "code",
   "execution_count": 28,
   "metadata": {},
   "outputs": [
    {
     "data": {
      "text/plain": [
       "'87654321'"
      ]
     },
     "execution_count": 28,
     "metadata": {},
     "output_type": "execute_result"
    }
   ],
   "source": [
    "X ## Es una letra que aloja el valor guardado hace un momento (variable)"
   ]
  },
  {
   "cell_type": "markdown",
   "metadata": {},
   "source": [
    "> Observe que el input guardo el número entre comillas, esto significa que lo considera como texto, la función `int ()` permitirá que lo lea como un número entero:"
   ]
  },
  {
   "cell_type": "code",
   "execution_count": 29,
   "metadata": {},
   "outputs": [
    {
     "data": {
      "text/plain": [
       "87654321"
      ]
     },
     "execution_count": 29,
     "metadata": {},
     "output_type": "execute_result"
    }
   ],
   "source": [
    "int(X)"
   ]
  },
  {
   "cell_type": "code",
   "execution_count": 30,
   "metadata": {},
   "outputs": [
    {
     "ename": "TypeError",
     "evalue": "can only concatenate str (not \"int\") to str",
     "output_type": "error",
     "traceback": [
      "\u001b[0;31m---------------------------------------------------------------------------\u001b[0m",
      "\u001b[0;31mTypeError\u001b[0m                                 Traceback (most recent call last)",
      "\u001b[0;32m<ipython-input-30-2a7c1417ad0d>\u001b[0m in \u001b[0;36m<module>\u001b[0;34m\u001b[0m\n\u001b[0;32m----> 1\u001b[0;31m \u001b[0mX\u001b[0m\u001b[0;34m+\u001b[0m\u001b[0;36m1\u001b[0m\u001b[0;34m\u001b[0m\u001b[0;34m\u001b[0m\u001b[0m\n\u001b[0m",
      "\u001b[0;31mTypeError\u001b[0m: can only concatenate str (not \"int\") to str"
     ]
    }
   ],
   "source": [
    "X+1 #Aquí tenemos errores porque X es texto y 1 es un número entero"
   ]
  },
  {
   "cell_type": "code",
   "execution_count": 32,
   "metadata": {},
   "outputs": [
    {
     "data": {
      "text/plain": [
       "87654322"
      ]
     },
     "execution_count": 32,
     "metadata": {},
     "output_type": "execute_result"
    }
   ],
   "source": [
    "int(X)+1 #Aquí no tenemos problemas porque int convierte mi texto en número entero"
   ]
  },
  {
   "cell_type": "markdown",
   "metadata": {
    "colab_type": "text",
    "id": "IUFSujLR2-Rl"
   },
   "source": [
    "# Variables en Python"
   ]
  },
  {
   "cell_type": "markdown",
   "metadata": {
    "colab_type": "text",
    "id": "ivDxEY5J3EXW"
   },
   "source": [
    "## Variables Locales:\n",
    "\n",
    "Una variable sirve para **guardar un valor específico**, ya sea **numérico**, **texto** u otro [**Tipo de Dato**](https://www.w3schools.com/python/python_datatypes.asp) con el nombre con la que se nombre dicha variable:"
   ]
  },
  {
   "cell_type": "code",
   "execution_count": 33,
   "metadata": {
    "colab": {
     "base_uri": "https://localhost:8080/",
     "height": 71
    },
    "colab_type": "code",
    "executionInfo": {
     "elapsed": 543,
     "status": "ok",
     "timestamp": 1566879286697,
     "user": {
      "displayName": "Daniel Montenegro",
      "photoUrl": "",
      "userId": "07275166318289302366"
     },
     "user_tz": 300
    },
    "id": "XlBRuUAD3ud4",
    "outputId": "01f6e84c-790b-4e3a-c26f-c7fd9be950b6"
   },
   "outputs": [
    {
     "name": "stdout",
     "output_type": "stream",
     "text": [
      "El valor de la variable x es  1\n",
      "El valor de la variable y es I'm ready to code!\n"
     ]
    }
   ],
   "source": [
    "# Asignamos 1 a la variable x\n",
    "\n",
    "x=1;\n",
    "\n",
    "print(\"El valor de la variable x es \",x);\n",
    "\n",
    "# Asignamos \"I'm ready to code!\" a la variable y\n",
    "\n",
    "y=\"I'm ready to code!\";\n",
    "\n",
    "print(\"El valor de la variable y es\",y);"
   ]
  },
  {
   "cell_type": "code",
   "execution_count": 38,
   "metadata": {},
   "outputs": [
    {
     "data": {
      "text/plain": [
       "'87654321'"
      ]
     },
     "execution_count": 38,
     "metadata": {},
     "output_type": "execute_result"
    }
   ],
   "source": [
    "X"
   ]
  },
  {
   "cell_type": "markdown",
   "metadata": {
    "colab_type": "text",
    "id": "6YvlIG-G6o2Z"
   },
   "source": [
    "## Reglas de Creación de Variables:\n",
    "\n",
    "* El nombre de una variable **debe comenzar** con una letra ó con _ .\n",
    "\n",
    "* El nombre de una variable **no puede comenzar** con un número.\n",
    "\n",
    "* El nombre de una variable **sólo puede contener** carácteres alfa-numéricos.\n",
    "\n",
    "* El nombre de una variable tiene **sensibilidad** a **mayúsculas** y **minúsculas** (x es diferente de X)."
   ]
  },
  {
   "cell_type": "markdown",
   "metadata": {
    "colab_type": "text",
    "id": "g0XQW90S5bCj"
   },
   "source": [
    "### Ejercicio 2\n",
    "\n",
    "Hacer un código que le diga al computador que devuelva los textos **Tengo** *my_age* **años**, donde *my_age* es una variable que tenga asignada su edad.\n",
    "\n"
   ]
  },
  {
   "cell_type": "code",
   "execution_count": 39,
   "metadata": {},
   "outputs": [
    {
     "name": "stdin",
     "output_type": "stream",
     "text": [
      "Escriba su edad: 31\n"
     ]
    },
    {
     "name": "stdout",
     "output_type": "stream",
     "text": [
      "Tengo 31 años\n"
     ]
    }
   ],
   "source": [
    "my_age=input(\"Escriba su edad:\")\n",
    "print(\"Tengo\", my_age,\"años\")"
   ]
  },
  {
   "cell_type": "code",
   "execution_count": 40,
   "metadata": {
    "colab": {},
    "colab_type": "code",
    "id": "yFtzd3Ok57ul"
   },
   "outputs": [
    {
     "name": "stdout",
     "output_type": "stream",
     "text": [
      "Tengo 25 años\n"
     ]
    }
   ],
   "source": [
    "my_age=25\n",
    "print(\"Tengo\",my_age, \"años\")"
   ]
  },
  {
   "cell_type": "code",
   "execution_count": 45,
   "metadata": {
    "scrolled": true
   },
   "outputs": [
    {
     "name": "stdin",
     "output_type": "stream",
     "text": [
      "Escriba su edad: 31\n"
     ]
    },
    {
     "name": "stdout",
     "output_type": "stream",
     "text": [
      "Hoy tengo 31.0 años y en 2022 tendré 32.0\n"
     ]
    }
   ],
   "source": [
    "my_age=input(\"Escriba su edad:\")\n",
    "my_age=float(my_age)\n",
    "print(\"Hoy tengo\", my_age,\"años y en 2022 tendré\", my_age+1)"
   ]
  },
  {
   "cell_type": "markdown",
   "metadata": {},
   "source": [
    "## Mi calculadora de IVA\n",
    "\n",
    "A partir del valor total de compra se calcula el iva y el valor del artículo sin iva:"
   ]
  },
  {
   "cell_type": "code",
   "execution_count": 46,
   "metadata": {},
   "outputs": [
    {
     "name": "stdin",
     "output_type": "stream",
     "text": [
      "Escriba el valor de la compra sin IVA:  5200000\n"
     ]
    },
    {
     "name": "stdout",
     "output_type": "stream",
     "text": [
      "El total de la compra sería 6188000.0\n"
     ]
    }
   ],
   "source": [
    "Compra= input (\"Escriba el valor de la compra sin IVA: \") \n",
    "Compra= float(Compra) \n",
    "print (\"El total de la compra sería\" , Compra*(1.19)) "
   ]
  },
  {
   "cell_type": "markdown",
   "metadata": {},
   "source": [
    "### Ejemplo\n",
    "\n",
    "El siguiente código calcula la longitud del nombre y escribe una frase acorde a la longitud. Observe que en el comando `print()` , `sep=` es un parámetro que separa los valores ingresados dentro de la función print. Como vemos, escribimos `N='Su_nombre'` eso asigna a la letra N el texto *Tu_nombre*. Cambie  `Su_nombre` por su verdadero nombre y explique  como funciona el código."
   ]
  },
  {
   "cell_type": "code",
   "execution_count": 47,
   "metadata": {},
   "outputs": [
    {
     "data": {
      "text/plain": [
       "4"
      ]
     },
     "execution_count": 47,
     "metadata": {},
     "output_type": "execute_result"
    }
   ],
   "source": [
    "len('Hola')"
   ]
  },
  {
   "cell_type": "code",
   "execution_count": 51,
   "metadata": {},
   "outputs": [
    {
     "name": "stdout",
     "output_type": "stream",
     "text": [
      "Isaac es un nombre muy largo\n"
     ]
    }
   ],
   "source": [
    "N='Isaac'# cambiar 'Su_nombre' por su verdadero nombre\n",
    "if len(N)>4:\n",
    "    A=\"es un nombre muy largo\"\n",
    "else:\n",
    "    A=\"es un nombre muy corto\"\n",
    "\n",
    "print(N,A,sep=\" \")\n"
   ]
  },
  {
   "cell_type": "markdown",
   "metadata": {},
   "source": [
    "Permitamos que el usuario ingrese el nombre con el comando `input()`"
   ]
  },
  {
   "cell_type": "code",
   "execution_count": 54,
   "metadata": {},
   "outputs": [
    {
     "name": "stdin",
     "output_type": "stream",
     "text": [
      "Su_nombre_completo:  Isaac\n"
     ]
    },
    {
     "name": "stdout",
     "output_type": "stream",
     "text": [
      "Isaac es un nombre muy corto\n"
     ]
    }
   ],
   "source": [
    "N=input('Su_nombre_completo: ') \n",
    "if len(N)>10:\n",
    "    A=\"es un nombre muy largo\"\n",
    "else:\n",
    "    A=\"es un nombre muy corto\"\n",
    "\n",
    "print(N,A,sep=\" \")"
   ]
  },
  {
   "cell_type": "code",
   "execution_count": 55,
   "metadata": {},
   "outputs": [
    {
     "name": "stdin",
     "output_type": "stream",
     "text": [
      "Su_nombre_completo:  Isaac\n"
     ]
    },
    {
     "name": "stdout",
     "output_type": "stream",
     "text": [
      "Isaac         es un nombre muy corto\n"
     ]
    }
   ],
   "source": [
    "N=input('Su_nombre_completo: ') \n",
    "if len(N)>10:\n",
    "    A=\"es un nombre muy largo\"\n",
    "else:\n",
    "    A=\"es un nombre muy corto\"\n",
    "\n",
    "print(N,A,sep=\"         \")"
   ]
  },
  {
   "cell_type": "code",
   "execution_count": 65,
   "metadata": {},
   "outputs": [
    {
     "data": {
      "text/plain": [
       "3.3333333333333335"
      ]
     },
     "execution_count": 65,
     "metadata": {},
     "output_type": "execute_result"
    }
   ],
   "source": [
    "20/6"
   ]
  },
  {
   "cell_type": "code",
   "execution_count": 75,
   "metadata": {},
   "outputs": [
    {
     "name": "stdin",
     "output_type": "stream",
     "text": [
      "Número de Cédula:  1231\n",
      "Día 1\n"
     ]
    },
    {
     "name": "stdout",
     "output_type": "stream",
     "text": [
      "Estimado usuario con cédula 1231  El día de hoy,  1\n",
      "NO PUEDE SALIR\n"
     ]
    }
   ],
   "source": [
    "Ced=input(\"Número de Cédula: \")\n",
    "Dia=input(\"Día\")\n",
    "\n",
    "if (int(Ced)+int(Dia))%2==0:\n",
    "    A=\"NO PUEDE SALIR\"\n",
    "else:\n",
    "    A=\"SÍ PUEDE SALIR\"\n",
    "    \n",
    "print(\"Estimado usuario con cédula\",Ced,\" El día de hoy, \",Dia)\n",
    "print(A)"
   ]
  },
  {
   "cell_type": "markdown",
   "metadata": {
    "colab_type": "text",
    "id": "jsYP__7Q7y6j"
   },
   "source": [
    "## Múltiples Asignaciones:\n",
    "\n",
    "Es posible asignar valores a diferentes variables en una línea de código:"
   ]
  },
  {
   "cell_type": "code",
   "execution_count": null,
   "metadata": {
    "colab": {
     "base_uri": "https://localhost:8080/",
     "height": 102
    },
    "colab_type": "code",
    "executionInfo": {
     "elapsed": 562,
     "status": "ok",
     "timestamp": 1566879321018,
     "user": {
      "displayName": "Daniel Montenegro",
      "photoUrl": "",
      "userId": "07275166318289302366"
     },
     "user_tz": 300
    },
    "id": "dgS8D9paFG3g",
    "outputId": "af6a422e-fde8-4391-ddec-e9cac420b3cc"
   },
   "outputs": [],
   "source": [
    "# Asignación múltiple\n",
    "\n",
    "w, x, y, z = \"Apple\", \"Watermelon\", \"Grape\", 28;\n",
    "\n",
    "print(w);\n",
    "print(x);\n",
    "print(y);\n",
    "print(z);\n",
    "print(w,x,y,z+2,sep=\", \");"
   ]
  },
  {
   "cell_type": "code",
   "execution_count": null,
   "metadata": {},
   "outputs": [],
   "source": [
    "x=complex(2,4)"
   ]
  },
  {
   "cell_type": "markdown",
   "metadata": {},
   "source": [
    "`type()` es un comando que nos permite determinar el tipo de variable a la que hacemos referencia."
   ]
  },
  {
   "cell_type": "code",
   "execution_count": null,
   "metadata": {},
   "outputs": [],
   "source": [
    "type(w)"
   ]
  },
  {
   "cell_type": "markdown",
   "metadata": {
    "colab_type": "text",
    "id": "pgpUA2p5GXf2"
   },
   "source": [
    "También es posible asignar un **mismo valor** a diferentes variables:"
   ]
  },
  {
   "cell_type": "code",
   "execution_count": null,
   "metadata": {
    "colab": {
     "base_uri": "https://localhost:8080/",
     "height": 68
    },
    "colab_type": "code",
    "executionInfo": {
     "elapsed": 545,
     "status": "ok",
     "timestamp": 1566879335814,
     "user": {
      "displayName": "Daniel Montenegro",
      "photoUrl": "",
      "userId": "07275166318289302366"
     },
     "user_tz": 300
    },
    "id": "uLVD53UgGXEr",
    "outputId": "2bca046b-b077-41c0-a5a6-eb6b74a00e74"
   },
   "outputs": [],
   "source": [
    "# Asignación múltiple del mismo valor\n",
    "\n",
    "x1 = x2 = x3 = 0.5;\n",
    "print('x1 =',x1);\n",
    "print('x2 =',x2);\n",
    "print('x3 =',x3);\n",
    "x2=0.4\n",
    "print('x1 =',x1);\n",
    "print('x2 =',x2);\n",
    "print('x3 =',x3);"
   ]
  },
  {
   "cell_type": "markdown",
   "metadata": {},
   "source": [
    "Cuidado con las variables no asignadas. Generan error:"
   ]
  },
  {
   "cell_type": "code",
   "execution_count": null,
   "metadata": {},
   "outputs": [],
   "source": [
    "n # Variable sin asignar"
   ]
  },
  {
   "cell_type": "markdown",
   "metadata": {
    "colab_type": "text",
    "id": "4y3X0kbfHXzW"
   },
   "source": [
    "## Suma de Variables\n",
    "\n",
    "Python es tan sencillo e intutivo, que es posible sumar diferentes variables y sumarlas con el símbolo **+**. Cuando las variables son numéricas, se **suman matemáticamente** y cuando es texto se **concatenan**."
   ]
  },
  {
   "cell_type": "code",
   "execution_count": null,
   "metadata": {
    "colab": {
     "base_uri": "https://localhost:8080/",
     "height": 68
    },
    "colab_type": "code",
    "executionInfo": {
     "elapsed": 533,
     "status": "ok",
     "timestamp": 1566879353852,
     "user": {
      "displayName": "Daniel Montenegro",
      "photoUrl": "",
      "userId": "07275166318289302366"
     },
     "user_tz": 300
    },
    "id": "nMPQKB2jHxuk",
    "outputId": "0e31e345-8858-4df2-a144-434d2fe0d2c2"
   },
   "outputs": [],
   "source": [
    "# Sumar dos textos\n",
    "\n",
    "x = \"Python is \";\n",
    "y = \"awesome\";\n",
    "z =  x + y;\n",
    "print(z);\n",
    "\n",
    "# Sumar dos números\n",
    "\n",
    "n1 = 1;\n",
    "n2 = 5;\n",
    "suma = n1 +n2;\n",
    "print(suma);\n",
    "\n",
    "# Escribir texto y números\n",
    "\n",
    "print(x+\"the number\",n1);"
   ]
  },
  {
   "cell_type": "markdown",
   "metadata": {},
   "source": [
    "En el apartado anterior es claro que usamos dos tipos de variables unas textuales y otras numéricas, profundicemos en estos temas.\n",
    "\n",
    "# Numeros\n",
    "\n",
    "Respecto a los números en Python tenemos tres tipos de datos: los enteros (*int*), los números con parte fraccionaria (*float*) y los complejos (*complex*). La fortuna de que Python reconozca variables numéricas nos permite usarla como una calculadora simple, podemos ejecutar operaciones muy sencillas teniendo en cuenta la siguiente tabla:\n",
    "\n",
    "| **Operador** | **Descripción** |\n",
    "| :---: | :---: |\n",
    "|`+`|Suma|\n",
    "|`-`|Resta|\n",
    "|`*`|Multiplicación|\n",
    "|`/`|División|\n",
    "|`**`|Potencia|\n"
   ]
  },
  {
   "cell_type": "markdown",
   "metadata": {},
   "source": [
    "### Ejemplo 2\n",
    " Si queremos operar:\n",
    " \n",
    " $$ 5\\times(3-5)^2-\\cfrac{6}{(9)^{1/2}}$$\n",
    " \n",
    " tenemos que escribir:"
   ]
  },
  {
   "cell_type": "code",
   "execution_count": null,
   "metadata": {},
   "outputs": [],
   "source": [
    "5*(3-5)**2-(6)/(9**(1/2))"
   ]
  },
  {
   "cell_type": "markdown",
   "metadata": {},
   "source": [
    "*Recuerde oprimir [Shift]+[Enter]* "
   ]
  },
  {
   "cell_type": "markdown",
   "metadata": {},
   "source": [
    "### Ejercicio 4\n",
    "Es muy importante usar bien los paréntesis, el uso o desuso puede generar problemas graves en las cuentas, encuentre el error y describa lo que hizo la máquina en los siguientes casos respecto a la operación anterior:"
   ]
  },
  {
   "cell_type": "code",
   "execution_count": null,
   "metadata": {},
   "outputs": [],
   "source": [
    "5*3-5**2-(6)/(9**(1/2))"
   ]
  },
  {
   "cell_type": "code",
   "execution_count": null,
   "metadata": {},
   "outputs": [],
   "source": [
    "5*(3-5)**2-6/(9**1/2)"
   ]
  },
  {
   "cell_type": "code",
   "execution_count": null,
   "metadata": {},
   "outputs": [],
   "source": [
    "5*(3-5)**2-6/9**1/2"
   ]
  },
  {
   "cell_type": "code",
   "execution_count": null,
   "metadata": {},
   "outputs": [],
   "source": [
    "5*3-5**2-6/9**1/2"
   ]
  },
  {
   "cell_type": "markdown",
   "metadata": {},
   "source": [
    "La división es una operación bien especial pues la mayoría de ocasiones produce un número con parte fraccionaria. Sin embargo, cuando estabamos pequeños nos enseñaron a dividir enteros dando como respuesta un entero llamado cociente y lo que hacia falta para completar la división, un número llamado residuo. En Python podemos calcular esos valores con `//` para el cociente y `%`para el residuo. Por ejemplo, sabemos que:\n",
    "\n",
    "$$ 20 \\div 3 = 6 \\ \\ \\ \\text{ con residuo } 2$$\n",
    "tenemos:"
   ]
  },
  {
   "cell_type": "code",
   "execution_count": null,
   "metadata": {},
   "outputs": [],
   "source": [
    "20//3"
   ]
  },
  {
   "cell_type": "code",
   "execution_count": null,
   "metadata": {},
   "outputs": [],
   "source": [
    "20%3"
   ]
  },
  {
   "cell_type": "markdown",
   "metadata": {},
   "source": [
    "Python Tambien reconoce los números complejos. El valor imaginario se lo asigna a la letra `j`"
   ]
  },
  {
   "cell_type": "code",
   "execution_count": null,
   "metadata": {},
   "outputs": [],
   "source": [
    "3+(-4)**(1/2) # Recordemos un poquito de nuestras matemáticas"
   ]
  },
  {
   "cell_type": "markdown",
   "metadata": {},
   "source": [
    "Finalmente, una función elemental y util para el tratamiento de números decimales es `round`. Lo usamos para redodendear los valores a uno con el decimal que escojamos. Tenemos:"
   ]
  },
  {
   "cell_type": "code",
   "execution_count": null,
   "metadata": {},
   "outputs": [],
   "source": [
    "n1=47/3\n",
    "n1"
   ]
  },
  {
   "cell_type": "code",
   "execution_count": null,
   "metadata": {},
   "outputs": [],
   "source": [
    "n2=round(n1)\n",
    "n2"
   ]
  },
  {
   "cell_type": "code",
   "execution_count": null,
   "metadata": {},
   "outputs": [],
   "source": [
    "n3=round(n1,3)\n",
    "n3"
   ]
  },
  {
   "cell_type": "code",
   "execution_count": null,
   "metadata": {},
   "outputs": [],
   "source": [
    "?"
   ]
  },
  {
   "cell_type": "markdown",
   "metadata": {},
   "source": [
    "## Textos\n",
    "\n",
    "Los textos son expresiones que representan una cadena de caracteres, utiles para escribir mensajes y combinarlos con valores que generemos en nuestros procesamientos. Para escribi un texto en Python usamos comillas simples: `'...'` o comillas dobles: `\"...\"`. Combinamos comillas para poner comillas adentro:"
   ]
  },
  {
   "cell_type": "code",
   "execution_count": null,
   "metadata": {},
   "outputs": [],
   "source": [
    "a='Texto simple escrito entre comillas simples'\n",
    "print(a)\n",
    "a"
   ]
  },
  {
   "cell_type": "code",
   "execution_count": null,
   "metadata": {},
   "outputs": [],
   "source": [
    "b=\"Texto simple escrito entre comillas dobles\"\n",
    "print(b)\n",
    "b"
   ]
  },
  {
   "cell_type": "code",
   "execution_count": null,
   "metadata": {},
   "outputs": [],
   "source": [
    "c='Texto simple escrito entre comillas simples que necesita \"adentrico\" comillas dobles'\n",
    "print(c)\n",
    "c"
   ]
  },
  {
   "cell_type": "code",
   "execution_count": null,
   "metadata": {},
   "outputs": [],
   "source": [
    "d=\"Texto simple escrito entre comillas dobles que necesita 'adentrico' comillas simples\"\n",
    "print(d)\n",
    "d"
   ]
  },
  {
   "cell_type": "markdown",
   "metadata": {},
   "source": [
    "Como vimos, la función print es la que nos permite imprimir estos mensajes. El texto \\n indica una nueva linea en el texto:"
   ]
  },
  {
   "cell_type": "code",
   "execution_count": null,
   "metadata": {},
   "outputs": [],
   "source": [
    "print(\"Una línea\\notra línea\")"
   ]
  },
  {
   "cell_type": "markdown",
   "metadata": {},
   "source": [
    "No obstante, a veces necesitamos escribir  \\n en un mensaje:"
   ]
  },
  {
   "cell_type": "code",
   "execution_count": null,
   "metadata": {},
   "outputs": [],
   "source": [
    "print('La ruta del archivo es C:\\nombres\\archivo.ipynb')"
   ]
  },
  {
   "cell_type": "markdown",
   "metadata": {},
   "source": [
    "En este caso la aparición de \\ daño el mensaje, para resolver el problema escribimos r antes:"
   ]
  },
  {
   "cell_type": "code",
   "execution_count": null,
   "metadata": {},
   "outputs": [],
   "source": [
    "print(r'La ruta del archivo es C:\\nombres\\archivo.ipynb')"
   ]
  },
  {
   "cell_type": "markdown",
   "metadata": {},
   "source": [
    "Finalmente, podemos recorrer los valores de la cadena de texto de la siguiente forma:"
   ]
  },
  {
   "cell_type": "code",
   "execution_count": null,
   "metadata": {},
   "outputs": [],
   "source": [
    "texto=\"cuidado con el orden\""
   ]
  },
  {
   "cell_type": "code",
   "execution_count": null,
   "metadata": {},
   "outputs": [],
   "source": [
    "texto[7]"
   ]
  },
  {
   "cell_type": "code",
   "execution_count": null,
   "metadata": {},
   "outputs": [],
   "source": [
    "texto[10]"
   ]
  },
  {
   "cell_type": "code",
   "execution_count": null,
   "metadata": {},
   "outputs": [],
   "source": [
    "texto[0:5]"
   ]
  },
  {
   "cell_type": "code",
   "execution_count": null,
   "metadata": {},
   "outputs": [],
   "source": [
    "texto[5:9]"
   ]
  },
  {
   "cell_type": "code",
   "execution_count": null,
   "metadata": {},
   "outputs": [],
   "source": [
    "texto[-1]"
   ]
  },
  {
   "cell_type": "code",
   "execution_count": null,
   "metadata": {},
   "outputs": [],
   "source": [
    "texto[-3:]"
   ]
  },
  {
   "cell_type": "code",
   "execution_count": null,
   "metadata": {},
   "outputs": [],
   "source": [
    "list(texto)"
   ]
  },
  {
   "cell_type": "code",
   "execution_count": null,
   "metadata": {},
   "outputs": [],
   "source": [
    "texto.split()"
   ]
  },
  {
   "cell_type": "code",
   "execution_count": null,
   "metadata": {},
   "outputs": [],
   "source": []
  },
  {
   "cell_type": "markdown",
   "metadata": {},
   "source": [
    "## Listas \n",
    "\n",
    "Tambien podemos crear listas y arreglos en Python usando `[ ... ]`, los elementos de la lista se separan por comas.  "
   ]
  },
  {
   "cell_type": "code",
   "execution_count": null,
   "metadata": {},
   "outputs": [],
   "source": [
    "primos=[2,3,5,7,11,13,17,19]"
   ]
  },
  {
   "cell_type": "code",
   "execution_count": null,
   "metadata": {},
   "outputs": [],
   "source": [
    "len(primos)"
   ]
  },
  {
   "cell_type": "markdown",
   "metadata": {},
   "source": [
    "Igual que las cadenas de texto se pueden explorar los elementos usando `nombredelalista[pos] `, donde pos es la posición del elemento. "
   ]
  },
  {
   "cell_type": "code",
   "execution_count": null,
   "metadata": {},
   "outputs": [],
   "source": [
    "primos[0] #0 siempre denota al primer elemento"
   ]
  },
  {
   "cell_type": "code",
   "execution_count": null,
   "metadata": {},
   "outputs": [],
   "source": [
    "primos [-6]"
   ]
  },
  {
   "cell_type": "code",
   "execution_count": null,
   "metadata": {},
   "outputs": [],
   "source": [
    "primos[8]"
   ]
  },
  {
   "cell_type": "markdown",
   "metadata": {},
   "source": [
    "se pueden adicionar elementos a la lista con la función `nombredelalista.append() `"
   ]
  },
  {
   "cell_type": "code",
   "execution_count": null,
   "metadata": {},
   "outputs": [],
   "source": [
    "type(primos)"
   ]
  },
  {
   "cell_type": "code",
   "execution_count": null,
   "metadata": {},
   "outputs": [],
   "source": [
    "print(\"Antes: \", primos)\n",
    "primos.append(23)\n",
    "print(\"Después: \", primos)"
   ]
  },
  {
   "cell_type": "markdown",
   "metadata": {},
   "source": [
    "Así mismo, los elemento se pueden modificar:\n"
   ]
  },
  {
   "cell_type": "code",
   "execution_count": null,
   "metadata": {},
   "outputs": [],
   "source": [
    "print(\"Antes: \",primos)\n",
    "primos[0]=1\n",
    "print(\"Después: \",primos)"
   ]
  },
  {
   "cell_type": "markdown",
   "metadata": {},
   "source": [
    "o eliminar:"
   ]
  },
  {
   "cell_type": "code",
   "execution_count": null,
   "metadata": {},
   "outputs": [],
   "source": [
    "print(\"Antes: \",primos)\n",
    "primos[0:5]=[]\n",
    "print(\"Después: \",primos)"
   ]
  },
  {
   "cell_type": "code",
   "execution_count": null,
   "metadata": {},
   "outputs": [],
   "source": [
    "primos10=[2,3,5,7]\n",
    "primos1020=[11,13,17,19]\n",
    "primos2030=[23,29]"
   ]
  },
  {
   "cell_type": "code",
   "execution_count": null,
   "metadata": {},
   "outputs": [],
   "source": [
    "primos1020.extend(primos2030)\n",
    "primos1020\n",
    "primos10.extend(primos1020)"
   ]
  },
  {
   "cell_type": "code",
   "execution_count": null,
   "metadata": {},
   "outputs": [],
   "source": [
    "print(primos10)"
   ]
  },
  {
   "cell_type": "code",
   "execution_count": null,
   "metadata": {},
   "outputs": [],
   "source": [
    "primos.append(17)\n",
    "primos"
   ]
  },
  {
   "cell_type": "code",
   "execution_count": null,
   "metadata": {},
   "outputs": [],
   "source": [
    "primos.index(17)"
   ]
  },
  {
   "cell_type": "code",
   "execution_count": null,
   "metadata": {},
   "outputs": [],
   "source": [
    "primos.remove(17)"
   ]
  },
  {
   "cell_type": "code",
   "execution_count": null,
   "metadata": {},
   "outputs": [],
   "source": [
    "primos.append()"
   ]
  },
  {
   "cell_type": "code",
   "execution_count": null,
   "metadata": {},
   "outputs": [],
   "source": [
    "primos"
   ]
  },
  {
   "cell_type": "markdown",
   "metadata": {},
   "source": [
    "También se hacen listas de listas, se conocen como arreglos y si todas las listas tienen la misma cantidad de elementos las llamamos matrices:"
   ]
  },
  {
   "cell_type": "code",
   "execution_count": null,
   "metadata": {},
   "outputs": [],
   "source": [
    "Cel=[[7,8,9],[4,5,6],[1,2,3]]"
   ]
  },
  {
   "cell_type": "code",
   "execution_count": null,
   "metadata": {},
   "outputs": [],
   "source": [
    "print(Cel)"
   ]
  },
  {
   "cell_type": "code",
   "execution_count": null,
   "metadata": {},
   "outputs": [],
   "source": [
    "Cel[0]"
   ]
  },
  {
   "cell_type": "code",
   "execution_count": null,
   "metadata": {},
   "outputs": [],
   "source": [
    "Cel[0][0]"
   ]
  },
  {
   "cell_type": "code",
   "execution_count": null,
   "metadata": {},
   "outputs": [],
   "source": [
    "Saludo=[\"Hola\",\"Qué tal\"]\n",
    "Despido=[\"Adios\",\"Feliz día\"]"
   ]
  }
 ],
 "metadata": {
  "colab": {
   "collapsed_sections": [
    "-MlSHN16Bg8-",
    "scclT03UHVrm",
    "qAqnr4i70sLy",
    "OqFH478Xza5l",
    "ivDxEY5J3EXW",
    "wspqLphleQ07",
    "jsYP__7Q7y6j",
    "4y3X0kbfHXzW"
   ],
   "name": "1. Introducción a Python.ipynb",
   "provenance": [],
   "version": "0.3.2"
  },
  "kernelspec": {
   "display_name": "Python 3",
   "language": "python",
   "name": "python3"
  },
  "language_info": {
   "codemirror_mode": {
    "name": "ipython",
    "version": 3
   },
   "file_extension": ".py",
   "mimetype": "text/x-python",
   "name": "python",
   "nbconvert_exporter": "python",
   "pygments_lexer": "ipython3",
   "version": "3.8.5"
  },
  "toc": {
   "base_numbering": 1,
   "nav_menu": {},
   "number_sections": false,
   "sideBar": true,
   "skip_h1_title": false,
   "title_cell": "Table of Contents",
   "title_sidebar": "Contents",
   "toc_cell": false,
   "toc_position": {},
   "toc_section_display": true,
   "toc_window_display": false
  }
 },
 "nbformat": 4,
 "nbformat_minor": 4
}
